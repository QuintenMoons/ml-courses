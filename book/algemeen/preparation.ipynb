{
    "cells": [
        {
            "cell_type": "markdown",
            "id": "a154ef0b",
            "metadata": {},
            "source": [
                "# Voorbereiding\n",
                "\n",
                "Om optimaal van dit cursusmateriaal gebruik te maken is het sterk aangeraden om deze git repository te _forken_: [https://github.com/ap-mdi-it/ml-courses](https://github.com/ap-mdi-it/ml-courses).\n",
                "\n",
                ":::{important}\n",
                "Voor Windows gebruikers raden we aan om gebruik te maken van [Windows Subsystem for Linux (WSL)](https://learn.microsoft.com/en-us/windows/wsl/install).\n",
                ":::\n",
                "\n",
                "1. Maak een gratis account aan op [GitHub](https://github.com/).\n",
                "2. [Installeer Git op je PC](https://git-scm.com/book/en/v2/Getting-Started-Installing-Git) (Linux/WSL of MacOS).\n",
                "3. Ga naar [https://github.com/ap-mdi-it/ml-courses](https://github.com/ap-mdi-it/ml-courses) en creëer een [_fork_](https://docs.github.com/en/pull-requests/collaborating-with-pull-requests/working-with-forks/fork-a-repo) onder je eigen account.\n",
                "4. Download de repository via het `git clone https://github.com/YOUR-USERNAME/ml-courses.git` commando ([doc](https://docs.github.com/en/repositories/creating-and-managing-repositories/cloning-a-repository)).\n",
                "5. Open een terminal, `cd` naar de gekloonde repository en run: `git remote add upstream https://github.com/ap-mdi-it/ml-courses.git`\n",
                "6. Installeer [Visual Studio Code](https://code.visualstudio.com/) (Linux/WSL of MacOS).\n",
                "7. [Installeer Docker (Desktop) op je PC](https://docs.docker.com/desktop/)\n",
                "8. In VSCode, installeer je volgende extensie: [Dev Containers](https://marketplace.visualstudio.com/items?itemName=ms-vscode-remote.remote-containers)\n",
                "\n",
                "In VSCode navigeer je naar de folder van de gekloonde repository. Normaal gezien verschijnt er een pop-up met de mogelijkheid \"Reopen in Container\"  \n",
                "  \n",
                "![](../../img/vscode_devcontainer1.png)  \n",
                "  \n",
                "Als alternatief kan je ook via het menu hetzelfde bereiken.  \n",
                "  \n",
                "![](../../img/vscode_devcontainer2.png)\n",
                "  \n",
                ":::{important}\n",
                "De eerste keer dat je de repository opent in een Dev Container wordt er ook de container image gebouwd. Dit kan even duren. De volgende keer dat je de Dev Container opent zal dit heel snel gaan, zolang je de image niet verwijderd of niet expliciet het commando geeft om die te _rebuilden_. \n",
                ":::\n",
                "\n",
                ":::{warning}\n",
                "Deze repository is gebaseerd op [substrate](https://github.com/superlinear-ai/substrate) template. Het Python package management gebeurt via [`uv`](https://docs.astral.sh/uv/) (en dus niet via een `requirements.txt` file, Conda , Poetry, ...). Als je zelf packages wilt toevoegen, doe dit dan bijvoorbeeld **_niet_** via `pip install` maar `uv add`. \n",
                ":::"
            ]
        },
        {
            "cell_type": "markdown",
            "id": "64b6d16b",
            "metadata": {},
            "source": []
        }
    ],
    "metadata": {
        "language_info": {
            "name": "python"
        }
    },
    "nbformat": 4,
    "nbformat_minor": 5
}
