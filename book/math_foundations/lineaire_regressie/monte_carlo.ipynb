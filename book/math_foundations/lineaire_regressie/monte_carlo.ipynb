{
    "cells": [
        {
            "cell_type": "markdown",
            "id": "185ec471",
            "metadata": {},
            "source": [
                "# Monte Carlo sampling \n",
                "Als alternatief voor _grid search_ zouden we via _sampling_ kunnen werken.\n",
                "\n",
                "1. We starten met een eerste berekende gok voor de parameters en berekenen de $SSE$ _loss_ bij de start\n",
                "2. Daarna itereren we (30k keer) over volgende stappen:\n",
                "    - We nemen een sample uit een normale verdeling met gemiddelde $0$ om een kleine aanpassing te doen aan de parameterschattingen (in positieve of negatieve zin).\n",
                "    - We zorgen dat de bijgewerkte schattingen binnen een realistisch interval blijven.\n",
                "    - We berekenen de $SSE$ _loss_ opnieuw. Als de nieuwe $SSE$ is gedaald, behouden we de nieuwe parameterwaarden. In het andere geval verwerpen we ze."
            ]
        },
        {
            "cell_type": "code",
            "execution_count": 1,
            "id": "cbf47075",
            "metadata": {},
            "outputs": [],
            "source": [
                "import numpy as np\n",
                "\n",
                "from ml_courses.sim.monte_carlo_tips import MonteCarloTipsSimulation"
            ]
        },
        {
            "cell_type": "code",
            "execution_count": 2,
            "id": "5bafec77",
            "metadata": {},
            "outputs": [
                {
                    "name": "stdout",
                    "output_type": "stream",
                    "text": [
                        "Current SSE loss: 472.96 (with guess: $4.14 + 10.7% × order)\n",
                        "Sample     1: Tip = $4.14 + 10.7% × Order Total, loss=472.8\n",
                        "Sample  1000: Tip = $4.07 + 6.8% × Order Total, loss=303.0\n",
                        "Sample  2000: Tip = $4.00 + 2.9% × Order Total, loss=181.2\n",
                        "Sample  3000: Tip = $3.93 + 0.0% × Order Total, loss=120.2\n",
                        "Sample  4000: Tip = $3.80 + 0.0% × Order Total, loss=104.2\n",
                        "Sample  5000: Tip = $3.65 + 0.0% × Order Total, loss=88.5\n",
                        "Sample  6000: Tip = $3.50 + 0.0% × Order Total, loss=75.2\n",
                        "Sample  7000: Tip = $3.35 + 0.0% × Order Total, loss=63.7\n",
                        "Sample  8000: Tip = $3.19 + 0.0% × Order Total, loss=54.4\n",
                        "Sample  9000: Tip = $3.02 + 0.1% × Order Total, loss=46.7\n",
                        "Sample 10000: Tip = $2.84 + 0.9% × Order Total, loss=40.4\n",
                        "Sample 11000: Tip = $2.64 + 2.0% × Order Total, loss=34.2\n",
                        "Sample 12000: Tip = $2.45 + 3.2% × Order Total, loss=28.5\n",
                        "Sample 13000: Tip = $2.26 + 4.3% × Order Total, loss=23.5\n",
                        "Sample 14000: Tip = $2.07 + 5.5% × Order Total, loss=19.1\n",
                        "Sample 15000: Tip = $1.87 + 6.6% × Order Total, loss=15.0\n",
                        "Sample 16000: Tip = $1.67 + 7.7% × Order Total, loss=11.6\n",
                        "Sample 17000: Tip = $1.48 + 8.8% × Order Total, loss=8.7\n",
                        "Sample 18000: Tip = $1.31 + 9.9% × Order Total, loss=6.6\n",
                        "Sample 19000: Tip = $1.12 + 10.9% × Order Total, loss=4.8\n",
                        "Sample 20000: Tip = $0.94 + 12.0% × Order Total, loss=3.6\n",
                        "Sample 21000: Tip = $0.76 + 13.1% × Order Total, loss=2.8\n",
                        "Sample 22000: Tip = $0.59 + 14.1% × Order Total, loss=2.5\n",
                        "Sample 23000: Tip = $0.56 + 14.3% × Order Total, loss=2.5\n",
                        "Sample 24000: Tip = $0.56 + 14.3% × Order Total, loss=2.5\n",
                        "Sample 25000: Tip = $0.56 + 14.3% × Order Total, loss=2.5\n",
                        "Sample 26000: Tip = $0.56 + 14.3% × Order Total, loss=2.5\n",
                        "Sample 27000: Tip = $0.56 + 14.3% × Order Total, loss=2.5\n",
                        "Sample 28000: Tip = $0.56 + 14.3% × Order Total, loss=2.5\n",
                        "Sample 29000: Tip = $0.56 + 14.3% × Order Total, loss=2.5\n",
                        "Sample 30000: Tip = $0.56 + 14.3% × Order Total, loss=2.5\n",
                        "\n",
                        "✅ Finished! Accepted 33.7% of proposed changes\n"
                    ]
                }
            ],
            "source": [
                "# Generate data\n",
                "sim = MonteCarloTipsSimulation()\n",
                "\n",
                "# Random number generator for reproducibility\n",
                "rng = np.random.default_rng(67)\n",
                "# rng = np.random.default_rng(123)\n",
                "\n",
                "# Initial guesses\n",
                "b1 = rng.uniform(0, 10)  # Base tip: Between $0 and $10\n",
                "b2 = rng.uniform(0.05, 0.50)  # Tip rate: Between 5% and 50%\n",
                "\n",
                "# Initial SSE loss\n",
                "current_loss = sim.calculate_loss(b1, b2, sim.order_totals, sim.observed_tips)\n",
                "print(f\"Current SSE loss: {current_loss:.2f} (with guess: ${b1:.2f} + {b2:.1%} × order)\")\n",
                "\n",
                "# Containers to keep track of all our attempts\n",
                "b1_samples = []\n",
                "b2_samples = []\n",
                "loss_samples = []\n",
                "\n",
                "n_accepted = 0  # Count how many proposals we accepted\n",
                "n_samples = 30000  # Total number of samples to draw\n",
                "step_size = 0.0001  # How big of a step to take when proposing new\n",
                "\n",
                "for i in range(n_samples):\n",
                "    # Propose slight changes to our current best guess\n",
                "    b1_new = b1 + rng.normal(0, step_size * 5)  # Base tip can vary more\n",
                "    b2_new = b2 + rng.normal(0, step_size)\n",
                "\n",
                "    # Keep parameters reasonable (tip rate: 0-50%, base tip: $0-5)\n",
                "    b1_new = np.clip(b1_new, 0, 50)\n",
                "    b2_new = np.clip(b2_new, 0, 1.0)\n",
                "\n",
                "    new_loss = sim.calculate_loss(b1_new, b2_new, sim.order_totals, sim.observed_tips)\n",
                "\n",
                "    # Decide whether this new relationship is worth keeping\n",
                "    accept = False\n",
                "    if new_loss < current_loss:\n",
                "        # This predicts tips better - definitely keep it!\n",
                "        accept = True\n",
                "\n",
                "    if accept:\n",
                "        b1 = b1_new\n",
                "        b2 = b2_new\n",
                "        current_loss = new_loss\n",
                "        n_accepted += 1\n",
                "\n",
                "    # Record our current best guess (whether we moved or stayed)\n",
                "    b1_samples.append(b1)\n",
                "    b2_samples.append(b2)\n",
                "    loss_samples.append(current_loss)\n",
                "\n",
                "    # Show progress\n",
                "    if i == 0 or (i + 1) % 1000 == 0:\n",
                "        tip_pct = b2 * 100\n",
                "        # print(f\"Sample {i + 1:5d}: {tip_pct:.1f}% + ${b1:.2f} base, loss={current_loss:.1f}\")\n",
                "        print(\n",
                "            f\"Sample {i + 1:5d}: Tip = ${b1:.2f} + {b2:.1%} × Order Total, loss={current_loss:.1f}\"\n",
                "        )\n",
                "\n",
                "acceptance_rate = n_accepted / n_samples\n",
                "print(f\"\\n✅ Finished! Accepted {acceptance_rate:.1%} of proposed changes\")"
            ]
        },
        {
            "cell_type": "markdown",
            "id": "9d940407",
            "metadata": {},
            "source": [
                "## Visualisatie van het $SSE$ oppervlak\n",
                "\n",
                "Nu we de Monte Carlo sampling hebben uitgevoerd, kunnen we stappen visualiseren op het $SSE$ oppervlak. Zo zien we hoe het algoritme \"bergafwaarts\" beweegt naar het minimum."
            ]
        },
        {
            "cell_type": "code",
            "execution_count": 4,
            "id": "visualization_cell",
            "metadata": {},
            "outputs": [
                {
                    "data": {
                        "application/vnd.plotly.v1+json": {
                            "config": {
                                "plotlyServerURL": "https://plot.ly"
                            },
                            "data": [
                                {
                                    "colorbar": {
                                        "title": {
                                            "text": "SSE"
                                        },
                                        "x": -0.2
                                    },
                                    "colorscale": [
                                        [
                                            0,
                                            "rgb(5,48,97)"
                                        ],
                                        [
                                            0.1,
                                            "rgb(33,102,172)"
                                        ],
                                        [
                                            0.2,
                                            "rgb(67,147,195)"
                                        ],
                                        [
                                            0.3,
                                            "rgb(146,197,222)"
                                        ],
                                        [
                                            0.4,
                                            "rgb(209,229,240)"
                                        ],
                                        [
                                            0.5,
                                            "rgb(247,247,247)"
                                        ],
                                        [
                                            0.6,
                                            "rgb(253,219,199)"
                                        ],
                                        [
                                            0.7,
                                            "rgb(244,165,130)"
                                        ],
                                        [
                                            0.8,
                                            "rgb(214,96,77)"
                                        ],
                                        [
                                            0.9,
                                            "rgb(178,24,43)"
                                        ],
                                        [
                                            1,
                                            "rgb(103,0,31)"
                                        ]
                                    ],
                                    "contours": {
                                        "z": {
                                            "highlightcolor": "limegreen",
                                            "project": {
                                                "z": true
                                            },
                                            "show": true,
                                            "usecolormap": true
                                        }
                                    },
                                    "hovertemplate": "<b>Parameters:</b><br>bias: %{x:.3f}<br>slope: %{y:.3f}<br>SSE: %{z:.3f}<br><extra></extra>",
                                    "name": "SSE Surface",
                                    "showscale": true,
                                    "type": "surface",
                                    "x": {
                                        "bdata": "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",
                                        "dtype": "f8",
                                        "shape": "40, 40"
                                    },
                                    "y": {
                                        "bdata": "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",
                                        "dtype": "f8",
                                        "shape": "40, 40"
                                    },
                                    "z": {
                                        "bdata": "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",
                                        "dtype": "f8",
                                        "shape": "40, 40"
                                    }
                                },
                                {
                                    "hovertemplate": "<b>Optimization Step:</b><br>bias: %{x:.3f}<br>slope: %{y:.3f}<br>SSE: %{z:.3f}<br><extra></extra>",
                                    "line": {
                                        "color": "rgba(100, 100, 100, 0.5)",
                                        "width": 2
                                    },
                                    "marker": {
                                        "color": {
                                            "bdata": "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",
                                            "dtype": "f8"
                                        },
                                        "colorscale": [
                                            [
                                                0,
                                                "rgb(49,54,149)"
                                            ],
                                            [
                                                0.1,
                                                "rgb(69,117,180)"
                                            ],
                                            [
                                                0.2,
                                                "rgb(116,173,209)"
                                            ],
                                            [
                                                0.3,
                                                "rgb(171,217,233)"
                                            ],
                                            [
                                                0.4,
                                                "rgb(224,243,248)"
                                            ],
                                            [
                                                0.5,
                                                "rgb(255,255,191)"
                                            ],
                                            [
                                                0.6,
                                                "rgb(254,224,144)"
                                            ],
                                            [
                                                0.7,
                                                "rgb(253,174,97)"
                                            ],
                                            [
                                                0.8,
                                                "rgb(244,109,67)"
                                            ],
                                            [
                                                0.9,
                                                "rgb(215,48,39)"
                                            ],
                                            [
                                                1,
                                                "rgb(165,0,38)"
                                            ]
                                        ],
                                        "opacity": 0.7,
                                        "showscale": false,
                                        "size": 3
                                    },
                                    "mode": "markers+lines",
                                    "name": "Optimization Path",
                                    "type": "scatter3d",
                                    "x": {
                                        "bdata": "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",
                                        "dtype": "f8"
                                    },
                                    "y": {
                                        "bdata": "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",
                                        "dtype": "f8"
                                    },
                                    "z": {
                                        "bdata": "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",
                                        "dtype": "f8"
                                    }
                                },
                                {
                                    "hovertemplate": "<b>Starting Point:</b><br>bias: %{x:.3f}<br>slope: %{y:.3f}<br>SSE: %{z:.3f}<br><extra></extra>",
                                    "marker": {
                                        "color": "red",
                                        "size": 8,
                                        "symbol": "diamond"
                                    },
                                    "mode": "markers",
                                    "name": "Start Point",
                                    "type": "scatter3d",
                                    "x": [
                                        4.143258876700156
                                    ],
                                    "y": [
                                        0.10708462492942031
                                    ],
                                    "z": [
                                        472.7749001029138
                                    ]
                                },
                                {
                                    "hovertemplate": "<b>Final Point:</b><br>bias: %{x:.3f}<br>slope: %{y:.3f}<br>SSE: %{z:.3f}<br><extra></extra>",
                                    "marker": {
                                        "color": "blue",
                                        "size": 8,
                                        "symbol": "diamond"
                                    },
                                    "mode": "markers",
                                    "name": "End Point",
                                    "type": "scatter3d",
                                    "x": [
                                        0.5590753964134051
                                    ],
                                    "y": [
                                        0.14261650608762413
                                    ],
                                    "z": [
                                        2.4838901339001866
                                    ]
                                },
                                {
                                    "hovertemplate": "<b>True Minimum:</b><br>bias: %{x:.3f}<br>slope: %{y:.3f}<br>SSE: %{z:.3f}<br><extra></extra>",
                                    "marker": {
                                        "color": "gold",
                                        "line": {
                                            "color": "black",
                                            "width": 2
                                        },
                                        "size": 10,
                                        "symbol": "diamond"
                                    },
                                    "mode": "markers",
                                    "name": "True Minimum",
                                    "type": "scatter3d",
                                    "x": [
                                        0.5
                                    ],
                                    "y": [
                                        0.15
                                    ],
                                    "z": [
                                        2.710780844546495
                                    ]
                                },
                                {
                                    "hovertemplate": "<b>Surface Minimum:</b><br>bias: %{x:.3f}<br>slope: %{y:.3f}<br>SSE: %{z:.3f}<br><extra></extra>",
                                    "marker": {
                                        "color": "limegreen",
                                        "line": {
                                            "color": "black",
                                            "width": 2
                                        },
                                        "size": 10,
                                        "symbol": "diamond"
                                    },
                                    "mode": "markers",
                                    "name": "Surface Minimum",
                                    "type": "scatter3d",
                                    "x": [
                                        0.5825411928308173
                                    ],
                                    "y": [
                                        0.13846153846153847
                                    ],
                                    "z": [
                                        2.588076808602219
                                    ]
                                }
                            ],
                            "layout": {
                                "height": 600,
                                "margin": {
                                    "b": 0,
                                    "l": 80,
                                    "r": 0,
                                    "t": 40
                                },
                                "scene": {
                                    "camera": {
                                        "eye": {
                                            "x": 1.5,
                                            "y": 1.5,
                                            "z": 1.5
                                        }
                                    },
                                    "xaxis": {
                                        "title": {
                                            "text": "bias"
                                        }
                                    },
                                    "yaxis": {
                                        "title": {
                                            "text": "slope"
                                        }
                                    },
                                    "zaxis": {
                                        "title": {
                                            "text": "SSE"
                                        }
                                    }
                                },
                                "template": {
                                    "data": {
                                        "bar": [
                                            {
                                                "error_x": {
                                                    "color": "#2a3f5f"
                                                },
                                                "error_y": {
                                                    "color": "#2a3f5f"
                                                },
                                                "marker": {
                                                    "line": {
                                                        "color": "#E5ECF6",
                                                        "width": 0.5
                                                    },
                                                    "pattern": {
                                                        "fillmode": "overlay",
                                                        "size": 10,
                                                        "solidity": 0.2
                                                    }
                                                },
                                                "type": "bar"
                                            }
                                        ],
                                        "barpolar": [
                                            {
                                                "marker": {
                                                    "line": {
                                                        "color": "#E5ECF6",
                                                        "width": 0.5
                                                    },
                                                    "pattern": {
                                                        "fillmode": "overlay",
                                                        "size": 10,
                                                        "solidity": 0.2
                                                    }
                                                },
                                                "type": "barpolar"
                                            }
                                        ],
                                        "carpet": [
                                            {
                                                "aaxis": {
                                                    "endlinecolor": "#2a3f5f",
                                                    "gridcolor": "white",
                                                    "linecolor": "white",
                                                    "minorgridcolor": "white",
                                                    "startlinecolor": "#2a3f5f"
                                                },
                                                "baxis": {
                                                    "endlinecolor": "#2a3f5f",
                                                    "gridcolor": "white",
                                                    "linecolor": "white",
                                                    "minorgridcolor": "white",
                                                    "startlinecolor": "#2a3f5f"
                                                },
                                                "type": "carpet"
                                            }
                                        ],
                                        "choropleth": [
                                            {
                                                "colorbar": {
                                                    "outlinewidth": 0,
                                                    "ticks": ""
                                                },
                                                "type": "choropleth"
                                            }
                                        ],
                                        "contour": [
                                            {
                                                "colorbar": {
                                                    "outlinewidth": 0,
                                                    "ticks": ""
                                                },
                                                "colorscale": [
                                                    [
                                                        0,
                                                        "#0d0887"
                                                    ],
                                                    [
                                                        0.1111111111111111,
                                                        "#46039f"
                                                    ],
                                                    [
                                                        0.2222222222222222,
                                                        "#7201a8"
                                                    ],
                                                    [
                                                        0.3333333333333333,
                                                        "#9c179e"
                                                    ],
                                                    [
                                                        0.4444444444444444,
                                                        "#bd3786"
                                                    ],
                                                    [
                                                        0.5555555555555556,
                                                        "#d8576b"
                                                    ],
                                                    [
                                                        0.6666666666666666,
                                                        "#ed7953"
                                                    ],
                                                    [
                                                        0.7777777777777778,
                                                        "#fb9f3a"
                                                    ],
                                                    [
                                                        0.8888888888888888,
                                                        "#fdca26"
                                                    ],
                                                    [
                                                        1,
                                                        "#f0f921"
                                                    ]
                                                ],
                                                "type": "contour"
                                            }
                                        ],
                                        "contourcarpet": [
                                            {
                                                "colorbar": {
                                                    "outlinewidth": 0,
                                                    "ticks": ""
                                                },
                                                "type": "contourcarpet"
                                            }
                                        ],
                                        "heatmap": [
                                            {
                                                "colorbar": {
                                                    "outlinewidth": 0,
                                                    "ticks": ""
                                                },
                                                "colorscale": [
                                                    [
                                                        0,
                                                        "#0d0887"
                                                    ],
                                                    [
                                                        0.1111111111111111,
                                                        "#46039f"
                                                    ],
                                                    [
                                                        0.2222222222222222,
                                                        "#7201a8"
                                                    ],
                                                    [
                                                        0.3333333333333333,
                                                        "#9c179e"
                                                    ],
                                                    [
                                                        0.4444444444444444,
                                                        "#bd3786"
                                                    ],
                                                    [
                                                        0.5555555555555556,
                                                        "#d8576b"
                                                    ],
                                                    [
                                                        0.6666666666666666,
                                                        "#ed7953"
                                                    ],
                                                    [
                                                        0.7777777777777778,
                                                        "#fb9f3a"
                                                    ],
                                                    [
                                                        0.8888888888888888,
                                                        "#fdca26"
                                                    ],
                                                    [
                                                        1,
                                                        "#f0f921"
                                                    ]
                                                ],
                                                "type": "heatmap"
                                            }
                                        ],
                                        "histogram": [
                                            {
                                                "marker": {
                                                    "pattern": {
                                                        "fillmode": "overlay",
                                                        "size": 10,
                                                        "solidity": 0.2
                                                    }
                                                },
                                                "type": "histogram"
                                            }
                                        ],
                                        "histogram2d": [
                                            {
                                                "colorbar": {
                                                    "outlinewidth": 0,
                                                    "ticks": ""
                                                },
                                                "colorscale": [
                                                    [
                                                        0,
                                                        "#0d0887"
                                                    ],
                                                    [
                                                        0.1111111111111111,
                                                        "#46039f"
                                                    ],
                                                    [
                                                        0.2222222222222222,
                                                        "#7201a8"
                                                    ],
                                                    [
                                                        0.3333333333333333,
                                                        "#9c179e"
                                                    ],
                                                    [
                                                        0.4444444444444444,
                                                        "#bd3786"
                                                    ],
                                                    [
                                                        0.5555555555555556,
                                                        "#d8576b"
                                                    ],
                                                    [
                                                        0.6666666666666666,
                                                        "#ed7953"
                                                    ],
                                                    [
                                                        0.7777777777777778,
                                                        "#fb9f3a"
                                                    ],
                                                    [
                                                        0.8888888888888888,
                                                        "#fdca26"
                                                    ],
                                                    [
                                                        1,
                                                        "#f0f921"
                                                    ]
                                                ],
                                                "type": "histogram2d"
                                            }
                                        ],
                                        "histogram2dcontour": [
                                            {
                                                "colorbar": {
                                                    "outlinewidth": 0,
                                                    "ticks": ""
                                                },
                                                "colorscale": [
                                                    [
                                                        0,
                                                        "#0d0887"
                                                    ],
                                                    [
                                                        0.1111111111111111,
                                                        "#46039f"
                                                    ],
                                                    [
                                                        0.2222222222222222,
                                                        "#7201a8"
                                                    ],
                                                    [
                                                        0.3333333333333333,
                                                        "#9c179e"
                                                    ],
                                                    [
                                                        0.4444444444444444,
                                                        "#bd3786"
                                                    ],
                                                    [
                                                        0.5555555555555556,
                                                        "#d8576b"
                                                    ],
                                                    [
                                                        0.6666666666666666,
                                                        "#ed7953"
                                                    ],
                                                    [
                                                        0.7777777777777778,
                                                        "#fb9f3a"
                                                    ],
                                                    [
                                                        0.8888888888888888,
                                                        "#fdca26"
                                                    ],
                                                    [
                                                        1,
                                                        "#f0f921"
                                                    ]
                                                ],
                                                "type": "histogram2dcontour"
                                            }
                                        ],
                                        "mesh3d": [
                                            {
                                                "colorbar": {
                                                    "outlinewidth": 0,
                                                    "ticks": ""
                                                },
                                                "type": "mesh3d"
                                            }
                                        ],
                                        "parcoords": [
                                            {
                                                "line": {
                                                    "colorbar": {
                                                        "outlinewidth": 0,
                                                        "ticks": ""
                                                    }
                                                },
                                                "type": "parcoords"
                                            }
                                        ],
                                        "pie": [
                                            {
                                                "automargin": true,
                                                "type": "pie"
                                            }
                                        ],
                                        "scatter": [
                                            {
                                                "fillpattern": {
                                                    "fillmode": "overlay",
                                                    "size": 10,
                                                    "solidity": 0.2
                                                },
                                                "type": "scatter"
                                            }
                                        ],
                                        "scatter3d": [
                                            {
                                                "line": {
                                                    "colorbar": {
                                                        "outlinewidth": 0,
                                                        "ticks": ""
                                                    }
                                                },
                                                "marker": {
                                                    "colorbar": {
                                                        "outlinewidth": 0,
                                                        "ticks": ""
                                                    }
                                                },
                                                "type": "scatter3d"
                                            }
                                        ],
                                        "scattercarpet": [
                                            {
                                                "marker": {
                                                    "colorbar": {
                                                        "outlinewidth": 0,
                                                        "ticks": ""
                                                    }
                                                },
                                                "type": "scattercarpet"
                                            }
                                        ],
                                        "scattergeo": [
                                            {
                                                "marker": {
                                                    "colorbar": {
                                                        "outlinewidth": 0,
                                                        "ticks": ""
                                                    }
                                                },
                                                "type": "scattergeo"
                                            }
                                        ],
                                        "scattergl": [
                                            {
                                                "marker": {
                                                    "colorbar": {
                                                        "outlinewidth": 0,
                                                        "ticks": ""
                                                    }
                                                },
                                                "type": "scattergl"
                                            }
                                        ],
                                        "scattermap": [
                                            {
                                                "marker": {
                                                    "colorbar": {
                                                        "outlinewidth": 0,
                                                        "ticks": ""
                                                    }
                                                },
                                                "type": "scattermap"
                                            }
                                        ],
                                        "scattermapbox": [
                                            {
                                                "marker": {
                                                    "colorbar": {
                                                        "outlinewidth": 0,
                                                        "ticks": ""
                                                    }
                                                },
                                                "type": "scattermapbox"
                                            }
                                        ],
                                        "scatterpolar": [
                                            {
                                                "marker": {
                                                    "colorbar": {
                                                        "outlinewidth": 0,
                                                        "ticks": ""
                                                    }
                                                },
                                                "type": "scatterpolar"
                                            }
                                        ],
                                        "scatterpolargl": [
                                            {
                                                "marker": {
                                                    "colorbar": {
                                                        "outlinewidth": 0,
                                                        "ticks": ""
                                                    }
                                                },
                                                "type": "scatterpolargl"
                                            }
                                        ],
                                        "scatterternary": [
                                            {
                                                "marker": {
                                                    "colorbar": {
                                                        "outlinewidth": 0,
                                                        "ticks": ""
                                                    }
                                                },
                                                "type": "scatterternary"
                                            }
                                        ],
                                        "surface": [
                                            {
                                                "colorbar": {
                                                    "outlinewidth": 0,
                                                    "ticks": ""
                                                },
                                                "colorscale": [
                                                    [
                                                        0,
                                                        "#0d0887"
                                                    ],
                                                    [
                                                        0.1111111111111111,
                                                        "#46039f"
                                                    ],
                                                    [
                                                        0.2222222222222222,
                                                        "#7201a8"
                                                    ],
                                                    [
                                                        0.3333333333333333,
                                                        "#9c179e"
                                                    ],
                                                    [
                                                        0.4444444444444444,
                                                        "#bd3786"
                                                    ],
                                                    [
                                                        0.5555555555555556,
                                                        "#d8576b"
                                                    ],
                                                    [
                                                        0.6666666666666666,
                                                        "#ed7953"
                                                    ],
                                                    [
                                                        0.7777777777777778,
                                                        "#fb9f3a"
                                                    ],
                                                    [
                                                        0.8888888888888888,
                                                        "#fdca26"
                                                    ],
                                                    [
                                                        1,
                                                        "#f0f921"
                                                    ]
                                                ],
                                                "type": "surface"
                                            }
                                        ],
                                        "table": [
                                            {
                                                "cells": {
                                                    "fill": {
                                                        "color": "#EBF0F8"
                                                    },
                                                    "line": {
                                                        "color": "white"
                                                    }
                                                },
                                                "header": {
                                                    "fill": {
                                                        "color": "#C8D4E3"
                                                    },
                                                    "line": {
                                                        "color": "white"
                                                    }
                                                },
                                                "type": "table"
                                            }
                                        ]
                                    },
                                    "layout": {
                                        "annotationdefaults": {
                                            "arrowcolor": "#2a3f5f",
                                            "arrowhead": 0,
                                            "arrowwidth": 1
                                        },
                                        "autotypenumbers": "strict",
                                        "coloraxis": {
                                            "colorbar": {
                                                "outlinewidth": 0,
                                                "ticks": ""
                                            }
                                        },
                                        "colorscale": {
                                            "diverging": [
                                                [
                                                    0,
                                                    "#8e0152"
                                                ],
                                                [
                                                    0.1,
                                                    "#c51b7d"
                                                ],
                                                [
                                                    0.2,
                                                    "#de77ae"
                                                ],
                                                [
                                                    0.3,
                                                    "#f1b6da"
                                                ],
                                                [
                                                    0.4,
                                                    "#fde0ef"
                                                ],
                                                [
                                                    0.5,
                                                    "#f7f7f7"
                                                ],
                                                [
                                                    0.6,
                                                    "#e6f5d0"
                                                ],
                                                [
                                                    0.7,
                                                    "#b8e186"
                                                ],
                                                [
                                                    0.8,
                                                    "#7fbc41"
                                                ],
                                                [
                                                    0.9,
                                                    "#4d9221"
                                                ],
                                                [
                                                    1,
                                                    "#276419"
                                                ]
                                            ],
                                            "sequential": [
                                                [
                                                    0,
                                                    "#0d0887"
                                                ],
                                                [
                                                    0.1111111111111111,
                                                    "#46039f"
                                                ],
                                                [
                                                    0.2222222222222222,
                                                    "#7201a8"
                                                ],
                                                [
                                                    0.3333333333333333,
                                                    "#9c179e"
                                                ],
                                                [
                                                    0.4444444444444444,
                                                    "#bd3786"
                                                ],
                                                [
                                                    0.5555555555555556,
                                                    "#d8576b"
                                                ],
                                                [
                                                    0.6666666666666666,
                                                    "#ed7953"
                                                ],
                                                [
                                                    0.7777777777777778,
                                                    "#fb9f3a"
                                                ],
                                                [
                                                    0.8888888888888888,
                                                    "#fdca26"
                                                ],
                                                [
                                                    1,
                                                    "#f0f921"
                                                ]
                                            ],
                                            "sequentialminus": [
                                                [
                                                    0,
                                                    "#0d0887"
                                                ],
                                                [
                                                    0.1111111111111111,
                                                    "#46039f"
                                                ],
                                                [
                                                    0.2222222222222222,
                                                    "#7201a8"
                                                ],
                                                [
                                                    0.3333333333333333,
                                                    "#9c179e"
                                                ],
                                                [
                                                    0.4444444444444444,
                                                    "#bd3786"
                                                ],
                                                [
                                                    0.5555555555555556,
                                                    "#d8576b"
                                                ],
                                                [
                                                    0.6666666666666666,
                                                    "#ed7953"
                                                ],
                                                [
                                                    0.7777777777777778,
                                                    "#fb9f3a"
                                                ],
                                                [
                                                    0.8888888888888888,
                                                    "#fdca26"
                                                ],
                                                [
                                                    1,
                                                    "#f0f921"
                                                ]
                                            ]
                                        },
                                        "colorway": [
                                            "#636efa",
                                            "#EF553B",
                                            "#00cc96",
                                            "#ab63fa",
                                            "#FFA15A",
                                            "#19d3f3",
                                            "#FF6692",
                                            "#B6E880",
                                            "#FF97FF",
                                            "#FECB52"
                                        ],
                                        "font": {
                                            "color": "#2a3f5f"
                                        },
                                        "geo": {
                                            "bgcolor": "white",
                                            "lakecolor": "white",
                                            "landcolor": "#E5ECF6",
                                            "showlakes": true,
                                            "showland": true,
                                            "subunitcolor": "white"
                                        },
                                        "hoverlabel": {
                                            "align": "left"
                                        },
                                        "hovermode": "closest",
                                        "mapbox": {
                                            "style": "light"
                                        },
                                        "paper_bgcolor": "white",
                                        "plot_bgcolor": "#E5ECF6",
                                        "polar": {
                                            "angularaxis": {
                                                "gridcolor": "white",
                                                "linecolor": "white",
                                                "ticks": ""
                                            },
                                            "bgcolor": "#E5ECF6",
                                            "radialaxis": {
                                                "gridcolor": "white",
                                                "linecolor": "white",
                                                "ticks": ""
                                            }
                                        },
                                        "scene": {
                                            "xaxis": {
                                                "backgroundcolor": "#E5ECF6",
                                                "gridcolor": "white",
                                                "gridwidth": 2,
                                                "linecolor": "white",
                                                "showbackground": true,
                                                "ticks": "",
                                                "zerolinecolor": "white"
                                            },
                                            "yaxis": {
                                                "backgroundcolor": "#E5ECF6",
                                                "gridcolor": "white",
                                                "gridwidth": 2,
                                                "linecolor": "white",
                                                "showbackground": true,
                                                "ticks": "",
                                                "zerolinecolor": "white"
                                            },
                                            "zaxis": {
                                                "backgroundcolor": "#E5ECF6",
                                                "gridcolor": "white",
                                                "gridwidth": 2,
                                                "linecolor": "white",
                                                "showbackground": true,
                                                "ticks": "",
                                                "zerolinecolor": "white"
                                            }
                                        },
                                        "shapedefaults": {
                                            "line": {
                                                "color": "#2a3f5f"
                                            }
                                        },
                                        "ternary": {
                                            "aaxis": {
                                                "gridcolor": "white",
                                                "linecolor": "white",
                                                "ticks": ""
                                            },
                                            "baxis": {
                                                "gridcolor": "white",
                                                "linecolor": "white",
                                                "ticks": ""
                                            },
                                            "bgcolor": "#E5ECF6",
                                            "caxis": {
                                                "gridcolor": "white",
                                                "linecolor": "white",
                                                "ticks": ""
                                            }
                                        },
                                        "title": {
                                            "x": 0.05
                                        },
                                        "xaxis": {
                                            "automargin": true,
                                            "gridcolor": "white",
                                            "linecolor": "white",
                                            "ticks": "",
                                            "title": {
                                                "standoff": 15
                                            },
                                            "zerolinecolor": "white",
                                            "zerolinewidth": 2
                                        },
                                        "yaxis": {
                                            "automargin": true,
                                            "gridcolor": "white",
                                            "linecolor": "white",
                                            "ticks": "",
                                            "title": {
                                                "standoff": 15
                                            },
                                            "zerolinecolor": "white",
                                            "zerolinewidth": 2
                                        }
                                    }
                                },
                                "title": {
                                    "font": {
                                        "size": 16
                                    },
                                    "text": "Linear Regression SSE Surface",
                                    "x": 0.5
                                },
                                "width": 800
                            }
                        }
                    },
                    "metadata": {},
                    "output_type": "display_data"
                }
            ],
            "source": [
                "from ml_courses.sim.linear_regression_sse_viz import LinearRegressionSSEVisualizer\n",
                "\n",
                "viz = LinearRegressionSSEVisualizer(\n",
                "    x_data=sim.order_totals,\n",
                "    y_data=sim.observed_tips,\n",
                "    true_bias=sim.true_b1,\n",
                "    true_slope=sim.true_b2,\n",
                ")\n",
                "\n",
                "fig = viz.create_3d_surface_plot(\n",
                "    bias_samples=np.array(b1_samples),\n",
                "    slope_samples=np.array(b2_samples),\n",
                "    loss_samples=np.array(loss_samples),\n",
                "    resolution=40,\n",
                ")\n",
                "fig.show()"
            ]
        },
        {
            "cell_type": "markdown",
            "id": "53670fc5",
            "metadata": {},
            "source": [
                "::: {tip}\n",
                "Probeer de Monte Carlo sampling ook eens met een andere _seed_ voor de random generator.\n",
                "``` python\n",
                "rng = np.random.default_rng(123)\n",
                "```\n",
                "Wat merk je?\n",
                ":::"
            ]
        },
        {
            "cell_type": "markdown",
            "id": "3aa1ede8",
            "metadata": {},
            "source": [
                "Hieronder herhalen we het naïeve Monte Carlo algorithme 10 keer en visualiseren we de resulterende regressielijnen."
            ]
        },
        {
            "cell_type": "code",
            "execution_count": 5,
            "id": "0f57ef8c",
            "metadata": {},
            "outputs": [
                {
                    "name": "stdout",
                    "output_type": "stream",
                    "text": [
                        "Estimated relationship: Tip = $5.75 + 0.0% × Order Total\n",
                        "Estimated relationship: Tip = $4.65 + 0.0% × Order Total\n",
                        "Estimated relationship: Tip = $0.56 + 14.3% × Order Total\n",
                        "Estimated relationship: Tip = $3.33 + 0.0% × Order Total\n",
                        "Estimated relationship: Tip = $5.60 + 0.0% × Order Total\n",
                        "Estimated relationship: Tip = $6.05 + 0.0% × Order Total\n",
                        "Estimated relationship: Tip = $0.56 + 14.3% × Order Total\n",
                        "Estimated relationship: Tip = $4.40 + 0.0% × Order Total\n",
                        "Estimated relationship: Tip = $0.56 + 14.3% × Order Total\n",
                        "Estimated relationship: Tip = $0.56 + 14.3% × Order Total\n"
                    ]
                }
            ],
            "source": [
                "b1_sims = []\n",
                "b2_sims = []\n",
                "\n",
                "for _ in range(10):\n",
                "    sim_run = sim.run_simulation()\n",
                "    print(\n",
                "        f\"Estimated relationship: Tip = ${sim_run['final_b1']:.2f} + {sim_run['final_b2']:.1%} × Order Total\"\n",
                "    )\n",
                "    b1_sims.append(sim_run[\"final_b1\"])\n",
                "    b2_sims.append(sim_run[\"final_b2\"])"
            ]
        },
        {
            "cell_type": "code",
            "execution_count": 6,
            "id": "d65aa6f4",
            "metadata": {},
            "outputs": [],
            "source": [
                "import matplotlib.pyplot as plt"
            ]
        },
        {
            "cell_type": "code",
            "execution_count": 7,
            "id": "a49e82c0",
            "metadata": {},
            "outputs": [
                {
                    "data": {
                        "image/png": "[encoded data removed]",
                        "text/plain": [
                            "<Figure size 1000x600 with 1 Axes>"
                        ]
                    },
                    "metadata": {},
                    "output_type": "display_data"
                }
            ],
            "source": [
                "# Plot the simulations\n",
                "plt.figure(figsize=(10, 6))\n",
                "plt.scatter(\n",
                "    sim.order_totals,\n",
                "    sim.observed_tips,\n",
                "    alpha=0.7,\n",
                "    color=\"saddlebrown\",\n",
                "    s=60,\n",
                "    edgecolor=\"white\",\n",
                "    linewidth=0.5,\n",
                "    label=\"Customer tips\",\n",
                ")\n",
                "plt.plot(\n",
                "    sim.order_totals,\n",
                "    sim.true_tips,\n",
                "    \"r--\",\n",
                "    linewidth=2,\n",
                "    label=f\"True relationship (${sim.true_b1:.2f} + {sim.true_b2:.1%} × order)\",\n",
                ")\n",
                "\n",
                "colors = [\n",
                "    \"tab:blue\",\n",
                "    \"tab:orange\",\n",
                "    \"tab:green\",\n",
                "    \"tab:red\",\n",
                "    \"tab:purple\",\n",
                "    \"tab:brown\",\n",
                "    \"tab:pink\",\n",
                "    \"tab:gray\",\n",
                "    \"tab:olive\",\n",
                "    \"tab:cyan\",\n",
                "]\n",
                "\n",
                "for i, (b1_sim, b2_sim) in enumerate(zip(b1_sims, b2_sims, strict=False)):\n",
                "    sim_tips = b1_sim + b2_sim * sim.order_totals\n",
                "    plt.plot(\n",
                "        sim.order_totals,\n",
                "        sim_tips,\n",
                "        color=colors[i],\n",
                "        linestyle=\"-\",\n",
                "        alpha=0.3,\n",
                "        linewidth=1,\n",
                "        label=f\"MC {i + 1}: ${b1_sim:.2f} + {b2_sim:.1%} × order\",\n",
                "    )\n",
                "\n",
                "plt.xlabel(\"Order Total ($)\")\n",
                "plt.ylabel(\"Tip Amount ($)\")\n",
                "plt.title(\"☕ Order Size vs Tips\")\n",
                "plt.legend(bbox_to_anchor=(1.05, 1), loc=\"upper left\")\n",
                "plt.grid(True, alpha=0.3)\n",
                "plt.tight_layout()\n",
                "plt.show()"
            ]
        },
        {
            "cell_type": "markdown",
            "id": "8da0f801",
            "metadata": {},
            "source": [
                "De simpele Monte Carlo benadering levert duidelijk onstabiele resultaten op. In de volgende secties bekijken we betere alternatieven op basis van _calculus_. Daarvoor behandelen we eerst het concept van de **gradient** van de _loss_ functie."
            ]
        }
    ],
    "metadata": {
        "kernelspec": {
            "display_name": "ml-courses",
            "language": "python",
            "name": "python3"
        },
        "language_info": {
            "codemirror_mode": {
                "name": "ipython",
                "version": 3
            },
            "file_extension": ".py",
            "mimetype": "text/x-python",
            "name": "python",
            "nbconvert_exporter": "python",
            "pygments_lexer": "ipython3",
            "version": "3.10.18"
        }
    },
    "nbformat": 4,
    "nbformat_minor": 5
}
