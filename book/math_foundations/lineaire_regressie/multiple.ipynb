{
 "cells": [
  {
   "cell_type": "markdown",
   "id": "49f1392f",
   "metadata": {},
   "source": [
    "# Multiple regressie\n",
    "\n",
    "Tot nu toe hebben gewerkt met een simpel lineair regressiemodel met maar één _predictor_ of _feature_ $\\pmb{x}$ om de target waarden $\\pmb{y}$ te voorspellen.\n",
    "In het algemene geval $\\pmb{y}=\\pmb{X}\\pmb{b}+\\pmb{e}$, kunnen we de voorspellingen echter koppelen aan meerdere features in de _design- of feature-matrix_ $\\pmb{X}$. Hier illustreren we de _OLS_ en _gradient descent_ oplossing in het geval waarbij we drie features hebben.\n",
    "  \n",
    "## Data simulatie\n",
    "We blijven bij dezelfde simulatie van de fooi die klanten bovenop een bestelling in een koffiehuis betalen zodat we exact weten wat de optimale parameterwaarden zijn waar we naar op zoek zijn. We simuleren nu een situatie waarbij de fooi tot stand komt door een lineaire combinatie van ($\\pmb{x_2}$) het order volume (in dollars), ($\\pmb{x_3}$) de leeftijd van de klant (in jaren) en ($\\pmb{x_4}$) de hoeveelheid regen (millimeter/dag):\n",
    "\n",
    "$$\n",
    "\\begin{align}\n",
    "\\pmb{y} &= b_1 + b_2\\pmb{x_2} + b_3\\pmb{x_3} + b_4\\pmb{x_4} + \\pmb{e} \\cr\n",
    "E(\\pmb{e}) &= \\pmb{e} \\cr\n",
    "E(\\pmb{y}) &= \\pmb{X}\\pmb{b} \\cr\n",
    "\\pmb{X} &= \\begin{bmatrix}\n",
    "1 & x_{1,2} & x_{1,3} & x_{1,4} \\cr\n",
    "1 & x_{2,2} & x_{2,3} & x_{2,4}\\cr\n",
    "\\vdots & \\vdots \\cr\n",
    "1 & x_{m,2} & x_{m,3} & x_{m,4} \\cr\n",
    "\\end{bmatrix} \\cr\n",
    "\\pmb{b} &= \\begin{bmatrix}\n",
    "b_1 \\cr\n",
    "b_2 \\cr\n",
    "b_3 \\cr\n",
    "b_4\n",
    "\\end{bmatrix}\n",
    "\\end{align}\n",
    "$$\n",
    "\n",
    "waarbij we het _intercept_ of de _bias_ termen $x_{i,1} = 1$ weglaten in de notatie.\n",
    "  \n",
    "Voor de simulatie gebruiken we concreet:\n",
    "\n",
    "$$\n",
    "\\begin{align}\n",
    "b_1 &= 0.50 \\cr\n",
    "b_2 &= 0.15 \\cr\n",
    "b_3 &= 0.05 \\cr\n",
    "b_4 &= -0.003 \\cr\n",
    "\\cr\n",
    "e_i &\\sim N(0, 0.30) \\cr\n",
    "\\cr\n",
    "x_{i,2} &\\sim U(3, 25) \\cr\n",
    "x_{i,3} &\\sim U(20, 70) \\cr\n",
    "x_{i,4} &\\sim U(0, 200)\n",
    "\\end{align}\n",
    "$$"
   ]
  },
  {
   "cell_type": "code",
   "execution_count": 5,
   "id": "be9478f6",
   "metadata": {},
   "outputs": [],
   "source": [
    "import numpy as np\n",
    "import pandas as pd\n",
    "import plotly.express as px\n",
    "from plotly.subplots import make_subplots\n",
    "from sklearn.preprocessing import StandardScaler"
   ]
  },
  {
   "cell_type": "code",
   "execution_count": 2,
   "id": "9b5c96d9",
   "metadata": {},
   "outputs": [],
   "source": [
    "rng = np.random.default_rng(42)  # Create a random number generator\n",
    "\n",
    "# Simulate realistic coffee shop data\n",
    "n_customers = 50\n",
    "\n",
    "# True relationship:\n",
    "b1 = 0.50\n",
    "b2 = 0.15\n",
    "b3 = 0.05\n",
    "b4 = -0.003\n",
    "noise_std = 0.30\n",
    "\n",
    "# Generate feature values\n",
    "order_totals = rng.uniform(3, 25, n_customers)\n",
    "age = rng.uniform(0, 70, n_customers)\n",
    "rain = rng.uniform(0, 200, n_customers)\n",
    "\n",
    "# Generate corresponding tip amounts with realistic noise\n",
    "true_tips = b1 + b2 * order_totals + b3 * age + b4 * rain\n",
    "tip_noise = rng.normal(0, noise_std, n_customers)\n",
    "observed_tips = true_tips + tip_noise\n",
    "observed_tips = np.maximum(0, observed_tips)  # Tips can't be negative"
   ]
  },
  {
   "cell_type": "code",
   "execution_count": 3,
   "id": "6fe69e1e",
   "metadata": {},
   "outputs": [
    {
     "data": {
      "application/vnd.plotly.v1+json": {
       "config": {
        "plotlyServerURL": "https://plot.ly"
       },
       "data": [
        {
         "hovertemplate": "Order Total=%{x}<br>Tip=%{y}<extra></extra>",
         "legendgroup": "",
         "marker": {
          "color": "#636efa",
          "symbol": "circle"
         },
         "mode": "markers",
         "name": "",
         "orientation": "v",
         "showlegend": false,
         "type": "scatter",
         "x": {
          "bdata": "qfafo+sGNEAXzcjYhk8pQL2GtZyf4zVADOQ1pZNXMkC0ukmWoEkUQCGVaYC0djhAwi8aIr2+M0DUyBE6HUs0QPgpvdckRhdA7PIwryXRKUD3A/o/q1AmQB4EyFiKYzdAyTFHlD8qMUBm2qYcyxk1QLb/zxaegilA9KN34jv/H0DSDYjR12YuQF8iVtasnRFA5eGyADg1NUC2FmatiOUwQJKixdaMrTNAsNLGaGGZJUCGfl+l+Fo4QBzOQ+MOpjZACupYGdsfNEAC36Ig0iAdQAkDBDgliSpAfJxHWp+1D0AdGeBr1ZMZQLFaMoTuBjJArUtIHoBiM0DuEMrKA0k4QNATHsoYViRA9NdTrttMJkDuW9+fE6kqQBIFtihprBxAHr3oJd9uF0B9NC4dV+4qQKcONVbQ9x9ARGuCdWS8MUCaX2FHFDwpQP+I+8KkUTVA1do3n+RnMkApRwBzf74jQH/kCIZJTzVAJJMB0G60NEDQCEF0jgwnQA+Ep066ryJAMEXDjtADMkD4CCgNWEwYQA==",
          "dtype": "f8"
         },
         "xaxis": "x",
         "y": {
          "bdata": "2E/zibjTD0D2yUznLWkAQDmrD41tUhlAUfzahI6+EkCPcLz72xIGQMN+ZZ/nTRlAsZDS2vwgE0CMHQKhR5sXQOCELf80fv0/qkopAh65BEAr8CXA8VsQQInZOxaWuBRA5Z/oP+RREkDlNgOFKxwXQFhVjL1FqxRAhyr34igEB0AL9ADSmSISQIY1r4qQWfg/rhE/Bl55DkBsw5+VWjURQFlkSac5cQ5AHNARuGIuCUCc2ijHi5IbQKH5uNfVZhJApgsit3Z9DEBDtNis9Jv+P/9RunXefQdAZXQAKLUCC0AAwG7mSZAOQFMuaQGNkhZA55WYWSRhFkDzkfaDHGIUQOKtUlZ6qxNAq8SiVLvqBEDPULNnQc8AQFhNm8hEqwFAJD3CbhWvC0AsueeIIDsRQN5GDfXJk/0/6NvYZP78EUDPaBHJN8kBQDnbX4HfVxlAVP6ELngbE0AN7K/XBVcHQHXAOiQqaRFAFRt7TR5cGEDPHIKwNLYHQAmrhj36Cfo/OaEyMfhbDEBfDN/d/ZUSQA==",
          "dtype": "f8"
         },
         "yaxis": "y"
        },
        {
         "hovertemplate": "<b>OLS trendline</b><br>Tip = 0.169632 * Order Total + 1.47188<br>R<sup>2</sup>=0.534067<br><br>Order Total=%{x}<br>Tip=%{y} <b>(trend)</b><extra></extra>",
         "legendgroup": "",
         "line": {
          "color": "red"
         },
         "marker": {
          "color": "#636efa",
          "symbol": "circle"
         },
         "mode": "lines",
         "name": "",
         "showlegend": false,
         "type": "scatter",
         "x": {
          "bdata": "fJxHWp+1D0BfIlbWrJ0RQLS6SZagSRRA+Cm91yRGF0Aevegl324XQPgIKA1YTBhAHRnga9WTGUASBbYoaawcQALfoiDSIB1Apw41VtD3H0D0o3fiO/8fQA+Ep066ryJAKUcAc3++I0DQEx7KGFYkQLDSxmhhmSVA9NdTrttMJkD3A/o/q1AmQNAIQXSODCdAml9hRxQ8KUAXzcjYhk8pQLb/zxaegilA7PIwryXRKUAJAwQ4JYkqQO5b358TqSpAfTQuHVfuKkDSDYjR12YuQLYWZq2I5TBAyTFHlD8qMUBEa4J1ZLwxQDBFw47QAzJAsVoyhO4GMkAM5DWlk1cyQNXaN5/kZzJArUtIHoBiM0CSosXWjK0zQMIvGiK9vjNAqfafo+sGNEAK6lgZ2x80QNTIETodSzRAJJMB0G60NEBm2qYcyxk1QOXhsgA4NTVAf+QIhklPNUD/iPvCpFE1QL2GtZyf4zVAHM5D4w6mNkAeBMhYimM3QO4QysoDSThAhn5fpfhaOEAhlWmAtHY4QA==",
          "dtype": "f8"
         },
         "xaxis": "x",
         "y": {
          "bdata": "AE4lBGsnAUBwHvEtYcABQOhDHmJrqAJAugySucqrA0BsUNL8m7kDQNy5byq/BARA2EqrG9pzBEAydZyKvoAFQASQiuo8qAVAKxJiR+GeBkC6dci5ZaEGQMjaxIBMdAhA0CHgBgYsCUDEDDUy45IJQAKPIno+bgpAWoh6PgboCkBet4oxnOoKQCa/TsgYagtAQEZ4dL/lDEBIlrOL8fIMQATvyyicFQ1AKOK1++RKDUAKKdn7vccNQOgXD4lo3Q1A8CGM0mcMDkCddz+fozMQQGh0+CgyWhFA7AX/DdKIEUCWxDiw++sRQDL0eO9xHBJAhowkX48eEkAPTfyjR1USQKbvitRZYBJARd5QCmUKE0D0MtFhUT0TQDOfRxn7SBNAptqfQfV5E0ASR4Sa4IoTQJGHmbE6qBNANEa02LDvE0CEuiJ1dzQUQG/oklETRxRAxM3fesNYFECKdQXLXFoUQAEFo+hpvRRAoG+1wVdBFUByaXxb6cEVQPFtN7SdXRZAxWWhysxpFkC/fno7nnwWQA==",
          "dtype": "f8"
         },
         "yaxis": "y"
        },
        {
         "hovertemplate": "Age=%{x}<br>Tip=%{y}<extra></extra>",
         "legendgroup": "",
         "marker": {
          "color": "#636efa",
          "symbol": "circle"
         },
         "mode": "markers",
         "name": "",
         "orientation": "v",
         "showlegend": false,
         "type": "scatter",
         "x": {
          "bdata": "R5UIwbX8K0Ai+Urp0X3gP7bj/qjXiktAEFACTRBFR0A9gY0jSK5IQAKzrgVVU0tAmXI4puIPQEA7sj3O6+dDQHg3uQxTkiNACl6CAcIIIEDwYkb642RHQK7nQKIFfUBAhO26+IPIQ0CbxXjHY8ZKQGscYn4TN0ZAvsk6SRJgQ0B5K1wEf5JDQNSkYyfJRjVA3JahdQtCAUAuU+jB+ZE+QFWV3fS2Ci5AvVvbUtWYPEBIvlXVfd5NQLJt+BEyYDBAnhFm+SNTEECd5Xk7ZrIzQFQ8UjwzjTRAejP0n8UqR0B5a9sRAn9DQPCsKlu6b0tAHt2F0z9AR0CfpMbac3I8QOmgxGWffUxAXvgUOE9gJ0DpZ5ZvAXD5P0y49XKhNhlAGwHp+1ZISUARYwKEaypAQF5jBAb7kyZAkYWddlyJQUDCU4ei3VIlQBNo09IHX0hAnLFa1h47P0COosF+5qs6QLG2PL0YGzVA9e0zAFUPRkD1gFCWrlM5QMK2DAi/ihhAcPZH31SFIEB4booxTdVQQA==",
          "dtype": "f8"
         },
         "xaxis": "x2",
         "y": {
          "bdata": "2E/zibjTD0D2yUznLWkAQDmrD41tUhlAUfzahI6+EkCPcLz72xIGQMN+ZZ/nTRlAsZDS2vwgE0CMHQKhR5sXQOCELf80fv0/qkopAh65BEAr8CXA8VsQQInZOxaWuBRA5Z/oP+RREkDlNgOFKxwXQFhVjL1FqxRAhyr34igEB0AL9ADSmSISQIY1r4qQWfg/rhE/Bl55DkBsw5+VWjURQFlkSac5cQ5AHNARuGIuCUCc2ijHi5IbQKH5uNfVZhJApgsit3Z9DEBDtNis9Jv+P/9RunXefQdAZXQAKLUCC0AAwG7mSZAOQFMuaQGNkhZA55WYWSRhFkDzkfaDHGIUQOKtUlZ6qxNAq8SiVLvqBEDPULNnQc8AQFhNm8hEqwFAJD3CbhWvC0AsueeIIDsRQN5GDfXJk/0/6NvYZP78EUDPaBHJN8kBQDnbX4HfVxlAVP6ELngbE0AN7K/XBVcHQHXAOiQqaRFAFRt7TR5cGEDPHIKwNLYHQAmrhj36Cfo/OaEyMfhbDEBfDN/d/ZUSQA==",
          "dtype": "f8"
         },
         "yaxis": "y2"
        },
        {
         "hovertemplate": "<b>OLS trendline</b><br>Tip = 0.0559941 * Age + 2.26063<br>R<sup>2</sup>=0.506275<br><br>Age=%{x}<br>Tip=%{y} <b>(trend)</b><extra></extra>",
         "legendgroup": "",
         "line": {
          "color": "red"
         },
         "marker": {
          "color": "#636efa",
          "symbol": "circle"
         },
         "mode": "lines",
         "name": "",
         "showlegend": false,
         "type": "scatter",
         "x": {
          "bdata": "IvlK6dF94D/pZ5ZvAXD5P9yWoXULQgFAnhFm+SNTEEDCtgwIv4oYQEy49XKhNhlACl6CAcIIIEBw9kffVIUgQHg3uQxTkiNAwlOHot1SJUBeYwQG+5MmQF74FDhPYCdAR5UIwbX8K0BVld30tgouQLJt+BEyYDBAneV5O2ayM0BUPFI8M400QLG2PL0YGzVA1KRjJ8lGNUD1gFCWrlM5QI6iwX7mqzpAn6TG2nNyPEC9W9tS1Zg8QC5T6MH5kT5AnLFa1h47P0CZcjim4g9AQBFjAoRrKkBArudAogV9QECRhZ12XIlBQL7JOkkSYENAeWvbEQJ/Q0B5K1wEf5JDQITtuviDyENAO7I9zuvnQ0D17TMAVQ9GQGscYn4TN0ZAejP0n8UqR0Ae3YXTP0BHQBBQAk0QRUdA8GJG+uNkR0ATaNPSB19IQD2BjSNIrkhAGwHp+1ZISUCbxXjHY8ZKQAKzrgVVU0tA8KwqW7pvS0C24/6o14pLQOmgxGWffUxASL5V1X3eTUB4booxTdVQQA==",
          "dtype": "f8"
         },
         "xaxis": "x2",
         "y": {
          "bdata": "cH/ojt5QAkCGxP5HFswCQJI7WY4nDQNARvjs0cjpA0BIovMIXdUEQCrUE8mc6ARAxNRciSOtBUDoAiNWCskFQAUnPd32dwZASaPLTW3cBkAp8vBdWSQHQG78cCodUgdAqkdb6H5aCEDTicfvTtAIQAQdI+ysawlAHJcJzIboCkAarCv5iUoLQPbCtBQaigtAOMBvK6ydC0A7fVorJ24NQMjCbbhYCA5AHN7a5fbTDkDCh0k+KOUOQEotuONvxw9AQWHYXJoJEEBsJaKy0DwQQGUKpZSzSBBADmacCrRtEEBsznsT6OUQQFpwhjHDuBFAtqvJ4Z7GEUDcscSxWc8RQAcfeWmM5xFAXyyd4J31EUAQGqBqn+wSQNolrRtt/hJAFjjuJJdrE0B0OBYUNnUTQDrFNCtedxNAwsVQ8Z+FE0BCIhX5rPUTQINBvy0tGRRAaEOB6i9eFEBT9KjWUwkVQPaeZYd2SBVAoTrA2C5VFUACovs4VGEVQH7s7EIVzhVAe7P00CZsFkAieQGTnB8YQA==",
          "dtype": "f8"
         },
         "yaxis": "y2"
        },
        {
         "hovertemplate": "Rain=%{x}<br>Tip=%{y}<extra></extra>",
         "legendgroup": "",
         "marker": {
          "color": "#636efa",
          "symbol": "circle"
         },
         "mode": "markers",
         "name": "",
         "orientation": "v",
         "showlegend": false,
         "type": "scatter",
         "x": {
          "bdata": "FiiJmuq2ZkBrYAQrIH5hQOC9IWFFlkpAERufk7o6aECPliZ7AXhjQEyHy+IY7GFASHMtxdN3VkAjsblMYjlLQMTZf543RzNA8yw5xKeQZkD8YBy/78lWQDhnKoyAPERAYCkAVX2YTkDbbvquAvZcQNGwOhxirUFAhJTS11RqZUD0fM5lhvZiQK1RZhuQ/GFANioFecqaVUDxbvWbjV1fQN4Cezl0NF1ADF4HrAQ/YEDAvyWbjOMwQNjfB7JVylRAJsFqmUqlIEAK+dIdFbNYQEdpdzg5flBAqB7EcqPnPEBkiudgO640QF3C7rvZYV1AKVkfFC4PQUD0f0zNxCBnQPN7fySVDV1AFVq6+e5XUUBhn+rht4tdQFXN65c7PhJAlsk7asf2Z0Bh6PTmex1YQH2tdWWBkWNAwv2sp8aLMEDXyrsEOlVYQGOO2a0MiVhAeQck3RZyZ0ALDWZ7HpZcQLscwxGqrFdAfcKktJOySkBKsF1KFZRQQA5AE1SbCFpAKH24EhHyVUCjpeNpJ0oRQA==",
          "dtype": "f8"
         },
         "xaxis": "x3",
         "y": {
          "bdata": "2E/zibjTD0D2yUznLWkAQDmrD41tUhlAUfzahI6+EkCPcLz72xIGQMN+ZZ/nTRlAsZDS2vwgE0CMHQKhR5sXQOCELf80fv0/qkopAh65BEAr8CXA8VsQQInZOxaWuBRA5Z/oP+RREkDlNgOFKxwXQFhVjL1FqxRAhyr34igEB0AL9ADSmSISQIY1r4qQWfg/rhE/Bl55DkBsw5+VWjURQFlkSac5cQ5AHNARuGIuCUCc2ijHi5IbQKH5uNfVZhJApgsit3Z9DEBDtNis9Jv+P/9RunXefQdAZXQAKLUCC0AAwG7mSZAOQFMuaQGNkhZA55WYWSRhFkDzkfaDHGIUQOKtUlZ6qxNAq8SiVLvqBEDPULNnQc8AQFhNm8hEqwFAJD3CbhWvC0AsueeIIDsRQN5GDfXJk/0/6NvYZP78EUDPaBHJN8kBQDnbX4HfVxlAVP6ELngbE0AN7K/XBVcHQHXAOiQqaRFAFRt7TR5cGEDPHIKwNLYHQAmrhj36Cfo/OaEyMfhbDEBfDN/d/ZUSQA==",
          "dtype": "f8"
         },
         "yaxis": "y3"
        },
        {
         "hovertemplate": "<b>OLS trendline</b><br>Tip = -0.00430556 * Rain + 4.39314<br>R<sup>2</sup>=0.027587<br><br>Rain=%{x}<br>Tip=%{y} <b>(trend)</b><extra></extra>",
         "legendgroup": "",
         "line": {
          "color": "red"
         },
         "marker": {
          "color": "#636efa",
          "symbol": "circle"
         },
         "mode": "lines",
         "name": "",
         "showlegend": false,
         "type": "scatter",
         "x": {
          "bdata": "o6XjaSdKEUBVzeuXOz4SQCbBaplKpSBAwv2sp8aLMEDAvyWbjOMwQMTZf543RzNAZIrnYDuuNECoHsRyo+c8QClZHxQuD0FA0bA6HGKtQUA4ZyqMgDxEQOC9IWFFlkpAfcKktJOySkAjsblMYjlLQGApAFV9mE5AR2l3ODl+UEBKsF1KFZRQQBVauvnuV1FA2N8HslXKVEA2KgV5yppVQCh9uBIR8lVASHMtxdN3VkD8YBy/78lWQLscwxGqrFdAYej05nsdWEDXyrsEOlVYQGOO2a0MiVhACvnSHRWzWEAOQBNUmwhaQAsNZnsellxA2276rgL2XEDze38klQ1dQN4Cezl0NF1AXcLuu9lhXUBhn+rht4tdQPFu9ZuNXV9ADF4HrAQ/YEBrYAQrIH5hQEyHy+IY7GFArVFmG5D8YUD0fM5lhvZiQI+WJnsBeGNAfa11ZYGRY0CElNLXVGplQPMsOcSnkGZAFiiJmuq2ZkD0f0zNxCBnQHkHJN0WcmdAlsk7asf2Z0ARG5+TujpoQA==",
          "dtype": "f8"
         },
         "xaxis": "x3",
         "y": {
          "bdata": "HllduoR/EUD5Hcmyd34RQLjOcovhbRFAigHyPaBJEUCqjj5CHUgRQONeOXqUPRFAAu9fnmU3EUCdVRkZIxMRQHIGwnIm/BBAYkrRcbP2EEDSjLa9IuAQQEJTvgsjqBBAzoAhcymnEEA2atG/hKIQQD5Q1g/KhBBAlOdu8rVvEEAu1HJwNG4QQLra4YC2YBBABr+f1uwjEECWC2OXkBUQQJSpfG6NDxBA3sdhfFYGEEB/X7xwrgAQQI2Jduwf4g9A4mA+pJTSD0DIJnSI5soPQCwbuq3Cww9AO/RwIPi9D0BxYwMq6o4PQM+qDQTgNA9Al74b0KknD0ASZ6NlaiQPQAxbRVsPHw9AO9n0Ks4YD0B4HUFxCRMPQGeHBeba0g5ASu90wBurDkAh1B4qLVMOQHGtKYPfNA5A2ESM+1UwDkDwTeMRdesNQME4ozDHxw1AFrAiYsDADUBxMJwgdj4NQCdmWtNb7QxAhpp+zNDiDED6cNS5pcUMQLB5wy49rwxAkn4+8ayKDEAKt5yZ83cMQA==",
          "dtype": "f8"
         },
         "yaxis": "y3"
        }
       ],
       "layout": {
        "annotations": [
         {
          "font": {
           "size": 16
          },
          "showarrow": false,
          "text": "Order Total vs Tip",
          "x": 0.14444444444444446,
          "xanchor": "center",
          "xref": "paper",
          "y": 1,
          "yanchor": "bottom",
          "yref": "paper"
         },
         {
          "font": {
           "size": 16
          },
          "showarrow": false,
          "text": "Age vs Tip",
          "x": 0.5,
          "xanchor": "center",
          "xref": "paper",
          "y": 1,
          "yanchor": "bottom",
          "yref": "paper"
         },
         {
          "font": {
           "size": 16
          },
          "showarrow": false,
          "text": "Rain vs Tip",
          "x": 0.8555555555555556,
          "xanchor": "center",
          "xref": "paper",
          "y": 1,
          "yanchor": "bottom",
          "yref": "paper"
         }
        ],
        "height": 400,
        "showlegend": false,
        "template": {
         "data": {
          "bar": [
           {
            "error_x": {
             "color": "#2a3f5f"
            },
            "error_y": {
             "color": "#2a3f5f"
            },
            "marker": {
             "line": {
              "color": "#E5ECF6",
              "width": 0.5
             },
             "pattern": {
              "fillmode": "overlay",
              "size": 10,
              "solidity": 0.2
             }
            },
            "type": "bar"
           }
          ],
          "barpolar": [
           {
            "marker": {
             "line": {
              "color": "#E5ECF6",
              "width": 0.5
             },
             "pattern": {
              "fillmode": "overlay",
              "size": 10,
              "solidity": 0.2
             }
            },
            "type": "barpolar"
           }
          ],
          "carpet": [
           {
            "aaxis": {
             "endlinecolor": "#2a3f5f",
             "gridcolor": "white",
             "linecolor": "white",
             "minorgridcolor": "white",
             "startlinecolor": "#2a3f5f"
            },
            "baxis": {
             "endlinecolor": "#2a3f5f",
             "gridcolor": "white",
             "linecolor": "white",
             "minorgridcolor": "white",
             "startlinecolor": "#2a3f5f"
            },
            "type": "carpet"
           }
          ],
          "choropleth": [
           {
            "colorbar": {
             "outlinewidth": 0,
             "ticks": ""
            },
            "type": "choropleth"
           }
          ],
          "contour": [
           {
            "colorbar": {
             "outlinewidth": 0,
             "ticks": ""
            },
            "colorscale": [
             [
              0,
              "#0d0887"
             ],
             [
              0.1111111111111111,
              "#46039f"
             ],
             [
              0.2222222222222222,
              "#7201a8"
             ],
             [
              0.3333333333333333,
              "#9c179e"
             ],
             [
              0.4444444444444444,
              "#bd3786"
             ],
             [
              0.5555555555555556,
              "#d8576b"
             ],
             [
              0.6666666666666666,
              "#ed7953"
             ],
             [
              0.7777777777777778,
              "#fb9f3a"
             ],
             [
              0.8888888888888888,
              "#fdca26"
             ],
             [
              1,
              "#f0f921"
             ]
            ],
            "type": "contour"
           }
          ],
          "contourcarpet": [
           {
            "colorbar": {
             "outlinewidth": 0,
             "ticks": ""
            },
            "type": "contourcarpet"
           }
          ],
          "heatmap": [
           {
            "colorbar": {
             "outlinewidth": 0,
             "ticks": ""
            },
            "colorscale": [
             [
              0,
              "#0d0887"
             ],
             [
              0.1111111111111111,
              "#46039f"
             ],
             [
              0.2222222222222222,
              "#7201a8"
             ],
             [
              0.3333333333333333,
              "#9c179e"
             ],
             [
              0.4444444444444444,
              "#bd3786"
             ],
             [
              0.5555555555555556,
              "#d8576b"
             ],
             [
              0.6666666666666666,
              "#ed7953"
             ],
             [
              0.7777777777777778,
              "#fb9f3a"
             ],
             [
              0.8888888888888888,
              "#fdca26"
             ],
             [
              1,
              "#f0f921"
             ]
            ],
            "type": "heatmap"
           }
          ],
          "histogram": [
           {
            "marker": {
             "pattern": {
              "fillmode": "overlay",
              "size": 10,
              "solidity": 0.2
             }
            },
            "type": "histogram"
           }
          ],
          "histogram2d": [
           {
            "colorbar": {
             "outlinewidth": 0,
             "ticks": ""
            },
            "colorscale": [
             [
              0,
              "#0d0887"
             ],
             [
              0.1111111111111111,
              "#46039f"
             ],
             [
              0.2222222222222222,
              "#7201a8"
             ],
             [
              0.3333333333333333,
              "#9c179e"
             ],
             [
              0.4444444444444444,
              "#bd3786"
             ],
             [
              0.5555555555555556,
              "#d8576b"
             ],
             [
              0.6666666666666666,
              "#ed7953"
             ],
             [
              0.7777777777777778,
              "#fb9f3a"
             ],
             [
              0.8888888888888888,
              "#fdca26"
             ],
             [
              1,
              "#f0f921"
             ]
            ],
            "type": "histogram2d"
           }
          ],
          "histogram2dcontour": [
           {
            "colorbar": {
             "outlinewidth": 0,
             "ticks": ""
            },
            "colorscale": [
             [
              0,
              "#0d0887"
             ],
             [
              0.1111111111111111,
              "#46039f"
             ],
             [
              0.2222222222222222,
              "#7201a8"
             ],
             [
              0.3333333333333333,
              "#9c179e"
             ],
             [
              0.4444444444444444,
              "#bd3786"
             ],
             [
              0.5555555555555556,
              "#d8576b"
             ],
             [
              0.6666666666666666,
              "#ed7953"
             ],
             [
              0.7777777777777778,
              "#fb9f3a"
             ],
             [
              0.8888888888888888,
              "#fdca26"
             ],
             [
              1,
              "#f0f921"
             ]
            ],
            "type": "histogram2dcontour"
           }
          ],
          "mesh3d": [
           {
            "colorbar": {
             "outlinewidth": 0,
             "ticks": ""
            },
            "type": "mesh3d"
           }
          ],
          "parcoords": [
           {
            "line": {
             "colorbar": {
              "outlinewidth": 0,
              "ticks": ""
             }
            },
            "type": "parcoords"
           }
          ],
          "pie": [
           {
            "automargin": true,
            "type": "pie"
           }
          ],
          "scatter": [
           {
            "fillpattern": {
             "fillmode": "overlay",
             "size": 10,
             "solidity": 0.2
            },
            "type": "scatter"
           }
          ],
          "scatter3d": [
           {
            "line": {
             "colorbar": {
              "outlinewidth": 0,
              "ticks": ""
             }
            },
            "marker": {
             "colorbar": {
              "outlinewidth": 0,
              "ticks": ""
             }
            },
            "type": "scatter3d"
           }
          ],
          "scattercarpet": [
           {
            "marker": {
             "colorbar": {
              "outlinewidth": 0,
              "ticks": ""
             }
            },
            "type": "scattercarpet"
           }
          ],
          "scattergeo": [
           {
            "marker": {
             "colorbar": {
              "outlinewidth": 0,
              "ticks": ""
             }
            },
            "type": "scattergeo"
           }
          ],
          "scattergl": [
           {
            "marker": {
             "colorbar": {
              "outlinewidth": 0,
              "ticks": ""
             }
            },
            "type": "scattergl"
           }
          ],
          "scattermap": [
           {
            "marker": {
             "colorbar": {
              "outlinewidth": 0,
              "ticks": ""
             }
            },
            "type": "scattermap"
           }
          ],
          "scattermapbox": [
           {
            "marker": {
             "colorbar": {
              "outlinewidth": 0,
              "ticks": ""
             }
            },
            "type": "scattermapbox"
           }
          ],
          "scatterpolar": [
           {
            "marker": {
             "colorbar": {
              "outlinewidth": 0,
              "ticks": ""
             }
            },
            "type": "scatterpolar"
           }
          ],
          "scatterpolargl": [
           {
            "marker": {
             "colorbar": {
              "outlinewidth": 0,
              "ticks": ""
             }
            },
            "type": "scatterpolargl"
           }
          ],
          "scatterternary": [
           {
            "marker": {
             "colorbar": {
              "outlinewidth": 0,
              "ticks": ""
             }
            },
            "type": "scatterternary"
           }
          ],
          "surface": [
           {
            "colorbar": {
             "outlinewidth": 0,
             "ticks": ""
            },
            "colorscale": [
             [
              0,
              "#0d0887"
             ],
             [
              0.1111111111111111,
              "#46039f"
             ],
             [
              0.2222222222222222,
              "#7201a8"
             ],
             [
              0.3333333333333333,
              "#9c179e"
             ],
             [
              0.4444444444444444,
              "#bd3786"
             ],
             [
              0.5555555555555556,
              "#d8576b"
             ],
             [
              0.6666666666666666,
              "#ed7953"
             ],
             [
              0.7777777777777778,
              "#fb9f3a"
             ],
             [
              0.8888888888888888,
              "#fdca26"
             ],
             [
              1,
              "#f0f921"
             ]
            ],
            "type": "surface"
           }
          ],
          "table": [
           {
            "cells": {
             "fill": {
              "color": "#EBF0F8"
             },
             "line": {
              "color": "white"
             }
            },
            "header": {
             "fill": {
              "color": "#C8D4E3"
             },
             "line": {
              "color": "white"
             }
            },
            "type": "table"
           }
          ]
         },
         "layout": {
          "annotationdefaults": {
           "arrowcolor": "#2a3f5f",
           "arrowhead": 0,
           "arrowwidth": 1
          },
          "autotypenumbers": "strict",
          "coloraxis": {
           "colorbar": {
            "outlinewidth": 0,
            "ticks": ""
           }
          },
          "colorscale": {
           "diverging": [
            [
             0,
             "#8e0152"
            ],
            [
             0.1,
             "#c51b7d"
            ],
            [
             0.2,
             "#de77ae"
            ],
            [
             0.3,
             "#f1b6da"
            ],
            [
             0.4,
             "#fde0ef"
            ],
            [
             0.5,
             "#f7f7f7"
            ],
            [
             0.6,
             "#e6f5d0"
            ],
            [
             0.7,
             "#b8e186"
            ],
            [
             0.8,
             "#7fbc41"
            ],
            [
             0.9,
             "#4d9221"
            ],
            [
             1,
             "#276419"
            ]
           ],
           "sequential": [
            [
             0,
             "#0d0887"
            ],
            [
             0.1111111111111111,
             "#46039f"
            ],
            [
             0.2222222222222222,
             "#7201a8"
            ],
            [
             0.3333333333333333,
             "#9c179e"
            ],
            [
             0.4444444444444444,
             "#bd3786"
            ],
            [
             0.5555555555555556,
             "#d8576b"
            ],
            [
             0.6666666666666666,
             "#ed7953"
            ],
            [
             0.7777777777777778,
             "#fb9f3a"
            ],
            [
             0.8888888888888888,
             "#fdca26"
            ],
            [
             1,
             "#f0f921"
            ]
           ],
           "sequentialminus": [
            [
             0,
             "#0d0887"
            ],
            [
             0.1111111111111111,
             "#46039f"
            ],
            [
             0.2222222222222222,
             "#7201a8"
            ],
            [
             0.3333333333333333,
             "#9c179e"
            ],
            [
             0.4444444444444444,
             "#bd3786"
            ],
            [
             0.5555555555555556,
             "#d8576b"
            ],
            [
             0.6666666666666666,
             "#ed7953"
            ],
            [
             0.7777777777777778,
             "#fb9f3a"
            ],
            [
             0.8888888888888888,
             "#fdca26"
            ],
            [
             1,
             "#f0f921"
            ]
           ]
          },
          "colorway": [
           "#636efa",
           "#EF553B",
           "#00cc96",
           "#ab63fa",
           "#FFA15A",
           "#19d3f3",
           "#FF6692",
           "#B6E880",
           "#FF97FF",
           "#FECB52"
          ],
          "font": {
           "color": "#2a3f5f"
          },
          "geo": {
           "bgcolor": "white",
           "lakecolor": "white",
           "landcolor": "#E5ECF6",
           "showlakes": true,
           "showland": true,
           "subunitcolor": "white"
          },
          "hoverlabel": {
           "align": "left"
          },
          "hovermode": "closest",
          "mapbox": {
           "style": "light"
          },
          "paper_bgcolor": "white",
          "plot_bgcolor": "#E5ECF6",
          "polar": {
           "angularaxis": {
            "gridcolor": "white",
            "linecolor": "white",
            "ticks": ""
           },
           "bgcolor": "#E5ECF6",
           "radialaxis": {
            "gridcolor": "white",
            "linecolor": "white",
            "ticks": ""
           }
          },
          "scene": {
           "xaxis": {
            "backgroundcolor": "#E5ECF6",
            "gridcolor": "white",
            "gridwidth": 2,
            "linecolor": "white",
            "showbackground": true,
            "ticks": "",
            "zerolinecolor": "white"
           },
           "yaxis": {
            "backgroundcolor": "#E5ECF6",
            "gridcolor": "white",
            "gridwidth": 2,
            "linecolor": "white",
            "showbackground": true,
            "ticks": "",
            "zerolinecolor": "white"
           },
           "zaxis": {
            "backgroundcolor": "#E5ECF6",
            "gridcolor": "white",
            "gridwidth": 2,
            "linecolor": "white",
            "showbackground": true,
            "ticks": "",
            "zerolinecolor": "white"
           }
          },
          "shapedefaults": {
           "line": {
            "color": "#2a3f5f"
           }
          },
          "ternary": {
           "aaxis": {
            "gridcolor": "white",
            "linecolor": "white",
            "ticks": ""
           },
           "baxis": {
            "gridcolor": "white",
            "linecolor": "white",
            "ticks": ""
           },
           "bgcolor": "#E5ECF6",
           "caxis": {
            "gridcolor": "white",
            "linecolor": "white",
            "ticks": ""
           }
          },
          "title": {
           "x": 0.05
          },
          "xaxis": {
           "automargin": true,
           "gridcolor": "white",
           "linecolor": "white",
           "ticks": "",
           "title": {
            "standoff": 15
           },
           "zerolinecolor": "white",
           "zerolinewidth": 2
          },
          "yaxis": {
           "automargin": true,
           "gridcolor": "white",
           "linecolor": "white",
           "ticks": "",
           "title": {
            "standoff": 15
           },
           "zerolinecolor": "white",
           "zerolinewidth": 2
          }
         }
        },
        "title": {
         "text": "Relationships Between Features and Tips with OLS Regression Lines"
        },
        "width": 1200,
        "xaxis": {
         "anchor": "y",
         "domain": [
          0,
          0.2888888888888889
         ],
         "title": {
          "text": "Order Total ($)"
         }
        },
        "xaxis2": {
         "anchor": "y2",
         "domain": [
          0.35555555555555557,
          0.6444444444444445
         ],
         "title": {
          "text": "Age (years)"
         }
        },
        "xaxis3": {
         "anchor": "y3",
         "domain": [
          0.7111111111111111,
          1
         ],
         "title": {
          "text": "Rain (mm/day)"
         }
        },
        "yaxis": {
         "anchor": "x",
         "domain": [
          0,
          1
         ],
         "title": {
          "text": "Tip ($)"
         }
        },
        "yaxis2": {
         "anchor": "x2",
         "domain": [
          0,
          1
         ],
         "title": {
          "text": "Tip ($)"
         }
        },
        "yaxis3": {
         "anchor": "x3",
         "domain": [
          0,
          1
         ],
         "title": {
          "text": "Tip ($)"
         }
        }
       }
      }
     },
     "metadata": {},
     "output_type": "display_data"
    }
   ],
   "source": [
    "# Create a DataFrame for easier plotting\n",
    "df = pd.DataFrame({\"Order Total\": order_totals, \"Age\": age, \"Rain\": rain, \"Tip\": observed_tips})\n",
    "\n",
    "# Create subplots manually\n",
    "fig = make_subplots(\n",
    "    rows=1, cols=3, subplot_titles=(\"Order Total vs Tip\", \"Age vs Tip\", \"Rain vs Tip\")\n",
    ")\n",
    "\n",
    "# Create individual plots with trendlines using plotly express\n",
    "fig1 = px.scatter(df, x=\"Order Total\", y=\"Tip\", trendline=\"ols\", trendline_color_override=\"red\")\n",
    "fig2 = px.scatter(df, x=\"Age\", y=\"Tip\", trendline=\"ols\", trendline_color_override=\"red\")\n",
    "fig3 = px.scatter(df, x=\"Rain\", y=\"Tip\", trendline=\"ols\", trendline_color_override=\"red\")\n",
    "\n",
    "# Add traces from individual figures to subplots\n",
    "for trace in fig1.data:\n",
    "    fig.add_trace(trace, row=1, col=1)\n",
    "\n",
    "for trace in fig2.data:\n",
    "    fig.add_trace(trace, row=1, col=2)\n",
    "\n",
    "for trace in fig3.data:\n",
    "    fig.add_trace(trace, row=1, col=3)\n",
    "\n",
    "# Update axes labels\n",
    "fig.update_xaxes(title_text=\"Order Total ($)\", row=1, col=1)\n",
    "fig.update_xaxes(title_text=\"Age (years)\", row=1, col=2)\n",
    "fig.update_xaxes(title_text=\"Rain (mm/day)\", row=1, col=3)\n",
    "fig.update_yaxes(title_text=\"Tip ($)\", row=1, col=1)\n",
    "fig.update_yaxes(title_text=\"Tip ($)\", row=1, col=2)\n",
    "fig.update_yaxes(title_text=\"Tip ($)\", row=1, col=3)\n",
    "\n",
    "# Update layout\n",
    "fig.update_layout(\n",
    "    title_text=\"Relationships Between Features and Tips with OLS Regression Lines\",\n",
    "    showlegend=False,\n",
    "    height=400,\n",
    "    width=1200,\n",
    ")\n",
    "\n",
    "fig.show()"
   ]
  },
  {
   "cell_type": "markdown",
   "id": "6f8ccf72",
   "metadata": {},
   "source": [
    "## OLS\n",
    "\n",
    "We werken altijd best met gestandaardiseerde waarden. Voor de feature matrix kunnen we handig gebruikmaken van scikit-learn's [StandardScaler](https://scikit-learn.org/stable/modules/generated/sklearn.preprocessing.StandardScaler.html#sklearn.preprocessing.StandardScaler)."
   ]
  },
  {
   "cell_type": "code",
   "execution_count": null,
   "id": "23d6d50b",
   "metadata": {},
   "outputs": [],
   "source": [
    "# Standardizing\n",
    "# Targets\n",
    "y_mean = np.mean(observed_tips)\n",
    "y_std = np.std(observed_tips)\n",
    "y_scaled = (observed_tips - y_mean) / y_std\n",
    "\n",
    "# Features\n",
    "X = np.column_stack((np.ones(n_customers), order_totals, age, rain))\n",
    "scaler = StandardScaler()\n",
    "X_scaled = scaler.fit_transform(X)\n",
    "X_scaled[:, 0] = 1.0  # reset the intercept column to all ones\n",
    "\n",
    "# True parameter values\n",
    "b1_scaled = (np.dot(np.array([b1, b2, b3, b4]), scaler.mean_) - y_mean) / y_std\n",
    "b2_scaled, b3_scaled, b4_scaled = np.array([b2, b3, b4]) * scaler.scale_[1:] / y_std"
   ]
  },
  {
   "cell_type": "markdown",
   "id": "f78debbd",
   "metadata": {},
   "source": [
    "We kunnen bevestigen dat we met een laag conditienummer te maken hebben, wat te verwachten is aangezien de features onafhankelijk van elkaar zijn gegenereerd."
   ]
  },
  {
   "cell_type": "code",
   "execution_count": 34,
   "id": "70fb11d4",
   "metadata": {},
   "outputs": [
    {
     "name": "stdout",
     "output_type": "stream",
     "text": [
      "Condition number: 1.133724\n"
     ]
    }
   ],
   "source": [
    "# Confirm that there is no multicollinearity\n",
    "condition_number = np.linalg.cond(X_scaled)\n",
    "print(f\"Condition number: {condition_number:.6f}\")"
   ]
  },
  {
   "cell_type": "markdown",
   "id": "ddbada05",
   "metadata": {},
   "source": [
    "Toepassing van de _normal equations_:"
   ]
  },
  {
   "cell_type": "code",
   "execution_count": 32,
   "id": "aa3bcc98",
   "metadata": {},
   "outputs": [
    {
     "name": "stdout",
     "output_type": "stream",
     "text": [
      "Closed-form OLS coefficients:\n",
      "  β1 (bias): \t\t0.000000\ttrue value: -0.012221\n",
      "  β2 (Order Total): \t0.666591\ttrue value: 0.646223\n",
      "  β3 (Age): \t\t0.636319\ttrue value: 0.635362\n",
      "  β4 (Rain): \t\t-0.114367\ttrue value: -0.115728\n"
     ]
    }
   ],
   "source": [
    "XtX = X_scaled.T @ X_scaled\n",
    "Xty = X_scaled.T @ y_scaled\n",
    "beta = np.linalg.inv(XtX) @ Xty\n",
    "\n",
    "print(\"Closed-form OLS coefficients:\")\n",
    "print(f\"  β1 (bias): \\t\\t{beta[0]:.6f}\\ttrue value: {b1_scaled:.6f}\")\n",
    "print(f\"  β2 (Order Total): \\t{beta[1]:.6f}\\ttrue value: {b2_scaled:.6f}\")\n",
    "print(f\"  β3 (Age): \\t\\t{beta[2]:.6f}\\ttrue value: {b3_scaled:.6f}\")\n",
    "print(f\"  β4 (Rain): \\t\\t{beta[3]:.6f}\\ttrue value: {b4_scaled:.6f}\")"
   ]
  },
  {
   "cell_type": "markdown",
   "id": "de0d14b7",
   "metadata": {},
   "source": [
    "We kunnen zien dat de OLS oplossing zonder veel extra moeite opgeschaald kan worden naar meerdere features. Wel is het zo dat in de praktijk de kans op multicollineariteit en dus ongedefinieerde inverses $(\\pmb{X}^T\\pmb{X})^{-1}$ stijgt, naarmate we meer features opnemen in ons model."
   ]
  },
  {
   "cell_type": "markdown",
   "id": "f53e4f59",
   "metadata": {},
   "source": [
    "## Gradient descent\n",
    "\n"
   ]
  },
  {
   "cell_type": "code",
   "execution_count": null,
   "id": "e14129b7",
   "metadata": {},
   "outputs": [],
   "source": []
  },
  {
   "cell_type": "code",
   "execution_count": null,
   "id": "f39e51ec",
   "metadata": {},
   "outputs": [],
   "source": [
    "def closed_form_ols(X, y):\n",
    "    \"\"\"\n",
    "    Compute OLS coefficients using the closed-form solution.\n",
    "\n",
    "    Parameters\n",
    "    ----------\n",
    "    X : ndarray, shape (n_samples, n_features)\n",
    "        Design matrix including bias term\n",
    "    y : ndarray, shape (n_samples,)\n",
    "        Target vector\n",
    "\n",
    "    Returns\n",
    "    -------\n",
    "    beta : ndarray, shape (n_features,)\n",
    "        Estimated coefficients\n",
    "    \"\"\"\n",
    "    XtX = X.T @ X\n",
    "    Xty = X.T @ y\n",
    "    beta = np.linalg.inv(XtX) @ Xty\n",
    "    return beta\n",
    "\n",
    "\n",
    "# Calculate coefficients\n",
    "beta_closed = closed_form_ols(X_scaled, y)\n",
    "\n",
    "print(\"Closed-form OLS coefficients:\")\n",
    "print(f\"  β₀ (bias):        {beta_closed[0]:.6f}\")\n",
    "print(f\"  β₁ ({x1}):    {beta_closed[1]:.6f}\")\n",
    "print(f\"  β₂ ({x2}): {beta_closed[2]:.6f}\")\n",
    "\n",
    "# Calculate predictions and metrics\n",
    "y_pred_closed = X_scaled @ beta_closed\n",
    "mse_closed = mean_squared_error(y, y_pred_closed)\n",
    "r2_closed = r2_score(y, y_pred_closed)\n",
    "\n",
    "print(\"\\nModel performance:\")\n",
    "print(f\"  MSE:  {mse_closed:.6f}\")\n",
    "print(f\"  R²:   {r2_closed:.6f}\")"
   ]
  }
 ],
 "metadata": {
  "kernelspec": {
   "display_name": "ml-courses",
   "language": "python",
   "name": "python3"
  },
  "language_info": {
   "codemirror_mode": {
    "name": "ipython",
    "version": 3
   },
   "file_extension": ".py",
   "mimetype": "text/x-python",
   "name": "python",
   "nbconvert_exporter": "python",
   "pygments_lexer": "ipython3",
   "version": "3.10.18"
  }
 },
 "nbformat": 4,
 "nbformat_minor": 5
}
