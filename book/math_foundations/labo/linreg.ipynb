{
 "cells": [
  {
   "cell_type": "markdown",
   "id": "bb23895e",
   "metadata": {},
   "source": [
    "# OLS en Gradient Descent\n",
    "\n",
    "In dit labo passen we verschillende methoden toe om lineaire regressie parameters te schatten:\n",
    "1. De _closed form_ OLS oplossing\n",
    "2. Vergelijking met scikit-learn, NumPy en statsmodels OLS implementaties\n",
    "3. Gradient berekening met PyTorch autograd\n",
    "4. Implementatie van Stochastic Gradient Descent"
   ]
  },
  {
   "cell_type": "code",
   "execution_count": 1,
   "id": "fc710b36",
   "metadata": {},
   "outputs": [],
   "source": [
    "import matplotlib.pyplot as plt\n",
    "import numpy as np\n",
    "import pandas as pd\n",
    "import seaborn as sns\n",
    "import statsmodels.api as sm\n",
    "import torch\n",
    "from sklearn.datasets import fetch_california_housing\n",
    "from sklearn.linear_model import LinearRegression\n",
    "from sklearn.metrics import mean_squared_error, r2_score\n",
    "from sklearn.preprocessing import StandardScaler\n",
    "from torch import nn\n",
    "\n",
    "rng = np.random.default_rng(67)\n",
    "torch.manual_seed(67)\n",
    "\n",
    "plt.style.use(\"seaborn-v0_8-darkgrid\")\n",
    "sns.set_palette(\"husl\")"
   ]
  },
  {
   "cell_type": "markdown",
   "id": "d7e21ab9",
   "metadata": {},
   "source": [
    "## Dataset [California Housing](https://scikit-learn.org/stable/datasets/real_world.html#california-housing-dataset) 🌴"
   ]
  },
  {
   "cell_type": "code",
   "execution_count": 2,
   "id": "5fc16d46",
   "metadata": {},
   "outputs": [
    {
     "name": "stdout",
     "output_type": "stream",
     "text": [
      "Dataset shape: (20640, 9)\n",
      "\n",
      "Features: ['MedInc', 'HouseAge', 'AveRooms', 'AveBedrms', 'Population', 'AveOccup', 'Latitude', 'Longitude']\n",
      "\n",
      "First rows:\n"
     ]
    },
    {
     "data": {
      "text/html": [
       "<div>\n",
       "<style scoped>\n",
       "    .dataframe tbody tr th:only-of-type {\n",
       "        vertical-align: middle;\n",
       "    }\n",
       "\n",
       "    .dataframe tbody tr th {\n",
       "        vertical-align: top;\n",
       "    }\n",
       "\n",
       "    .dataframe thead th {\n",
       "        text-align: right;\n",
       "    }\n",
       "</style>\n",
       "<table border=\"1\" class=\"dataframe\">\n",
       "  <thead>\n",
       "    <tr style=\"text-align: right;\">\n",
       "      <th></th>\n",
       "      <th>MedInc</th>\n",
       "      <th>HouseAge</th>\n",
       "      <th>AveRooms</th>\n",
       "      <th>AveBedrms</th>\n",
       "      <th>Population</th>\n",
       "      <th>AveOccup</th>\n",
       "      <th>Latitude</th>\n",
       "      <th>Longitude</th>\n",
       "      <th>MedHouseVal</th>\n",
       "    </tr>\n",
       "  </thead>\n",
       "  <tbody>\n",
       "    <tr>\n",
       "      <th>0</th>\n",
       "      <td>8.3252</td>\n",
       "      <td>41.0</td>\n",
       "      <td>6.984127</td>\n",
       "      <td>1.023810</td>\n",
       "      <td>322.0</td>\n",
       "      <td>2.555556</td>\n",
       "      <td>37.88</td>\n",
       "      <td>-122.23</td>\n",
       "      <td>4.526</td>\n",
       "    </tr>\n",
       "    <tr>\n",
       "      <th>1</th>\n",
       "      <td>8.3014</td>\n",
       "      <td>21.0</td>\n",
       "      <td>6.238137</td>\n",
       "      <td>0.971880</td>\n",
       "      <td>2401.0</td>\n",
       "      <td>2.109842</td>\n",
       "      <td>37.86</td>\n",
       "      <td>-122.22</td>\n",
       "      <td>3.585</td>\n",
       "    </tr>\n",
       "    <tr>\n",
       "      <th>2</th>\n",
       "      <td>7.2574</td>\n",
       "      <td>52.0</td>\n",
       "      <td>8.288136</td>\n",
       "      <td>1.073446</td>\n",
       "      <td>496.0</td>\n",
       "      <td>2.802260</td>\n",
       "      <td>37.85</td>\n",
       "      <td>-122.24</td>\n",
       "      <td>3.521</td>\n",
       "    </tr>\n",
       "    <tr>\n",
       "      <th>3</th>\n",
       "      <td>5.6431</td>\n",
       "      <td>52.0</td>\n",
       "      <td>5.817352</td>\n",
       "      <td>1.073059</td>\n",
       "      <td>558.0</td>\n",
       "      <td>2.547945</td>\n",
       "      <td>37.85</td>\n",
       "      <td>-122.25</td>\n",
       "      <td>3.413</td>\n",
       "    </tr>\n",
       "    <tr>\n",
       "      <th>4</th>\n",
       "      <td>3.8462</td>\n",
       "      <td>52.0</td>\n",
       "      <td>6.281853</td>\n",
       "      <td>1.081081</td>\n",
       "      <td>565.0</td>\n",
       "      <td>2.181467</td>\n",
       "      <td>37.85</td>\n",
       "      <td>-122.25</td>\n",
       "      <td>3.422</td>\n",
       "    </tr>\n",
       "  </tbody>\n",
       "</table>\n",
       "</div>"
      ],
      "text/plain": [
       "   MedInc  HouseAge  AveRooms  AveBedrms  Population  AveOccup  Latitude  \\\n",
       "0  8.3252      41.0  6.984127   1.023810       322.0  2.555556     37.88   \n",
       "1  8.3014      21.0  6.238137   0.971880      2401.0  2.109842     37.86   \n",
       "2  7.2574      52.0  8.288136   1.073446       496.0  2.802260     37.85   \n",
       "3  5.6431      52.0  5.817352   1.073059       558.0  2.547945     37.85   \n",
       "4  3.8462      52.0  6.281853   1.081081       565.0  2.181467     37.85   \n",
       "\n",
       "   Longitude  MedHouseVal  \n",
       "0    -122.23        4.526  \n",
       "1    -122.22        3.585  \n",
       "2    -122.24        3.521  \n",
       "3    -122.25        3.413  \n",
       "4    -122.25        3.422  "
      ]
     },
     "metadata": {},
     "output_type": "display_data"
    },
    {
     "name": "stdout",
     "output_type": "stream",
     "text": [
      "\n",
      "Basic statistics:\n"
     ]
    },
    {
     "data": {
      "text/html": [
       "<div>\n",
       "<style scoped>\n",
       "    .dataframe tbody tr th:only-of-type {\n",
       "        vertical-align: middle;\n",
       "    }\n",
       "\n",
       "    .dataframe tbody tr th {\n",
       "        vertical-align: top;\n",
       "    }\n",
       "\n",
       "    .dataframe thead th {\n",
       "        text-align: right;\n",
       "    }\n",
       "</style>\n",
       "<table border=\"1\" class=\"dataframe\">\n",
       "  <thead>\n",
       "    <tr style=\"text-align: right;\">\n",
       "      <th></th>\n",
       "      <th>MedInc</th>\n",
       "      <th>HouseAge</th>\n",
       "      <th>AveRooms</th>\n",
       "      <th>AveBedrms</th>\n",
       "      <th>Population</th>\n",
       "      <th>AveOccup</th>\n",
       "      <th>Latitude</th>\n",
       "      <th>Longitude</th>\n",
       "      <th>MedHouseVal</th>\n",
       "    </tr>\n",
       "  </thead>\n",
       "  <tbody>\n",
       "    <tr>\n",
       "      <th>count</th>\n",
       "      <td>20640.000000</td>\n",
       "      <td>20640.000000</td>\n",
       "      <td>20640.000000</td>\n",
       "      <td>20640.000000</td>\n",
       "      <td>20640.000000</td>\n",
       "      <td>20640.000000</td>\n",
       "      <td>20640.000000</td>\n",
       "      <td>20640.000000</td>\n",
       "      <td>20640.000000</td>\n",
       "    </tr>\n",
       "    <tr>\n",
       "      <th>mean</th>\n",
       "      <td>3.870671</td>\n",
       "      <td>28.639486</td>\n",
       "      <td>5.429000</td>\n",
       "      <td>1.096675</td>\n",
       "      <td>1425.476744</td>\n",
       "      <td>3.070655</td>\n",
       "      <td>35.631861</td>\n",
       "      <td>-119.569704</td>\n",
       "      <td>2.068558</td>\n",
       "    </tr>\n",
       "    <tr>\n",
       "      <th>std</th>\n",
       "      <td>1.899822</td>\n",
       "      <td>12.585558</td>\n",
       "      <td>2.474173</td>\n",
       "      <td>0.473911</td>\n",
       "      <td>1132.462122</td>\n",
       "      <td>10.386050</td>\n",
       "      <td>2.135952</td>\n",
       "      <td>2.003532</td>\n",
       "      <td>1.153956</td>\n",
       "    </tr>\n",
       "    <tr>\n",
       "      <th>min</th>\n",
       "      <td>0.499900</td>\n",
       "      <td>1.000000</td>\n",
       "      <td>0.846154</td>\n",
       "      <td>0.333333</td>\n",
       "      <td>3.000000</td>\n",
       "      <td>0.692308</td>\n",
       "      <td>32.540000</td>\n",
       "      <td>-124.350000</td>\n",
       "      <td>0.149990</td>\n",
       "    </tr>\n",
       "    <tr>\n",
       "      <th>25%</th>\n",
       "      <td>2.563400</td>\n",
       "      <td>18.000000</td>\n",
       "      <td>4.440716</td>\n",
       "      <td>1.006079</td>\n",
       "      <td>787.000000</td>\n",
       "      <td>2.429741</td>\n",
       "      <td>33.930000</td>\n",
       "      <td>-121.800000</td>\n",
       "      <td>1.196000</td>\n",
       "    </tr>\n",
       "    <tr>\n",
       "      <th>50%</th>\n",
       "      <td>3.534800</td>\n",
       "      <td>29.000000</td>\n",
       "      <td>5.229129</td>\n",
       "      <td>1.048780</td>\n",
       "      <td>1166.000000</td>\n",
       "      <td>2.818116</td>\n",
       "      <td>34.260000</td>\n",
       "      <td>-118.490000</td>\n",
       "      <td>1.797000</td>\n",
       "    </tr>\n",
       "    <tr>\n",
       "      <th>75%</th>\n",
       "      <td>4.743250</td>\n",
       "      <td>37.000000</td>\n",
       "      <td>6.052381</td>\n",
       "      <td>1.099526</td>\n",
       "      <td>1725.000000</td>\n",
       "      <td>3.282261</td>\n",
       "      <td>37.710000</td>\n",
       "      <td>-118.010000</td>\n",
       "      <td>2.647250</td>\n",
       "    </tr>\n",
       "    <tr>\n",
       "      <th>max</th>\n",
       "      <td>15.000100</td>\n",
       "      <td>52.000000</td>\n",
       "      <td>141.909091</td>\n",
       "      <td>34.066667</td>\n",
       "      <td>35682.000000</td>\n",
       "      <td>1243.333333</td>\n",
       "      <td>41.950000</td>\n",
       "      <td>-114.310000</td>\n",
       "      <td>5.000010</td>\n",
       "    </tr>\n",
       "  </tbody>\n",
       "</table>\n",
       "</div>"
      ],
      "text/plain": [
       "             MedInc      HouseAge      AveRooms     AveBedrms    Population  \\\n",
       "count  20640.000000  20640.000000  20640.000000  20640.000000  20640.000000   \n",
       "mean       3.870671     28.639486      5.429000      1.096675   1425.476744   \n",
       "std        1.899822     12.585558      2.474173      0.473911   1132.462122   \n",
       "min        0.499900      1.000000      0.846154      0.333333      3.000000   \n",
       "25%        2.563400     18.000000      4.440716      1.006079    787.000000   \n",
       "50%        3.534800     29.000000      5.229129      1.048780   1166.000000   \n",
       "75%        4.743250     37.000000      6.052381      1.099526   1725.000000   \n",
       "max       15.000100     52.000000    141.909091     34.066667  35682.000000   \n",
       "\n",
       "           AveOccup      Latitude     Longitude   MedHouseVal  \n",
       "count  20640.000000  20640.000000  20640.000000  20640.000000  \n",
       "mean       3.070655     35.631861   -119.569704      2.068558  \n",
       "std       10.386050      2.135952      2.003532      1.153956  \n",
       "min        0.692308     32.540000   -124.350000      0.149990  \n",
       "25%        2.429741     33.930000   -121.800000      1.196000  \n",
       "50%        2.818116     34.260000   -118.490000      1.797000  \n",
       "75%        3.282261     37.710000   -118.010000      2.647250  \n",
       "max     1243.333333     41.950000   -114.310000      5.000010  "
      ]
     },
     "metadata": {},
     "output_type": "display_data"
    }
   ],
   "source": [
    "housing = fetch_california_housing(as_frame=True)\n",
    "df = housing.frame\n",
    "\n",
    "print(f\"Dataset shape: {df.shape}\")\n",
    "print(f\"\\nFeatures: {housing.feature_names}\")\n",
    "print(\"\\nFirst rows:\")\n",
    "display(df.head())\n",
    "\n",
    "print(\"\\nBasic statistics:\")\n",
    "display(df.describe())"
   ]
  },
  {
   "cell_type": "markdown",
   "id": "f11ba4d0",
   "metadata": {},
   "source": [
    "## Design matrix\n",
    "\n",
    "We werken met slechts twee predictor-variabelen:\n",
    "1. `MedInc`: _median income in block group_\n",
    "2. `AveRooms`: _average number of rooms per household_   \n",
    "  \n",
    "De target variabele is `MedHouseVal`: _median house value for California districts, expressed in hundreds of thousands of dollars ($100,000)_\n",
    "\n",
    "## ✍️\n",
    "Hoe ziet de algemene matrix vorm van het model eruit?"
   ]
  },
  {
   "cell_type": "markdown",
   "id": "5aa82aa9",
   "metadata": {},
   "source": [
    "$$\n",
    "\\pmb{y} = \\pmb{X}\\pmb{b} + \\pmb{e}\n",
    "$$"
   ]
  },
  {
   "cell_type": "markdown",
   "id": "9a489720",
   "metadata": {},
   "source": [
    "## ✍️\n",
    "\n",
    "Hoe ziet de parameter tensor er specifiek uit?"
   ]
  },
  {
   "cell_type": "markdown",
   "id": "4b79fa4f",
   "metadata": {},
   "source": [
    "$$\n",
    "\\pmb{b} = \\begin{bmatrix}\n",
    "b_1 \\cr\n",
    "b_2 \\cr\n",
    "b_3 \\cr\n",
    "\\end{bmatrix}\n",
    "$$"
   ]
  },
  {
   "cell_type": "markdown",
   "id": "b0d2bc92",
   "metadata": {},
   "source": [
    "## ✍️\n",
    "\n",
    "Hoe die de design/feature matrix er specifiek uit?"
   ]
  },
  {
   "cell_type": "markdown",
   "id": "16389d2f",
   "metadata": {},
   "source": [
    "$$\n",
    "\\pmb{X} = \\begin{bmatrix}\n",
    "1 & x_{1,1} & x_{1, 2} \\cr\n",
    "1 & x_{2,1} & x_{2, 2} \\cr\n",
    "\\vdots & \\vdots & \\vdots \\cr\n",
    "1 & x_{n,1} & x_{n, 2} \\cr\n",
    "\\end{bmatrix}\n",
    "$$"
   ]
  },
  {
   "cell_type": "markdown",
   "id": "5d51e18b",
   "metadata": {},
   "source": [
    "## ✍️\n",
    "\n",
    "Hoe implementeren we deze tensors in Python?"
   ]
  },
  {
   "cell_type": "code",
   "execution_count": 3,
   "id": "7f5fb144",
   "metadata": {},
   "outputs": [
    {
     "name": "stdout",
     "output_type": "stream",
     "text": [
      "Design matrix X shape: (20640, 3)\n",
      "Target vector y shape: (20640,)\n",
      "\n",
      "First 5 rows of design matrix (bias, MedInc, AveRooms):\n",
      "[[1.         8.3252     6.98412698]\n",
      " [1.         8.3014     6.23813708]\n",
      " [1.         7.2574     8.28813559]\n",
      " [1.         5.6431     5.8173516 ]\n",
      " [1.         3.8462     6.28185328]]\n",
      "\n",
      "First 5 target values:\n",
      "[4.526 3.585 3.521 3.413 3.422]\n"
     ]
    }
   ],
   "source": [
    "x1 = \"MedInc\"  # Median income\n",
    "x2 = \"AveRooms\"  # Average number of rooms\n",
    "target = \"MedHouseVal\"  # Median house value\n",
    "\n",
    "# Create feature matrix (without bias yet)\n",
    "X_features = df[[x1, x2]].values\n",
    "y = df[target].values\n",
    "\n",
    "# Add bias term (column of ones) to create design matrix\n",
    "X = np.column_stack([np.ones(X_features.shape[0]), X_features])\n",
    "\n",
    "print(f\"Design matrix X shape: {X.shape}\")\n",
    "print(f\"Target vector y shape: {y.shape}\")\n",
    "print(f\"\\nFirst 5 rows of design matrix (bias, {x1}, {x2}):\")\n",
    "print(X[:5])\n",
    "print(\"\\nFirst 5 target values:\")\n",
    "print(y[:5])"
   ]
  },
  {
   "cell_type": "markdown",
   "id": "196e5597",
   "metadata": {},
   "source": [
    "## _Standard Scaling_\n",
    "$$\n",
    "\\begin{align}\n",
    "\\pmb{\\overline{x}_i}^c &= \\pmb{0} \\cr\n",
    "std(\\pmb{x_i}) &= 1\n",
    "\\end{align}\n",
    "$$"
   ]
  },
  {
   "cell_type": "code",
   "execution_count": 4,
   "id": "8de787ea",
   "metadata": {},
   "outputs": [],
   "source": [
    "# Create scaler and fit on features (without bias column)\n",
    "scaler = StandardScaler()\n",
    "X_features_scaled = scaler.fit_transform(X_features)\n",
    "\n",
    "# Create design matrix with bias term\n",
    "X_scaled = np.column_stack([np.ones(X_features_scaled.shape[0]), X_features_scaled])\n",
    "\n",
    "# Scale target variable\n",
    "y_mean = np.mean(y)\n",
    "y_std = np.std(y)\n",
    "y_scaled = (y - y_mean) / y_std"
   ]
  },
  {
   "cell_type": "markdown",
   "id": "b6aceb5a",
   "metadata": {},
   "source": [
    "## Conditienummer en Correlatie\n",
    "\n",
    "## ✍️\n",
    "Hoe is het gesteld met het conditienummer van de design matrix en de multicollineariteit bij de predictoren?"
   ]
  },
  {
   "cell_type": "code",
   "execution_count": 5,
   "id": "29be856c",
   "metadata": {},
   "outputs": [
    {
     "name": "stdout",
     "output_type": "stream",
     "text": [
      "Condition number of design matrix: 1.40\n",
      "\n",
      "Interpretation:\n",
      "- Excellent: Matrix is well-conditioned\n"
     ]
    }
   ],
   "source": [
    "# Calculate condition number\n",
    "condition_number = np.linalg.cond(X_scaled)\n",
    "print(f\"Condition number of design matrix: {condition_number:.2f}\")\n",
    "print(\"\\nInterpretation:\")\n",
    "if condition_number < 10:\n",
    "    print(\"- Excellent: Matrix is well-conditioned\")\n",
    "elif condition_number < 100:\n",
    "    print(\"- Good: Matrix is reasonably well-conditioned\")\n",
    "elif condition_number < 1000:\n",
    "    print(\"- Fair: Some numerical instability may occur\")\n",
    "else:\n",
    "    print(\"- Poor: Matrix is ill-conditioned, results may be unreliable\")"
   ]
  },
  {
   "cell_type": "code",
   "execution_count": 6,
   "id": "64bf140c",
   "metadata": {},
   "outputs": [
    {
     "name": "stdout",
     "output_type": "stream",
     "text": [
      "Correlation matrix:\n"
     ]
    },
    {
     "data": {
      "text/html": [
       "<div>\n",
       "<style scoped>\n",
       "    .dataframe tbody tr th:only-of-type {\n",
       "        vertical-align: middle;\n",
       "    }\n",
       "\n",
       "    .dataframe tbody tr th {\n",
       "        vertical-align: top;\n",
       "    }\n",
       "\n",
       "    .dataframe thead th {\n",
       "        text-align: right;\n",
       "    }\n",
       "</style>\n",
       "<table border=\"1\" class=\"dataframe\">\n",
       "  <thead>\n",
       "    <tr style=\"text-align: right;\">\n",
       "      <th></th>\n",
       "      <th>MedInc</th>\n",
       "      <th>AveRooms</th>\n",
       "      <th>MedHouseVal</th>\n",
       "    </tr>\n",
       "  </thead>\n",
       "  <tbody>\n",
       "    <tr>\n",
       "      <th>MedInc</th>\n",
       "      <td>1.000000</td>\n",
       "      <td>0.326895</td>\n",
       "      <td>0.688075</td>\n",
       "    </tr>\n",
       "    <tr>\n",
       "      <th>AveRooms</th>\n",
       "      <td>0.326895</td>\n",
       "      <td>1.000000</td>\n",
       "      <td>0.151948</td>\n",
       "    </tr>\n",
       "    <tr>\n",
       "      <th>MedHouseVal</th>\n",
       "      <td>0.688075</td>\n",
       "      <td>0.151948</td>\n",
       "      <td>1.000000</td>\n",
       "    </tr>\n",
       "  </tbody>\n",
       "</table>\n",
       "</div>"
      ],
      "text/plain": [
       "               MedInc  AveRooms  MedHouseVal\n",
       "MedInc       1.000000  0.326895     0.688075\n",
       "AveRooms     0.326895  1.000000     0.151948\n",
       "MedHouseVal  0.688075  0.151948     1.000000"
      ]
     },
     "metadata": {},
     "output_type": "display_data"
    },
    {
     "data": {
      "image/png": "[encoded data removed]",
      "text/plain": [
       "<Figure size 800x600 with 2 Axes>"
      ]
     },
     "metadata": {},
     "output_type": "display_data"
    },
    {
     "name": "stdout",
     "output_type": "stream",
     "text": [
      "\n",
      "Correlation between MedInc and AveRooms: 0.3269\n",
      "Multicollinearity assessment: Low\n"
     ]
    }
   ],
   "source": [
    "# Correlation analysis\n",
    "correlation_data = pd.DataFrame(X_features_scaled, columns=[x1, x2])\n",
    "correlation_data[target] = y_scaled\n",
    "\n",
    "# Calculate correlation matrix\n",
    "corr_matrix = correlation_data.corr()\n",
    "\n",
    "print(\"Correlation matrix:\")\n",
    "display(corr_matrix)\n",
    "\n",
    "# Visualize correlation matrix\n",
    "plt.figure(figsize=(8, 6))\n",
    "sns.heatmap(\n",
    "    corr_matrix,\n",
    "    annot=True,\n",
    "    cmap=\"coolwarm\",\n",
    "    center=0,\n",
    "    square=True,\n",
    "    linewidths=1,\n",
    "    cbar_kws={\"shrink\": 0.8},\n",
    ")\n",
    "plt.title(\"Correlation Heatmap\")\n",
    "plt.tight_layout()\n",
    "plt.show()\n",
    "\n",
    "# Check multicollinearity\n",
    "predictor_correlation = corr_matrix.loc[x1, x2]\n",
    "print(f\"\\nCorrelation between {x1} and {x2}: {predictor_correlation:.4f}\")\n",
    "print(f\"Multicollinearity assessment: {'Low' if abs(predictor_correlation) < 0.7 else 'High'}\")"
   ]
  },
  {
   "cell_type": "markdown",
   "id": "aea54138",
   "metadata": {},
   "source": [
    "## Manuele OLS\n",
    "\n",
    "## ✍️\n",
    "\n",
    "Hoe implementeren we de analytische oplossing in Python?"
   ]
  },
  {
   "cell_type": "markdown",
   "id": "31cff280",
   "metadata": {},
   "source": [
    "$$\n",
    "\\hat{\\pmb{b}} = (\\pmb{X}^T\\pmb{X})^{-1}\\pmb{X}^T\\pmb{y}\n",
    "$$"
   ]
  },
  {
   "cell_type": "code",
   "execution_count": 7,
   "id": "d8bc3f28",
   "metadata": {},
   "outputs": [
    {
     "name": "stdout",
     "output_type": "stream",
     "text": [
      "Closed-form OLS coefficients:\n",
      "  β₀ (bias):        0.000000\n",
      "  β₁ (MedInc):    0.714787\n",
      "  β₂ (AveRooms): -0.081712\n",
      "\n",
      "Model performance:\n",
      "  MSE:  0.520589\n",
      "  R²:   0.479411\n"
     ]
    }
   ],
   "source": [
    "def closed_form_ols(X, y):\n",
    "    \"\"\"\n",
    "    Compute OLS coefficients using the closed-form solution.\n",
    "\n",
    "    Parameters\n",
    "    ----------\n",
    "    X : ndarray, shape (n_samples, n_features)\n",
    "        Design matrix including bias term\n",
    "    y : ndarray, shape (n_samples,)\n",
    "        Target vector\n",
    "\n",
    "    Returns\n",
    "    -------\n",
    "    beta : ndarray, shape (n_features,)\n",
    "        Estimated coefficients\n",
    "    \"\"\"\n",
    "    XtX = X.T @ X\n",
    "    Xty = X.T @ y\n",
    "    beta = np.linalg.inv(XtX) @ Xty\n",
    "    return beta\n",
    "\n",
    "\n",
    "# Calculate coefficients\n",
    "beta_closed = closed_form_ols(X_scaled, y_scaled)\n",
    "\n",
    "print(\"Closed-form OLS coefficients:\")\n",
    "print(f\"  β₀ (bias):        {beta_closed[0]:.6f}\")\n",
    "print(f\"  β₁ ({x1}):    {beta_closed[1]:.6f}\")\n",
    "print(f\"  β₂ ({x2}): {beta_closed[2]:.6f}\")\n",
    "\n",
    "# Calculate predictions and metrics\n",
    "y_pred_closed = X_scaled @ beta_closed\n",
    "mse_closed = mean_squared_error(y_scaled, y_pred_closed)\n",
    "r2_closed = r2_score(y_scaled, y_pred_closed)\n",
    "\n",
    "print(\"\\nModel performance:\")\n",
    "print(f\"  MSE:  {mse_closed:.6f}\")\n",
    "print(f\"  R²:   {r2_closed:.6f}\")"
   ]
  },
  {
   "cell_type": "markdown",
   "id": "617ad768",
   "metadata": {},
   "source": [
    "## Scikit-learn OLS\n",
    "\n",
    "## ✍️\n",
    "\n",
    "Hoe implementeren we OLS met scikit-learn?"
   ]
  },
  {
   "cell_type": "code",
   "execution_count": 8,
   "id": "d9620c96",
   "metadata": {},
   "outputs": [
    {
     "name": "stdout",
     "output_type": "stream",
     "text": [
      "Scikit-learn OLS coefficients:\n",
      "  β₀ (bias):        0.000000\n",
      "  β₁ (MedInc):    0.714787\n",
      "  β₂ (AveRooms): -0.081712\n",
      "\n",
      "Model performance:\n",
      "  MSE:  0.520589\n",
      "  R²:   0.479411\n"
     ]
    }
   ],
   "source": [
    "# Scikit-learn LinearRegression\n",
    "lr_sklearn = LinearRegression()\n",
    "lr_sklearn.fit(X_features_scaled, y_scaled)\n",
    "\n",
    "# Extract coefficients\n",
    "beta_sklearn = np.array([lr_sklearn.intercept_, *lr_sklearn.coef_])\n",
    "\n",
    "print(\"Scikit-learn OLS coefficients:\")\n",
    "print(f\"  β₀ (bias):        {beta_sklearn[0]:.6f}\")\n",
    "print(f\"  β₁ ({x1}):    {beta_sklearn[1]:.6f}\")\n",
    "print(f\"  β₂ ({x2}): {beta_sklearn[2]:.6f}\")\n",
    "\n",
    "# Calculate metrics\n",
    "y_pred_sklearn = lr_sklearn.predict(X_features_scaled)\n",
    "mse_sklearn = mean_squared_error(y_scaled, y_pred_sklearn)\n",
    "r2_sklearn = r2_score(y_scaled, y_pred_sklearn)\n",
    "\n",
    "print(\"\\nModel performance:\")\n",
    "print(f\"  MSE:  {mse_sklearn:.6f}\")\n",
    "print(f\"  R²:   {r2_sklearn:.6f}\")"
   ]
  },
  {
   "cell_type": "markdown",
   "id": "32303c43",
   "metadata": {},
   "source": [
    "## NumPy OLS\n",
    "\n",
    "## ✍️\n",
    "\n",
    "Hoe implementeren we OLS met NumPy[^numpy]?\n",
    "\n",
    "[^numpy]: NumPy's lstsq gebruikt SVD (Singular Value Decomposition) wat numeriek stabieler is dan directe matrix inversie."
   ]
  },
  {
   "cell_type": "code",
   "execution_count": 9,
   "id": "4cc180a0",
   "metadata": {},
   "outputs": [
    {
     "name": "stdout",
     "output_type": "stream",
     "text": [
      "NumPy lstsq OLS coefficients:\n",
      "  β₀ (bias):        0.000000\n",
      "  β₁ (MedInc):    0.714787\n",
      "  β₂ (AveRooms): -0.081712\n",
      "\n",
      "Model performance:\n",
      "  MSE:  0.520589\n",
      "  R²:   0.479411\n",
      "\n",
      "Additional info:\n",
      "  Residual sum of squares: 10744.959552\n",
      "  Rank of design matrix: 3\n"
     ]
    }
   ],
   "source": [
    "# NumPy least squares solution\n",
    "beta_numpy, residuals, rank, s = np.linalg.lstsq(X_scaled, y_scaled, rcond=None)\n",
    "\n",
    "print(\"NumPy lstsq OLS coefficients:\")\n",
    "print(f\"  β₀ (bias):        {beta_numpy[0]:.6f}\")\n",
    "print(f\"  β₁ ({x1}):    {beta_numpy[1]:.6f}\")\n",
    "print(f\"  β₂ ({x2}): {beta_numpy[2]:.6f}\")\n",
    "\n",
    "# Calculate metrics\n",
    "y_pred_numpy = X_scaled @ beta_numpy\n",
    "mse_numpy = mean_squared_error(y_scaled, y_pred_numpy)\n",
    "r2_numpy = r2_score(y_scaled, y_pred_numpy)\n",
    "\n",
    "print(\"\\nModel performance:\")\n",
    "print(f\"  MSE:  {mse_numpy:.6f}\")\n",
    "print(f\"  R²:   {r2_numpy:.6f}\")\n",
    "print(\"\\nAdditional info:\")\n",
    "print(f\"  Residual sum of squares: {residuals[0]:.6f}\")\n",
    "print(f\"  Rank of design matrix: {rank}\")"
   ]
  },
  {
   "cell_type": "markdown",
   "id": "922df678",
   "metadata": {},
   "source": [
    "## Statsmodels OLS\n",
    "\n",
    "## ✍️\n",
    "\n",
    "Hoe implementeren we OLS met statsmodels?"
   ]
  },
  {
   "cell_type": "code",
   "execution_count": 10,
   "id": "f385dce2",
   "metadata": {},
   "outputs": [
    {
     "name": "stdout",
     "output_type": "stream",
     "text": [
      "Statsmodels OLS coefficients:\n",
      "  β₀ (bias):        0.000000\n",
      "  β₁ (MedInc):    0.714787\n",
      "  β₂ (AveRooms): -0.081712\n",
      "\n",
      "Full statistical summary:\n",
      "                            OLS Regression Results                            \n",
      "==============================================================================\n",
      "Dep. Variable:                      y   R-squared:                       0.479\n",
      "Model:                            OLS   Adj. R-squared:                  0.479\n",
      "Method:                 Least Squares   F-statistic:                     9502.\n",
      "Date:                Wed, 08 Oct 2025   Prob (F-statistic):               0.00\n",
      "Time:                        20:00:22   Log-Likelihood:                -22550.\n",
      "No. Observations:               20640   AIC:                         4.511e+04\n",
      "Df Residuals:                   20637   BIC:                         4.513e+04\n",
      "Df Model:                           2                                         \n",
      "Covariance Type:            nonrobust                                         \n",
      "==============================================================================\n",
      "                 coef    std err          t      P>|t|      [0.025      0.975]\n",
      "------------------------------------------------------------------------------\n",
      "const       4.753e-16      0.005   9.46e-14      1.000      -0.010       0.010\n",
      "x1             0.7148      0.005    134.497      0.000       0.704       0.725\n",
      "x2            -0.0817      0.005    -15.375      0.000      -0.092      -0.071\n",
      "==============================================================================\n",
      "Omnibus:                     4804.179   Durbin-Watson:                   0.692\n",
      "Prob(Omnibus):                  0.000   Jarque-Bera (JB):            12852.863\n",
      "Skew:                           1.250   Prob(JB):                         0.00\n",
      "Kurtosis:                       5.949   Cond. No.                         1.40\n",
      "==============================================================================\n",
      "\n",
      "Notes:\n",
      "[1] Standard Errors assume that the covariance matrix of the errors is correctly specified.\n"
     ]
    }
   ],
   "source": [
    "# Statsmodels OLS\n",
    "model_sm = sm.OLS(y_scaled, X_scaled)\n",
    "results_sm = model_sm.fit()\n",
    "\n",
    "# Extract coefficients\n",
    "beta_statsmodels = results_sm.params\n",
    "\n",
    "print(\"Statsmodels OLS coefficients:\")\n",
    "print(f\"  β₀ (bias):        {beta_statsmodels[0]:.6f}\")\n",
    "print(f\"  β₁ ({x1}):    {beta_statsmodels[1]:.6f}\")\n",
    "print(f\"  β₂ ({x2}): {beta_statsmodels[2]:.6f}\")\n",
    "\n",
    "print(\"\\nFull statistical summary:\")\n",
    "print(results_sm.summary())"
   ]
  },
  {
   "cell_type": "markdown",
   "id": "eb2bc4fc",
   "metadata": {},
   "source": [
    "## Samenvatting"
   ]
  },
  {
   "cell_type": "code",
   "execution_count": 11,
   "id": "24cc8e88",
   "metadata": {},
   "outputs": [
    {
     "name": "stdout",
     "output_type": "stream",
     "text": [
      "Coefficient comparison:\n"
     ]
    },
    {
     "data": {
      "text/html": [
       "<div>\n",
       "<style scoped>\n",
       "    .dataframe tbody tr th:only-of-type {\n",
       "        vertical-align: middle;\n",
       "    }\n",
       "\n",
       "    .dataframe tbody tr th {\n",
       "        vertical-align: top;\n",
       "    }\n",
       "\n",
       "    .dataframe thead th {\n",
       "        text-align: right;\n",
       "    }\n",
       "</style>\n",
       "<table border=\"1\" class=\"dataframe\">\n",
       "  <thead>\n",
       "    <tr style=\"text-align: right;\">\n",
       "      <th></th>\n",
       "      <th>Closed-form</th>\n",
       "      <th>Scikit-learn</th>\n",
       "      <th>NumPy lstsq</th>\n",
       "      <th>Statsmodels</th>\n",
       "    </tr>\n",
       "  </thead>\n",
       "  <tbody>\n",
       "    <tr>\n",
       "      <th>β₀ (bias)</th>\n",
       "      <td>2.128384e-16</td>\n",
       "      <td>1.619548e-16</td>\n",
       "      <td>1.916492e-16</td>\n",
       "      <td>4.753142e-16</td>\n",
       "    </tr>\n",
       "    <tr>\n",
       "      <th>β₁ (MedInc)</th>\n",
       "      <td>7.147865e-01</td>\n",
       "      <td>7.147865e-01</td>\n",
       "      <td>7.147865e-01</td>\n",
       "      <td>7.147865e-01</td>\n",
       "    </tr>\n",
       "    <tr>\n",
       "      <th>β₂ (AveRooms)</th>\n",
       "      <td>-8.171217e-02</td>\n",
       "      <td>-8.171217e-02</td>\n",
       "      <td>-8.171217e-02</td>\n",
       "      <td>-8.171217e-02</td>\n",
       "    </tr>\n",
       "  </tbody>\n",
       "</table>\n",
       "</div>"
      ],
      "text/plain": [
       "                Closed-form  Scikit-learn   NumPy lstsq   Statsmodels\n",
       "β₀ (bias)      2.128384e-16  1.619548e-16  1.916492e-16  4.753142e-16\n",
       "β₁ (MedInc)    7.147865e-01  7.147865e-01  7.147865e-01  7.147865e-01\n",
       "β₂ (AveRooms) -8.171217e-02 -8.171217e-02 -8.171217e-02 -8.171217e-02"
      ]
     },
     "metadata": {},
     "output_type": "display_data"
    }
   ],
   "source": [
    "# Create comparison DataFrame\n",
    "comparison_df = pd.DataFrame(\n",
    "    {\n",
    "        \"Closed-form\": beta_closed,\n",
    "        \"Scikit-learn\": beta_sklearn,\n",
    "        \"NumPy lstsq\": beta_numpy,\n",
    "        \"Statsmodels\": beta_statsmodels,\n",
    "    },\n",
    "    index=[\"β₀ (bias)\", f\"β₁ ({x1})\", f\"β₂ ({x2})\"],\n",
    ")\n",
    "\n",
    "print(\"Coefficient comparison:\")\n",
    "display(comparison_df)"
   ]
  },
  {
   "cell_type": "markdown",
   "id": "442ac986",
   "metadata": {},
   "source": [
    "## Automatische differentiatie\n",
    "\n",
    "PyTorch's automatische differentiatie `autograd` berekent gradiënten automatisch. De bibliotheek is voornamelijk bedoeld voor gebruik bij neurale netwerken, maar hier kunnen we er al een eerste keer gebruik van maken om _gradient descent_ te implementeren voor ons lineaire regressiemodel.\n",
    "\n",
    "Hieronder eerst een demonstratie met een eenvoudig voorbeeld."
   ]
  },
  {
   "cell_type": "code",
   "execution_count": null,
   "id": "f9f8e19b",
   "metadata": {},
   "outputs": [],
   "source": [
    "# Simple example: compute gradient of f(x) = x^2 + 3x + 5\n",
    "print(\"Example: f(x) = x² + 3x + 5\")\n",
    "print(\"Analytical gradient: f'(x) = 2x + 3\")\n",
    "\n",
    "x = torch.tensor(2.0, requires_grad=True)\n",
    "print(f\"\\nEvaluate at x = {x.item()}\")\n",
    "\n",
    "# Forward pass\n",
    "f = x**2 + 3 * x + 5\n",
    "print(f\"f(x) = {f.item()}\")\n",
    "\n",
    "# Backward pass (compute gradient)\n",
    "f.backward()\n",
    "print(f\"Computed gradient f'(x) = {x.grad.item()}\")\n",
    "print(f\"Analytical gradient at x=2: 2(2) + 3 = {2 * 2 + 3}\")"
   ]
  },
  {
   "cell_type": "markdown",
   "id": "cc556f2c",
   "metadata": {},
   "source": [
    "### Hoe werkt automatische differentiatie?\n",
    "\n",
    "In het bovenstaande voorbeeld zien we hoe PyTorch de gradiënt automatisch berekent:\n",
    "\n",
    "1. **Forward pass**: We definiëren de functie `f = x² + 3x + 5` en PyTorch houdt alle operaties bij in een _computational graph_.\n",
    "\n",
    "2. **Backward pass**: Bij het aanroepen van `f.backward()` past PyTorch de som regel toe om de gradiënt te berekenen. Voor elke operatie in de graph kent PyTorch de afgeleide:\n",
    "   - Afgeleide van x²: 2x\n",
    "   - Afgeleide van 3x: 3\n",
    "   - Afgeleide van constante: 0\n",
    "\n",
    "3. **Resultaat**: De gradiënt wordt opgeslagen in `x.grad`. Bij x=2 vinden we f'(2) = 2(2) + 3 = 7.\n",
    "\n",
    "Dit mechanisme is fundamenteel voor gradient descent: we kunnen complexe functies definiëren en PyTorch berekent automatisch de gradiënten die nodig zijn om de parameters te optimaliseren."
   ]
  },
  {
   "cell_type": "markdown",
   "id": "3ab02cdd",
   "metadata": {},
   "source": [
    "## ✍️\n",
    "\n",
    "Hoe implementeren we automatische differentiatie voor:\n",
    "\n",
    "$$\n",
    "f(x, y) = x^2y + 3xy^2\n",
    "$$"
   ]
  },
  {
   "cell_type": "code",
   "execution_count": null,
   "id": "a132361a",
   "metadata": {},
   "outputs": [],
   "source": [
    "# Example with multiple variables\n",
    "print(\"Example: f(x, y) = x²y + 3xy²\")\n",
    "print(\"∂f/∂x = 2xy + 3y²\")\n",
    "print(\"∂f/∂y = x² + 6xy\")\n",
    "\n",
    "x = torch.tensor(3.0, requires_grad=True)\n",
    "y = torch.tensor(2.0, requires_grad=True)\n",
    "\n",
    "print(f\"\\nEvaluate at x = {x.item()}, y = {y.item()}\")\n",
    "\n",
    "# Forward pass\n",
    "f = x**2 * y + 3 * x * y**2\n",
    "print(f\"f(x, y) = {f.item()}\")\n",
    "\n",
    "# Backward pass\n",
    "f.backward()\n",
    "print(\"\\nComputed gradients:\")\n",
    "print(f\"  ∂f/∂x = {x.grad.item()}\")\n",
    "print(f\"  ∂f/∂y = {y.grad.item()}\")\n",
    "\n",
    "print(\"\\nAnalytical gradients at x=3, y=2:\")\n",
    "print(f\"  ∂f/∂x = 2(3)(2) + 3(2)² = {2 * 3 * 2 + 3 * 2**2}\")\n",
    "print(f\"  ∂f/∂y = (3)² + 6(3)(2) = {3**2 + 6 * 3 * 2}\")"
   ]
  },
  {
   "cell_type": "markdown",
   "id": "eae0cad6",
   "metadata": {},
   "source": [
    "## Gradient Descent met `autograd`"
   ]
  },
  {
   "cell_type": "markdown",
   "id": "ece1c69b",
   "metadata": {},
   "source": [
    "## ✍️"
   ]
  },
  {
   "cell_type": "markdown",
   "id": "2b188d32",
   "metadata": {},
   "source": [
    "## Stochastic Gradient Descent"
   ]
  },
  {
   "cell_type": "markdown",
   "id": "ddced652",
   "metadata": {},
   "source": [
    "## ✍️"
   ]
  }
 ],
 "metadata": {
  "kernelspec": {
   "display_name": "ml-courses",
   "language": "python",
   "name": "python3"
  },
  "language_info": {
   "codemirror_mode": {
    "name": "ipython",
    "version": 3
   },
   "file_extension": ".py",
   "mimetype": "text/x-python",
   "name": "python",
   "nbconvert_exporter": "python",
   "pygments_lexer": "ipython3",
   "version": "3.10.18"
  }
 },
 "nbformat": 4,
 "nbformat_minor": 5
}
