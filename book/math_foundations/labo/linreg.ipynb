{
 "cells": [
  {
   "cell_type": "markdown",
   "id": "bb23895e",
   "metadata": {},
   "source": [
    "# OLS en Gradient Descent\n",
    "\n",
    "In dit labo passen we verschillende methoden toe om lineaire regressie parameters te schatten:\n",
    "1. De _closed form_ OLS oplossing\n",
    "2. Vergelijking met scikit-learn, NumPy en statsmodels OLS implementaties\n",
    "3. Gradient berekening met PyTorch autograd\n",
    "4. Implementatie van Stochastic Gradient Descent"
   ]
  },
  {
   "cell_type": "code",
   "execution_count": null,
   "id": "fc710b36",
   "metadata": {},
   "outputs": [],
   "source": [
    "import matplotlib.pyplot as plt\n",
    "import numpy as np\n",
    "import pandas as pd\n",
    "import seaborn as sns\n",
    "import statsmodels.api as sm\n",
    "import torch\n",
    "from sklearn.datasets import fetch_california_housing\n",
    "from sklearn.linear_model import LinearRegression\n",
    "from sklearn.metrics import mean_squared_error, r2_score\n",
    "\n",
    "rng = np.random.default_rng(67)\n",
    "torch.manual_seed(67)\n",
    "\n",
    "plt.style.use(\"seaborn-v0_8-darkgrid\")\n",
    "sns.set_palette(\"husl\")"
   ]
  },
  {
   "cell_type": "markdown",
   "id": "d7e21ab9",
   "metadata": {},
   "source": [
    "## Dataset [California Housing](https://scikit-learn.org/stable/datasets/real_world.html#california-housing-dataset) 🌴"
   ]
  },
  {
   "cell_type": "code",
   "execution_count": null,
   "id": "5fc16d46",
   "metadata": {},
   "outputs": [],
   "source": [
    "housing = fetch_california_housing(as_frame=True)\n",
    "df = housing.frame\n",
    "\n",
    "print(f\"Dataset shape: {df.shape}\")\n",
    "print(f\"\\nFeatures: {housing.feature_names}\")\n",
    "print(\"\\nFirst rows:\")\n",
    "display(df.head())\n",
    "\n",
    "print(\"\\nBasic statistics:\")\n",
    "display(df.describe())"
   ]
  },
  {
   "cell_type": "markdown",
   "id": "f11ba4d0",
   "metadata": {},
   "source": [
    "## Design matrix\n",
    "\n",
    "We werken met slechts twee predictor-variabelen:\n",
    "1. `MedInc`: _median income in block group_\n",
    "2. `AveRooms`: _average number of rooms per household_   \n",
    "  \n",
    "De target variabele is `MedHouseVal`: _median house value for California districts, expressed in hundreds of thousands of dollars ($100,000)_\n",
    "\n",
    "## ✍️\n",
    "Hoe ziet de algemene matrix vorm van het model eruit?"
   ]
  },
  {
   "cell_type": "markdown",
   "id": "5aa82aa9",
   "metadata": {},
   "source": []
  },
  {
   "cell_type": "markdown",
   "id": "9a489720",
   "metadata": {},
   "source": [
    "## ✍️\n",
    "\n",
    "Hoe ziet de parameter tensor er specifiek uit?"
   ]
  },
  {
   "cell_type": "markdown",
   "id": "4b79fa4f",
   "metadata": {},
   "source": []
  },
  {
   "cell_type": "markdown",
   "id": "b0d2bc92",
   "metadata": {},
   "source": [
    "## ✍️\n",
    "\n",
    "Hoe die de design/feature matrix er specifiek uit?"
   ]
  },
  {
   "cell_type": "markdown",
   "id": "16389d2f",
   "metadata": {},
   "source": []
  },
  {
   "cell_type": "markdown",
   "id": "5d51e18b",
   "metadata": {},
   "source": [
    "## ✍️\n",
    "\n",
    "Hoe implementeren we deze tensors in Python?"
   ]
  },
  {
   "cell_type": "code",
   "execution_count": null,
   "id": "7f5fb144",
   "metadata": {},
   "outputs": [],
   "source": []
  },
  {
   "cell_type": "markdown",
   "id": "b6aceb5a",
   "metadata": {},
   "source": [
    "## Conditienummer en Correlatie\n",
    "\n",
    "## ✍️\n",
    "Hoe is het gesteld met het conditienummer van de design matrix en de multicollineariteit bij de predictoren?"
   ]
  },
  {
   "cell_type": "code",
   "execution_count": null,
   "id": "29be856c",
   "metadata": {},
   "outputs": [],
   "source": [
    "# Calculate condition number"
   ]
  },
  {
   "cell_type": "code",
   "execution_count": null,
   "id": "64bf140c",
   "metadata": {},
   "outputs": [],
   "source": [
    "# Correlation analysis"
   ]
  },
  {
   "cell_type": "markdown",
   "id": "aea54138",
   "metadata": {},
   "source": [
    "## Manuele OLS\n",
    "\n",
    "## ✍️\n",
    "\n",
    "Hoe implementeren we de analytische oplossing in Python?"
   ]
  },
  {
   "cell_type": "code",
   "execution_count": null,
   "id": "d8bc3f28",
   "metadata": {},
   "outputs": [],
   "source": []
  },
  {
   "cell_type": "markdown",
   "id": "617ad768",
   "metadata": {},
   "source": [
    "## Scikit-learn OLS\n",
    "\n",
    "## ✍️\n",
    "\n",
    "Hoe implementeren we OLS met scikit-learn?"
   ]
  },
  {
   "cell_type": "code",
   "execution_count": null,
   "id": "d9620c96",
   "metadata": {},
   "outputs": [],
   "source": [
    "# Scikit-learn LinearRegression"
   ]
  },
  {
   "cell_type": "markdown",
   "id": "32303c43",
   "metadata": {},
   "source": [
    "## NumPy OLS\n",
    "\n",
    "## ✍️\n",
    "\n",
    "Hoe implementeren we OLS met NumPy?"
   ]
  },
  {
   "cell_type": "code",
   "execution_count": null,
   "id": "4cc180a0",
   "metadata": {},
   "outputs": [],
   "source": [
    "# NumPy least squares solution"
   ]
  },
  {
   "cell_type": "markdown",
   "id": "922df678",
   "metadata": {},
   "source": [
    "## Statsmodels OLS\n",
    "\n",
    "## ✍️\n",
    "\n",
    "Hoe implementeren we OLS met statsmodels?"
   ]
  },
  {
   "cell_type": "code",
   "execution_count": null,
   "id": "f385dce2",
   "metadata": {},
   "outputs": [],
   "source": [
    "# Statsmodels OLS"
   ]
  },
  {
   "cell_type": "markdown",
   "id": "442ac986",
   "metadata": {},
   "source": [
    "## Automatische differentiatie\n",
    "\n",
    "PyTorch's automatische differentiatie `autograd` berekent gradiënten automatisch via de chain rule. De bibliotheek is voornamelijk bedoeld voor gebruik bij neurale netwerken, maar hier kunnen we er al een eerste keer gebruik van maken om _gradient descent_ te implementeren voor ons lineaire regressiemodel.\n",
    "\n",
    "Hieronder eerst een demonstratie met een eenvoudig voorbeeld."
   ]
  },
  {
   "cell_type": "code",
   "execution_count": null,
   "id": "f9f8e19b",
   "metadata": {},
   "outputs": [],
   "source": [
    "# Simple example: compute gradient of f(x) = x^2 + 3x + 5\n",
    "print(\"Example: f(x) = x² + 3x + 5\")\n",
    "print(\"Analytical gradient: f'(x) = 2x + 3\")\n",
    "\n",
    "x = torch.tensor(2.0, requires_grad=True)\n",
    "print(f\"\\nEvaluate at x = {x.item()}\")\n",
    "\n",
    "# Forward pass\n",
    "f = x**2 + 3 * x + 5\n",
    "print(f\"f(x) = {f.item()}\")\n",
    "\n",
    "# Backward pass (compute gradient)\n",
    "f.backward()\n",
    "print(f\"Computed gradient f'(x) = {x.grad.item()}\")\n",
    "print(f\"Analytical gradient at x=2: 2(2) + 3 = {2 * 2 + 3}\")"
   ]
  },
  {
   "cell_type": "markdown",
   "id": "cc556f2c",
   "metadata": {},
   "source": [
    "### Hoe werkt automatische differentiatie?\n",
    "\n",
    "In het bovenstaande voorbeeld zien we hoe PyTorch de gradiënt automatisch berekent:\n",
    "\n",
    "1. **Forward pass**: We definiëren de functie `f = x² + 3x + 5` en PyTorch houdt alle operaties bij in een _computational graph_.\n",
    "\n",
    "2. **Backward pass**: Bij het aanroepen van `f.backward()` past PyTorch de _chain rule_ toe om de gradiënt te berekenen. Voor elke operatie in de graph kent PyTorch de afgeleide:\n",
    "   - Afgeleide van x²: 2x\n",
    "   - Afgeleide van 3x: 3\n",
    "   - Afgeleide van constante: 0\n",
    "\n",
    "3. **Resultaat**: De gradiënt wordt opgeslagen in `x.grad`. Bij x=2 vinden we f'(2) = 2(2) + 3 = 7.\n",
    "\n",
    "Dit mechanisme is fundamenteel voor gradient descent: we kunnen complexe functies definiëren en PyTorch berekent automatisch de gradiënten die nodig zijn om de parameters te optimaliseren."
   ]
  },
  {
   "cell_type": "markdown",
   "id": "3ab02cdd",
   "metadata": {},
   "source": [
    "## ✍️\n",
    "\n",
    "Hoe implementeren we automatische differentiatie voor:\n",
    "\n",
    "$$\n",
    "f(x, y) = x^2y + 3xy^2\n",
    "$$"
   ]
  },
  {
   "cell_type": "code",
   "execution_count": null,
   "id": "a132361a",
   "metadata": {},
   "outputs": [],
   "source": []
  },
  {
   "cell_type": "markdown",
   "id": "eae0cad6",
   "metadata": {},
   "source": [
    "## Gradient Descent met `autograd`"
   ]
  },
  {
   "cell_type": "markdown",
   "id": "3f657cb6",
   "metadata": {},
   "source": [
    "## ✍️"
   ]
  }
 ],
 "metadata": {
  "kernelspec": {
   "display_name": "ml-courses",
   "language": "python",
   "name": "python3"
  },
  "language_info": {
   "codemirror_mode": {
    "name": "ipython",
    "version": 3
   },
   "file_extension": ".py",
   "mimetype": "text/x-python",
   "name": "python",
   "nbconvert_exporter": "python",
   "pygments_lexer": "ipython3",
   "version": "3.10.18"
  }
 },
 "nbformat": 4,
 "nbformat_minor": 5
}
