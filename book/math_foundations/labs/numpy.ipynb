{
  "cells": [
    {
      "cell_type": "markdown",
      "metadata": {},
      "source": [
        "# Numpy referentie"
      ]
    },
    {
      "cell_type": "markdown",
      "metadata": {
        "id": "fY12nHhyL9hX"
      },
      "source": [
        "Numpy is dé library voor wetenschappelijk rekenen in Python. Het biedt een hoogperformant multidimensioneel array object, en tools om met deze objecten te werken.\n",
        "Hier geven we een referentie van de meest belangrijke functionaliteit, maar bekijk zeker ook de officiële [documentatie](https://numpy.org/doc/stable/reference/index.html)."
      ]
    },
    {
      "cell_type": "markdown",
      "metadata": {
        "id": "lZMyAdqhL9hY"
      },
      "source": [
        "Om Numpy te gebruiken, moeten we eerst het `numpy` package importeren:"
      ]
    },
    {
      "cell_type": "code",
      "execution_count": 1,
      "metadata": {
        "id": "58QdX8BLL9hZ"
      },
      "outputs": [],
      "source": [
        "import numpy as np"
      ]
    },
    {
      "cell_type": "markdown",
      "metadata": {
        "id": "DDx6v1EdL9hb"
      },
      "source": [
        "## Arrays"
      ]
    },
    {
      "cell_type": "markdown",
      "metadata": {
        "id": "f-Zv3f7LL9hc"
      },
      "source": [
        "Een numpy array is een raster van waarden, allemaal van hetzelfde type, en wordt geïndexeerd aan de hand van integers. De _shape_ van een array is een tuple van integers die de grootte van de array langs elke dimensie aangeeft."
      ]
    },
    {
      "cell_type": "code",
      "execution_count": 2,
      "metadata": {
        "colab": {
          "base_uri": "https://localhost:8080/",
          "height": 52
        },
        "id": "-l3JrGxCL9hc",
        "outputId": "8d9dad18-c734-4a8a-ca8c-44060a40fb79"
      },
      "outputs": [
        {
          "name": "stdout",
          "output_type": "stream",
          "text": [
            "[1 2 3]\n",
            "type(a): <class 'numpy.ndarray'>\n",
            "a.shape: (3,)\n",
            "a[0]: 1\n",
            "a[1]: 2\n",
            "a[2]: 3\n"
          ]
        }
      ],
      "source": [
        "# Create a vector\n",
        "a = np.array([1, 2, 3])\n",
        "print(a)\n",
        "print(f\"type(a): {type(a)}\\na.shape: {a.shape}\\na[0]: {a[0]}\\na[1]: {a[1]}\\na[2]: {a[2]}\")\n"
      ]
    },
    {
      "cell_type": "code",
      "execution_count": 3,
      "metadata": {},
      "outputs": [
        {
          "name": "stdout",
          "output_type": "stream",
          "text": [
            "[5 2 3]\n"
          ]
        }
      ],
      "source": [
        "# Change an element of the array\n",
        "a[0] = 5\n",
        "print(a)"
      ]
    },
    {
      "cell_type": "code",
      "execution_count": 4,
      "metadata": {
        "colab": {
          "base_uri": "https://localhost:8080/",
          "height": 52
        },
        "id": "ma6mk-kdL9hh",
        "outputId": "0b54ff2f-e7f1-4b30-c653-9bf81cb8fbb0"
      },
      "outputs": [
        {
          "name": "stdout",
          "output_type": "stream",
          "text": [
            "[[1 2 3]\n",
            " [4 5 6]]\n",
            "type(b): <class 'numpy.ndarray'>\n",
            "b.shape: (2, 3)\n",
            "b[0, 0]: 1\n",
            "b[0, 2]: 3\n",
            "b[1, 0]: 4\n"
          ]
        }
      ],
      "source": [
        "# Create a rank 2 array\n",
        "b = np.array([[1, 2, 3], [4, 5, 6]])\n",
        "print(b)\n",
        "print(\n",
        "    f\"type(b): {type(b)}\\nb.shape: {b.shape}\\nb[0, 0]: {b[0, 0]}\\nb[0, 2]: {b[0, 2]}\\nb[1, 0]: {b[1, 0]}\"\n",
        ")"
      ]
    },
    {
      "cell_type": "markdown",
      "metadata": {},
      "source": [
        "Indexatie kan ook gebeuren aan de hand van tuples van integers waardoor we de indexatie via variabelen kunnen doen."
      ]
    },
    {
      "cell_type": "code",
      "execution_count": 5,
      "metadata": {},
      "outputs": [
        {
          "name": "stdout",
          "output_type": "stream",
          "text": [
            "3\n"
          ]
        }
      ],
      "source": [
        "index = (0, 2)\n",
        "print(b[index])"
      ]
    },
    {
      "cell_type": "markdown",
      "metadata": {
        "id": "F2qwdyvuL9hn"
      },
      "source": [
        "### Speciale arrays\n",
        "\n",
        "Er zijn ook talrijke functies om speciale matrices te creëren op basis van shape parameters."
      ]
    },
    {
      "cell_type": "code",
      "execution_count": 6,
      "metadata": {},
      "outputs": [
        {
          "data": {
            "text/plain": [
              "array([0, 1, 2, 3, 4])"
            ]
          },
          "execution_count": 6,
          "metadata": {},
          "output_type": "execute_result"
        }
      ],
      "source": [
        "# Create a range of 5 values\n",
        "np.arange(5)"
      ]
    },
    {
      "cell_type": "code",
      "execution_count": 7,
      "metadata": {},
      "outputs": [
        {
          "data": {
            "text/plain": [
              "array([0.  , 0.25, 0.5 , 0.75, 1.  ])"
            ]
          },
          "execution_count": 7,
          "metadata": {},
          "output_type": "execute_result"
        }
      ],
      "source": [
        "# Create a equally spaced range between 0 and 1 with 5 steps\n",
        "np.linspace(0, 1, 5)  # 5 values from 0 to 1"
      ]
    },
    {
      "cell_type": "code",
      "execution_count": 8,
      "metadata": {
        "colab": {
          "base_uri": "https://localhost:8080/",
          "height": 52
        },
        "id": "mVTN_EBqL9hn",
        "outputId": "d267c65f-ba90-4043-cedb-f468ab1bcc5d"
      },
      "outputs": [
        {
          "name": "stdout",
          "output_type": "stream",
          "text": [
            "[[0. 0.]\n",
            " [0. 0.]\n",
            " [0. 0.]]\n"
          ]
        }
      ],
      "source": [
        "# Create an array of all zeros\n",
        "a = np.zeros((3, 2))\n",
        "print(a)"
      ]
    },
    {
      "cell_type": "code",
      "execution_count": 9,
      "metadata": {
        "colab": {
          "base_uri": "https://localhost:8080/",
          "height": 34
        },
        "id": "skiKlNmlL9h5",
        "outputId": "7d1ec1b5-a1fe-4f44-cbe3-cdeacad425f1"
      },
      "outputs": [
        {
          "name": "stdout",
          "output_type": "stream",
          "text": [
            "[[1. 1. 1. 1. 1.]\n",
            " [1. 1. 1. 1. 1.]\n",
            " [1. 1. 1. 1. 1.]\n",
            " [1. 1. 1. 1. 1.]]\n"
          ]
        }
      ],
      "source": [
        "# Create an array of all ones\n",
        "b = np.ones((4, 5))\n",
        "print(b)"
      ]
    },
    {
      "cell_type": "code",
      "execution_count": 10,
      "metadata": {
        "colab": {
          "base_uri": "https://localhost:8080/",
          "height": 52
        },
        "id": "HtFsr03bL9h7",
        "outputId": "2688b157-2fad-4fc6-f20b-8633207f0326"
      },
      "outputs": [
        {
          "name": "stdout",
          "output_type": "stream",
          "text": [
            "[[7 7 7]\n",
            " [7 7 7]]\n"
          ]
        }
      ],
      "source": [
        "# Create a constant array\n",
        "c = np.full((2, 3), 7)\n",
        "print(c)"
      ]
    },
    {
      "cell_type": "code",
      "execution_count": 11,
      "metadata": {
        "colab": {
          "base_uri": "https://localhost:8080/",
          "height": 52
        },
        "id": "-QcALHvkL9h9",
        "outputId": "5035d6fe-cb7e-4222-c972-55fe23c9d4c0"
      },
      "outputs": [
        {
          "name": "stdout",
          "output_type": "stream",
          "text": [
            "[[1. 0. 0. 0. 0.]\n",
            " [0. 1. 0. 0. 0.]\n",
            " [0. 0. 1. 0. 0.]\n",
            " [0. 0. 0. 1. 0.]\n",
            " [0. 0. 0. 0. 1.]]\n"
          ]
        }
      ],
      "source": [
        "# Create a 5x5 identity matrix\n",
        "d = np.eye(5)\n",
        "print(d)"
      ]
    },
    {
      "cell_type": "code",
      "execution_count": 12,
      "metadata": {
        "colab": {
          "base_uri": "https://localhost:8080/",
          "height": 52
        },
        "id": "RCpaYg9qL9iA",
        "outputId": "25f0b387-39cf-42f3-8701-de860cc75e2e"
      },
      "outputs": [
        {
          "name": "stdout",
          "output_type": "stream",
          "text": [
            "[[0.48062712 0.33460006 0.06931556]\n",
            " [0.32320907 0.67773802 0.24421142]]\n"
          ]
        }
      ],
      "source": [
        "# Create an array filled with random values\n",
        "rng = np.random.default_rng()  # Create a random number generator\n",
        "e = rng.random((2, 3))\n",
        "print(e)"
      ]
    },
    {
      "cell_type": "markdown",
      "metadata": {
        "id": "QYv4JyIEL9iD"
      },
      "source": [
        "### _Slicing_\n",
        "Zoals Python _lists_, kunnen we indexen gebruiken om _slices_ uit numpy arrays te bekomen. We kunnen dat apart voor iedere dimensie doen"
      ]
    },
    {
      "cell_type": "code",
      "execution_count": 13,
      "metadata": {
        "colab": {
          "base_uri": "https://localhost:8080/",
          "height": 52
        },
        "id": "wLWA0udwL9iD",
        "outputId": "99f08618-c513-4982-8982-b146fc72dab3"
      },
      "outputs": [
        {
          "name": "stdout",
          "output_type": "stream",
          "text": [
            "[ 4  8 12]\n",
            "[ 4  8 12]\n"
          ]
        }
      ],
      "source": [
        "a = np.array([[1, 2, 3, 4], [5, 6, 7, 8], [9, 10, 11, 12]])\n",
        "\n",
        "# Last column of a\n",
        "print(a[:, 3])\n",
        "# or\n",
        "print(a[:, -1])"
      ]
    },
    {
      "cell_type": "code",
      "execution_count": 14,
      "metadata": {},
      "outputs": [
        {
          "name": "stdout",
          "output_type": "stream",
          "text": [
            "[[2 3]\n",
            " [6 7]]\n"
          ]
        }
      ],
      "source": [
        "# First two rows and columns 1 and 2 of a\n",
        "print(a[0:2, 1:3])"
      ]
    },
    {
      "cell_type": "markdown",
      "metadata": {
        "id": "KahhtZKYL9iF"
      },
      "source": [
        ":::{warning}\n",
        "Wanneer we een _slice_ toewijzen aan een andere variabele, is dit een _pointer_. Het geheugenadres blijft dus hetzelfde en als we de pointer wijzigen, zal die wijziging ook te zien zijn bij de oorspronkelijke array variabele.\n",
        ":::"
      ]
    },
    {
      "cell_type": "code",
      "execution_count": 15,
      "metadata": {},
      "outputs": [
        {
          "name": "stdout",
          "output_type": "stream",
          "text": [
            "a: [[ 1  2  3  4]\n",
            " [ 5  6  7  8]\n",
            " [ 9 10 11 12]]\n",
            "b: [[2 3]\n",
            " [6 7]]\n"
          ]
        }
      ],
      "source": [
        "# Assign the first 2 rows and columns 1 and 2 of a to b\n",
        "b = a[:2, 1:3]\n",
        "print(f\"a: {a}\")\n",
        "print(f\"b: {b}\")\n"
      ]
    },
    {
      "cell_type": "code",
      "execution_count": 16,
      "metadata": {},
      "outputs": [
        {
          "name": "stdout",
          "output_type": "stream",
          "text": [
            "a: [[  1 777   3   4]\n",
            " [  5   6   7   8]\n",
            " [  9  10  11  12]]\n",
            "b: [[777   3]\n",
            " [  6   7]]\n"
          ]
        }
      ],
      "source": [
        "# Now change an element of b\n",
        "b[0, 0] = 777\n",
        "print(f\"a: {a}\")\n",
        "print(f\"b: {b}\")\n"
      ]
    },
    {
      "cell_type": "markdown",
      "metadata": {},
      "source": [
        "Indien dit gedrag niet gewenst is, moeten we een expliciete kopie nemen van de oorspronkelijke array."
      ]
    },
    {
      "cell_type": "code",
      "execution_count": 17,
      "metadata": {},
      "outputs": [
        {
          "name": "stdout",
          "output_type": "stream",
          "text": [
            "a: [[  1 777   3   4]\n",
            " [  5   6   7   8]\n",
            " [  9  10  11  12]]\n",
            "c: [[777   3]\n",
            " [  6   7]]\n"
          ]
        }
      ],
      "source": [
        "c = a[:2, 1:3].copy()  # Explicit copy\n",
        "print(f\"a: {a}\")\n",
        "print(f\"c: {c}\")"
      ]
    },
    {
      "cell_type": "code",
      "execution_count": 18,
      "metadata": {},
      "outputs": [
        {
          "name": "stdout",
          "output_type": "stream",
          "text": [
            "a: [[  1 777   3   4]\n",
            " [  5   6   7   8]\n",
            " [  9  10  11  12]]\n",
            "c: [[999   3]\n",
            " [  6   7]]\n"
          ]
        }
      ],
      "source": [
        "c[0, 0] = 999\n",
        "print(f\"a: {a}\")  # Verify that a is unchanged\n",
        "print(f\"c: {c}\")"
      ]
    },
    {
      "cell_type": "markdown",
      "metadata": {},
      "source": [
        "### Boolean indexing\n",
        "\n",
        "Je kan _boolean_ waarden (`True` of `False` in Python) gebruiken om specifieke element uit een array te lichten. Dit wordt frequent gebruikt om arrays te filteren op basis van een bepaalde conditie."
      ]
    },
    {
      "cell_type": "code",
      "execution_count": 19,
      "metadata": {
        "colab": {
          "base_uri": "https://localhost:8080/",
          "height": 69
        },
        "id": "32PusjtKL9id",
        "outputId": "8782e8ec-b78d-44d7-8141-23e39750b854"
      },
      "outputs": [
        {
          "name": "stdout",
          "output_type": "stream",
          "text": [
            "[[False False]\n",
            " [ True  True]\n",
            " [ True  True]]\n",
            "[3 4 5 6]\n",
            "[3 4 5 6]\n"
          ]
        }
      ],
      "source": [
        "a = np.array([[1, 2], [3, 4], [5, 6]])\n",
        "\n",
        "bool_idx = a > 2  # Find the elements of a that are bigger than 2;\n",
        "\n",
        "print(bool_idx)\n",
        "print(a[bool_idx])\n",
        "# or\n",
        "print(a[a > 2])"
      ]
    },
    {
      "cell_type": "markdown",
      "metadata": {},
      "source": [
        "Er kunnen ook speciale functies aangeroepen worden om condities te evalueren."
      ]
    },
    {
      "cell_type": "code",
      "execution_count": 20,
      "metadata": {},
      "outputs": [
        {
          "name": "stdout",
          "output_type": "stream",
          "text": [
            "[[ 1. nan]\n",
            " [ 3.  4.]\n",
            " [nan  6.]]\n"
          ]
        }
      ],
      "source": [
        "a = np.array([[1, np.nan], [3, 4], [np.nan, 6]])\n",
        "print(a)"
      ]
    },
    {
      "cell_type": "code",
      "execution_count": 21,
      "metadata": {},
      "outputs": [
        {
          "data": {
            "text/plain": [
              "array([[False,  True],\n",
              "       [False, False],\n",
              "       [ True, False]])"
            ]
          },
          "execution_count": 21,
          "metadata": {},
          "output_type": "execute_result"
        }
      ],
      "source": [
        "np.isnan(a)  # Find the nan elements of a"
      ]
    },
    {
      "cell_type": "code",
      "execution_count": 22,
      "metadata": {},
      "outputs": [
        {
          "name": "stdout",
          "output_type": "stream",
          "text": [
            "[[ 1. nan]\n",
            " [ 3.  4.]\n",
            " [nan  6.]]\n",
            "[[ 1. nan]\n",
            " [ 3.  4.]\n",
            " [nan  6.]]\n"
          ]
        }
      ],
      "source": [
        "a[np.isnan(a) == False]\n",
        "print(a)\n",
        "# Or\n",
        "a[~np.isnan(a)]\n",
        "print(a)"
      ]
    },
    {
      "cell_type": "markdown",
      "metadata": {
        "id": "jTctwqdQL9ih"
      },
      "source": [
        "### Datatypes (_dtype_)\n",
        "Numpy probeert het datatype af te leiden uit de input, maar je kan ook expiciete types meegeven of _casten_."
      ]
    },
    {
      "cell_type": "code",
      "execution_count": 23,
      "metadata": {},
      "outputs": [
        {
          "name": "stdout",
          "output_type": "stream",
          "text": [
            "['fruit' 'meat' 'vegetable' 'dairy']\n",
            "<U9\n"
          ]
        }
      ],
      "source": [
        "a = np.array([\"fruit\", \"meat\", \"vegetable\", \"dairy\"])\n",
        "print(a)\n",
        "print(a.dtype)"
      ]
    },
    {
      "cell_type": "code",
      "execution_count": 24,
      "metadata": {},
      "outputs": [
        {
          "ename": "ValueError",
          "evalue": "could not convert string to float: np.str_('fruit')",
          "output_type": "error",
          "traceback": [
            "\u001b[0;31m---------------------------------------------------------------------------\u001b[0m",
            "\u001b[0;31mValueError\u001b[0m                                Traceback (most recent call last)",
            "Cell \u001b[0;32mIn[24], line 1\u001b[0m\n\u001b[0;32m----> 1\u001b[0m \u001b[43ma\u001b[49m\u001b[38;5;241;43m.\u001b[39;49m\u001b[43mastype\u001b[49m\u001b[43m(\u001b[49m\u001b[38;5;124;43m\"\u001b[39;49m\u001b[38;5;124;43mfloat64\u001b[39;49m\u001b[38;5;124;43m\"\u001b[39;49m\u001b[43m)\u001b[49m\n",
            "\u001b[0;31mValueError\u001b[0m: could not convert string to float: np.str_('fruit')"
          ]
        }
      ],
      "source": [
        "a.astype(\"float64\")"
      ]
    },
    {
      "cell_type": "code",
      "execution_count": 25,
      "metadata": {},
      "outputs": [
        {
          "name": "stdout",
          "output_type": "stream",
          "text": [
            "[0 1 2 3 4 5 6 7 8 9]\n",
            "int64\n"
          ]
        }
      ],
      "source": [
        "a = np.arange(10)\n",
        "print(a)\n",
        "print(a.dtype)"
      ]
    },
    {
      "cell_type": "code",
      "execution_count": 26,
      "metadata": {},
      "outputs": [
        {
          "name": "stdout",
          "output_type": "stream",
          "text": [
            "[0. 1. 2. 3. 4. 5. 6. 7. 8. 9.]\n",
            "float32\n"
          ]
        }
      ],
      "source": [
        "print(a.astype(\"float32\"))\n",
        "print(a.astype(\"float32\").dtype)"
      ]
    },
    {
      "cell_type": "code",
      "execution_count": 27,
      "metadata": {},
      "outputs": [
        {
          "name": "stdout",
          "output_type": "stream",
          "text": [
            "[1 2 3]\n",
            "int32\n"
          ]
        }
      ],
      "source": [
        "b = np.array([1.5, 2.5, 3.5], dtype=np.int32)\n",
        "print(b)\n",
        "print(b.dtype)"
      ]
    },
    {
      "cell_type": "markdown",
      "metadata": {
        "id": "18e8V8elL9ik"
      },
      "source": [
        "### Element-gewijze operaties"
      ]
    },
    {
      "cell_type": "code",
      "execution_count": 28,
      "metadata": {},
      "outputs": [
        {
          "name": "stdout",
          "output_type": "stream",
          "text": [
            "a: [[1. 2.]\n",
            " [3. 4.]]\n",
            "\n",
            "a * 3: [[ 3.  6.]\n",
            " [ 9. 12.]]\n"
          ]
        }
      ],
      "source": [
        "a = np.array([[1, 2], [3, 4]], dtype=np.float64)\n",
        "print(f\"a: {a}\\n\")\n",
        "print(f\"a * 3: {a * 3}\")"
      ]
    },
    {
      "cell_type": "code",
      "execution_count": 29,
      "metadata": {},
      "outputs": [
        {
          "name": "stdout",
          "output_type": "stream",
          "text": [
            "a - 3: [[-2. -1.]\n",
            " [ 0.  1.]]\n"
          ]
        }
      ],
      "source": [
        "print(f\"a - 3: {a - 3}\")"
      ]
    },
    {
      "cell_type": "code",
      "execution_count": 30,
      "metadata": {},
      "outputs": [
        {
          "name": "stdout",
          "output_type": "stream",
          "text": [
            "b: [[5. 6.]\n",
            " [7. 8.]]\n",
            "\n",
            "a + b: [[ 6.  8.]\n",
            " [10. 12.]]\n"
          ]
        }
      ],
      "source": [
        "b = np.array([[5, 6], [7, 8]], dtype=np.float64)\n",
        "print(f\"b: {b}\\n\")\n",
        "print(f\"a + b: {a + b}\")"
      ]
    },
    {
      "cell_type": "code",
      "execution_count": null,
      "metadata": {},
      "outputs": [
        {
          "name": "stdout",
          "output_type": "stream",
          "text": [
            "a: [[1. 2.]\n",
            " [3. 4.]]\n",
            "\n",
            "b: [[5. 6.]\n",
            " [7. 8.]]\n",
            "\n",
            "a*b: [[ 5. 12.]\n",
            " [21. 32.]]\n"
          ]
        }
      ],
      "source": [
        "print(f\"a: {a}\\n\")\n",
        "print(f\"b: {b}\\n\")\n",
        "print(f\"a*b: {a * b}\")  # Elementwise of \"Hadamard\" product"
      ]
    },
    {
      "cell_type": "markdown",
      "metadata": {},
      "source": [
        "### Dot product\n",
        ":::{warning}\n",
        "Het dot product van 2 arrays is niet gewoon `a*b` (wat het Hadamard product geeft). Voor het dot product of matrix multiplicatie gebruik je `a.dot(b)` of `a @ b`.\n",
        ":::"
      ]
    },
    {
      "cell_type": "code",
      "execution_count": 32,
      "metadata": {},
      "outputs": [
        {
          "name": "stdout",
          "output_type": "stream",
          "text": [
            "a: [ 9 10]\n",
            "\n",
            "b: [11 12]\n",
            "\n",
            "aTb: 219\n"
          ]
        }
      ],
      "source": [
        "a = np.array([9, 10])\n",
        "b = np.array([11, 12])\n",
        "\n",
        "print(f\"a: {a}\\n\")\n",
        "print(f\"b: {b}\\n\")\n",
        "print(f\"aTb: {a.dot(b)}\")"
      ]
    },
    {
      "cell_type": "code",
      "execution_count": 33,
      "metadata": {},
      "outputs": [
        {
          "name": "stdout",
          "output_type": "stream",
          "text": [
            "aTb: 219\n"
          ]
        }
      ],
      "source": [
        "print(f\"aTb: {a[0] * b[0] + a[1] * b[1]}\")"
      ]
    },
    {
      "cell_type": "code",
      "execution_count": 34,
      "metadata": {},
      "outputs": [
        {
          "name": "stdout",
          "output_type": "stream",
          "text": [
            "aTb: 219\n"
          ]
        }
      ],
      "source": [
        "# Alternative syntax for matrix multiplication\n",
        "print(f\"aTb: {a @ b}\")"
      ]
    },
    {
      "cell_type": "code",
      "execution_count": 35,
      "metadata": {
        "colab": {
          "base_uri": "https://localhost:8080/",
          "height": 52
        },
        "id": "I3FnmoSeL9iu",
        "outputId": "46f4575a-2e5e-4347-a34e-0cc5bd280110"
      },
      "outputs": [
        {
          "name": "stdout",
          "output_type": "stream",
          "text": [
            "a: [[1 2]\n",
            " [3 4]\n",
            " [5 7]]\n",
            "\n",
            "b: [[ 5  6]\n",
            " [ 7  8]\n",
            " [10 11]]\n",
            "\n"
          ]
        },
        {
          "ename": "ValueError",
          "evalue": "matmul: Input operand 1 has a mismatch in its core dimension 0, with gufunc signature (n?,k),(k,m?)->(n?,m?) (size 3 is different from 2)",
          "output_type": "error",
          "traceback": [
            "\u001b[0;31m---------------------------------------------------------------------------\u001b[0m",
            "\u001b[0;31mValueError\u001b[0m                                Traceback (most recent call last)",
            "Cell \u001b[0;32mIn[35], line 6\u001b[0m\n\u001b[1;32m      4\u001b[0m \u001b[38;5;28mprint\u001b[39m(\u001b[38;5;124mf\u001b[39m\u001b[38;5;124m\"\u001b[39m\u001b[38;5;124ma: \u001b[39m\u001b[38;5;132;01m{\u001b[39;00ma\u001b[38;5;132;01m}\u001b[39;00m\u001b[38;5;130;01m\\n\u001b[39;00m\u001b[38;5;124m\"\u001b[39m)\n\u001b[1;32m      5\u001b[0m \u001b[38;5;28mprint\u001b[39m(\u001b[38;5;124mf\u001b[39m\u001b[38;5;124m\"\u001b[39m\u001b[38;5;124mb: \u001b[39m\u001b[38;5;132;01m{\u001b[39;00mb\u001b[38;5;132;01m}\u001b[39;00m\u001b[38;5;130;01m\\n\u001b[39;00m\u001b[38;5;124m\"\u001b[39m)\n\u001b[0;32m----> 6\u001b[0m \u001b[38;5;28mprint\u001b[39m(\u001b[38;5;124mf\u001b[39m\u001b[38;5;124m\"\u001b[39m\u001b[38;5;124maTb: \u001b[39m\u001b[38;5;132;01m{\u001b[39;00m\u001b[43ma\u001b[49m\u001b[38;5;250;43m \u001b[39;49m\u001b[38;5;241;43m@\u001b[39;49m\u001b[38;5;250;43m \u001b[39;49m\u001b[43mb\u001b[49m\u001b[38;5;132;01m}\u001b[39;00m\u001b[38;5;124m\"\u001b[39m)\n",
            "\u001b[0;31mValueError\u001b[0m: matmul: Input operand 1 has a mismatch in its core dimension 0, with gufunc signature (n?,k),(k,m?)->(n?,m?) (size 3 is different from 2)"
          ]
        }
      ],
      "source": [
        "a = np.array([[1, 2], [3, 4], [5, 7]])\n",
        "b = np.array([[5, 6], [7, 8], [10, 11]])\n",
        "\n",
        "print(f\"a: {a}\\n\")\n",
        "print(f\"b: {b}\\n\")\n",
        "print(f\"aTb: {a @ b}\")"
      ]
    },
    {
      "cell_type": "code",
      "execution_count": 36,
      "metadata": {
        "colab": {
          "base_uri": "https://localhost:8080/",
          "height": 34
        },
        "id": "vyrWA-mXSdtt",
        "outputId": "a9aae545-2c93-4649-b220-b097655955f6"
      },
      "outputs": [
        {
          "name": "stdout",
          "output_type": "stream",
          "text": [
            "aTb: [[ 76  85]\n",
            " [108 121]]\n"
          ]
        }
      ],
      "source": [
        "print(f\"aTb: {a.T @ b}\")"
      ]
    },
    {
      "cell_type": "markdown",
      "metadata": {
        "id": "LinearAlgebraSection"
      },
      "source": [
        "## Lineaire algebra met Numpy\n",
        "\n",
        "Numpy biedt krachtige functies voor lineaire algebra operaties die essentieel zijn voor machine learning. Hier zijn enkele belangrijke functies."
      ]
    },
    {
      "cell_type": "markdown",
      "metadata": {
        "id": "VectorNorms"
      },
      "source": [
        "### Vector en matrix Normen\n",
        "\n",
        "De norm van een vector of matrix is een maat voor de \"grootte\". De meest gebruikte normen zijn:"
      ]
    },
    {
      "cell_type": "code",
      "execution_count": 37,
      "metadata": {
        "id": "NormExamples"
      },
      "outputs": [
        {
          "name": "stdout",
          "output_type": "stream",
          "text": [
            "Vector: [3 4]\n",
            "L2 norm (Euclidean): 5.0\n",
            "L1 norm (Manhattan): 7.0\n",
            "L∞ norm (Maximum): 4.0\n",
            "\n",
            "Matrix:\n",
            "[[1 2]\n",
            " [3 4]]\n",
            "Frobenius norm: 5.477225575051661\n"
          ]
        }
      ],
      "source": [
        "# Vector normen\n",
        "v = np.array([3, 4])\n",
        "print(f\"Vector: {v}\")\n",
        "print(f\"L2 norm (Euclidean): {np.linalg.norm(v)}\")\n",
        "print(f\"L1 norm (Manhattan): {np.linalg.norm(v, ord=1)}\")\n",
        "print(f\"L∞ norm (Maximum): {np.linalg.norm(v, ord=np.inf)}\")\n",
        "\n",
        "# Matrix normen\n",
        "A = np.array([[1, 2], [3, 4]])\n",
        "print(f\"\\nMatrix:\\n{A}\")\n",
        "print(f\"Frobenius norm: {np.linalg.norm(A, 'fro')}\")"
      ]
    },
    {
      "cell_type": "markdown",
      "metadata": {
        "id": "Determinant"
      },
      "source": [
        "### Determinant\n",
        "\n",
        "De determinant van een matrix geeft informatie over de lineaire transformatie die de matrix representeert."
      ]
    },
    {
      "cell_type": "code",
      "execution_count": 38,
      "metadata": {
        "id": "DetExample"
      },
      "outputs": [
        {
          "name": "stdout",
          "output_type": "stream",
          "text": [
            "Matrix A:\n",
            "[[1 2]\n",
            " [3 4]]\n",
            "Determinant: -2.0000000000000004\n",
            "\n",
            "Matrix B:\n",
            "[[1 2]\n",
            " [2 4]]\n",
            "Determinant: 0.0 (singulier!)\n"
          ]
        }
      ],
      "source": [
        "A = np.array([[1, 2], [3, 4]])\n",
        "det_A = np.linalg.det(A)\n",
        "print(f\"Matrix A:\\n{A}\")\n",
        "print(f\"Determinant: {det_A}\")\n",
        "\n",
        "# Een matrix met determinant 0 is singulier (niet inverteerbaar)\n",
        "B = np.array([[1, 2], [2, 4]])\n",
        "det_B = np.linalg.det(B)\n",
        "print(f\"\\nMatrix B:\\n{B}\")\n",
        "print(f\"Determinant: {det_B} (singulier!)\")"
      ]
    },
    {
      "cell_type": "markdown",
      "metadata": {
        "id": "MatrixInverse"
      },
      "source": [
        "### Matrix inverse\n",
        "\n",
        "De inverse van een matrix A is een matrix A⁻¹ zodat A⁻¹A = I (identiteitsmatrix):"
      ]
    },
    {
      "cell_type": "code",
      "execution_count": null,
      "metadata": {
        "id": "InverseExample"
      },
      "outputs": [
        {
          "name": "stdout",
          "output_type": "stream",
          "text": [
            "Matrix A:\n",
            "[[1 2]\n",
            " [3 4]]\n",
            "\n",
            "Inverse A⁻¹:\n",
            "[[-2.   1. ]\n",
            " [ 1.5 -0.5]]\n",
            "\n",
            "A × A⁻¹ (should be identity):\n",
            "[[1.0000000e+00 0.0000000e+00]\n",
            " [8.8817842e-16 1.0000000e+00]]\n",
            "\n",
            "Identity matrix:\n",
            "[[1. 0.]\n",
            " [0. 1.]]\n"
          ]
        }
      ],
      "source": [
        "A = np.array([[1, 2], [3, 4]])\n",
        "A_inv = np.linalg.inv(A)\n",
        "\n",
        "print(f\"Matrix A:\\n{A}\")\n",
        "print(f\"\\nInverse A⁻¹:\\n{A_inv}\")\n",
        "\n",
        "# Verificatie: A⁻¹A should be identity matrix\n",
        "identity_check = A @ A_inv\n",
        "print(f\"\\nA × A⁻¹ (should be identity):\\n{identity_check}\")\n",
        "print(f\"\\nIdentity matrix:\\n{np.eye(2)}\")"
      ]
    },
    {
      "cell_type": "markdown",
      "metadata": {
        "id": "EigenValues"
      },
      "source": [
        "### Eigenwaarden en Eigenvectoren\n",
        "\n",
        "Eigenwaarden en eigenvectoren zijn fundamenteel in lineaire algebra en machine learning."
      ]
    },
    {
      "cell_type": "code",
      "execution_count": 40,
      "metadata": {
        "id": "EigenExample"
      },
      "outputs": [
        {
          "name": "stdout",
          "output_type": "stream",
          "text": [
            "Matrix A:\n",
            "[[4 2]\n",
            " [1 3]]\n",
            "\n",
            "Eigenwaarden: [5. 2.]\n",
            "\n",
            "Eigenvectoren:\n",
            "[[ 0.89442719 -0.70710678]\n",
            " [ 0.4472136   0.70710678]]\n",
            "\n",
            "Eigenwaarde 1: 5.000\n",
            "A × v = [4.47213595 2.23606798]\n",
            "λ × v = [4.47213595 2.23606798]\n",
            "Verschil: True\n",
            "\n",
            "Eigenwaarde 2: 2.000\n",
            "A × v = [-1.41421356  1.41421356]\n",
            "λ × v = [-1.41421356  1.41421356]\n",
            "Verschil: True\n"
          ]
        }
      ],
      "source": [
        "A = np.array([[4, 2], [1, 3]])\n",
        "eigenvalues, eigenvectors = np.linalg.eig(A)\n",
        "\n",
        "print(f\"Matrix A:\\n{A}\")\n",
        "print(f\"\\nEigenwaarden: {eigenvalues}\")\n",
        "print(f\"\\nEigenvectoren:\\n{eigenvectors}\")\n",
        "\n",
        "# Verificatie: A × v = λ × v voor elke eigenwaarde λ en eigenvector v\n",
        "for i in range(len(eigenvalues)):\n",
        "    lambda_i = eigenvalues[i]\n",
        "    v_i = eigenvectors[:, i]\n",
        "\n",
        "    left_side = A @ v_i\n",
        "    right_side = lambda_i * v_i\n",
        "\n",
        "    print(f\"\\nEigenwaarde {i + 1}: {lambda_i:.3f}\")\n",
        "    print(f\"A × v = {left_side}\")\n",
        "    print(f\"λ × v = {right_side}\")\n",
        "    print(f\"Verschil: {np.allclose(left_side, right_side)}\")"
      ]
    },
    {
      "cell_type": "markdown",
      "metadata": {
        "id": "LinearSystems"
      },
      "source": [
        "### Stelsels van lineaire vergelijkingen oplossen\n",
        "\n",
        "Voor het oplossen van lineaire systemen van de vorm Ax = b:"
      ]
    },
    {
      "cell_type": "code",
      "execution_count": 41,
      "metadata": {
        "id": "LinearSystemExample"
      },
      "outputs": [
        {
          "name": "stdout",
          "output_type": "stream",
          "text": [
            "Coëfficiënten matrix A:\n",
            "[[2 3]\n",
            " [1 4]]\n",
            "Constanten vector b: [7 6]\n",
            "Oplossing x: [2. 1.]\n",
            "\n",
            "Verificatie A × x = [7. 6.]\n",
            "Should equal b = [7 6]\n",
            "Correct: True\n"
          ]
        }
      ],
      "source": [
        "# Stel we hebben het systeem:\n",
        "# 2x + 3y = 7\n",
        "# x + 4y = 6\n",
        "\n",
        "A = np.array([[2, 3], [1, 4]])\n",
        "b = np.array([7, 6])\n",
        "\n",
        "# Oplossen met np.linalg.solve\n",
        "x = np.linalg.solve(A, b)\n",
        "print(f\"Coëfficiënten matrix A:\\n{A}\")\n",
        "print(f\"Constanten vector b: {b}\")\n",
        "print(f\"Oplossing x: {x}\")\n",
        "\n",
        "# Verificatie\n",
        "verification = A @ x\n",
        "print(f\"\\nVerificatie A × x = {verification}\")\n",
        "print(f\"Should equal b = {b}\")\n",
        "print(f\"Correct: {np.allclose(verification, b)}\")"
      ]
    },
    {
      "cell_type": "markdown",
      "metadata": {
        "id": "SVD"
      },
      "source": [
        "### Singular Value Decomposition (SVD)\n",
        "\n",
        "SVD is een krachtige matrix factorization techniek die veel gebruikt wordt in machine learning."
      ]
    },
    {
      "cell_type": "code",
      "execution_count": 42,
      "metadata": {
        "id": "SVDExample"
      },
      "outputs": [
        {
          "name": "stdout",
          "output_type": "stream",
          "text": [
            "Original matrix A ((4, 3)):\n",
            "[[ 1  2  3]\n",
            " [ 4  5  6]\n",
            " [ 7  8  9]\n",
            " [10 11 12]]\n",
            "\n",
            "U shape: (4, 4)\n",
            "s (singular values): [2.54624074e+01 1.29066168e+00 2.40694596e-15]\n",
            "Vt shape: (3, 3)\n",
            "\n",
            "Reconstructed matrix:\n",
            "[[ 1.  2.  3.]\n",
            " [ 4.  5.  6.]\n",
            " [ 7.  8.  9.]\n",
            " [10. 11. 12.]]\n",
            "\n",
            "Reconstruction accurate: True\n"
          ]
        }
      ],
      "source": [
        "# Maak een voorbeeldmatrix\n",
        "A = np.array([[1, 2, 3], [4, 5, 6], [7, 8, 9], [10, 11, 12]])\n",
        "print(f\"Original matrix A ({A.shape}):\\n{A}\")\n",
        "\n",
        "# SVD: A = U × Σ × V^T\n",
        "U, s, Vt = np.linalg.svd(A)\n",
        "\n",
        "print(f\"\\nU shape: {U.shape}\")\n",
        "print(f\"s (singular values): {s}\")\n",
        "print(f\"Vt shape: {Vt.shape}\")\n",
        "\n",
        "# Reconstructie van de originele matrix\n",
        "# We moeten s omzetten naar een diagonale matrix van de juiste grootte\n",
        "S = np.zeros((U.shape[1], Vt.shape[0]))\n",
        "S[: len(s), : len(s)] = np.diag(s)\n",
        "\n",
        "A_reconstructed = U @ S @ Vt\n",
        "print(f\"\\nReconstructed matrix:\\n{A_reconstructed}\")\n",
        "print(f\"\\nReconstruction accurate: {np.allclose(A, A_reconstructed)}\")"
      ]
    },
    {
      "cell_type": "markdown",
      "metadata": {
        "id": "MatrixRank"
      },
      "source": [
        "### Matrix _rank_\n",
        "\n",
        "De rank van een matrix geeft het aantal lineair onafhankelijke rijen of kolommen aan."
      ]
    },
    {
      "cell_type": "code",
      "execution_count": 43,
      "metadata": {
        "id": "RankExample"
      },
      "outputs": [
        {
          "name": "stdout",
          "output_type": "stream",
          "text": [
            "Matrix A:\n",
            "[[1 2]\n",
            " [3 4]]\n",
            "Rank: 2 (full rank voor 2x2 matrix)\n",
            "\n",
            "Matrix B:\n",
            "[[1 2]\n",
            " [2 4]]\n",
            "Rank: 1 (rank deficient!)\n",
            "\n",
            "Matrix C:\n",
            "[[1 2 3]\n",
            " [4 5 6]\n",
            " [7 8 9]]\n",
            "Rank: 2 (rank deficient voor 3x3 matrix)\n"
          ]
        }
      ],
      "source": [
        "# Full rank matrix\n",
        "A = np.array([[1, 2], [3, 4]])\n",
        "rank_A = np.linalg.matrix_rank(A)\n",
        "print(f\"Matrix A:\\n{A}\")\n",
        "print(f\"Rank: {rank_A} (full rank voor 2x2 matrix)\")\n",
        "\n",
        "# Rank deficient matrix\n",
        "B = np.array([[1, 2], [2, 4]])\n",
        "rank_B = np.linalg.matrix_rank(B)\n",
        "print(f\"\\nMatrix B:\\n{B}\")\n",
        "print(f\"Rank: {rank_B} (rank deficient!)\")\n",
        "\n",
        "# Grotere matrix\n",
        "C = np.array([[1, 2, 3], [4, 5, 6], [7, 8, 9]])\n",
        "rank_C = np.linalg.matrix_rank(C)\n",
        "print(f\"\\nMatrix C:\\n{C}\")\n",
        "print(f\"Rank: {rank_C} (rank deficient voor 3x3 matrix)\")"
      ]
    },
    {
      "cell_type": "markdown",
      "metadata": {
        "id": "Reshaping"
      },
      "source": [
        "### Array _reshaping_ voor lineaire algebra\n",
        "\n",
        "Vaak moeten we arrays hervormen voor matrix operaties."
      ]
    },
    {
      "cell_type": "code",
      "execution_count": 44,
      "metadata": {
        "id": "ReshapeExample"
      },
      "outputs": [
        {
          "name": "stdout",
          "output_type": "stream",
          "text": [
            "Original 1D array: [1 2 3 4] (shape: (4,))\n",
            "\n",
            "Column vector (reshape): \n",
            "[[1]\n",
            " [2]\n",
            " [3]\n",
            " [4]] (shape: (4, 1))\n",
            "\n",
            "Column vector (newaxis): \n",
            "[[1]\n",
            " [2]\n",
            " [3]\n",
            " [4]] (shape: (4, 1))\n",
            "\n",
            "Column vector (expand_dims): \n",
            "[[1]\n",
            " [2]\n",
            " [3]\n",
            " [4]] (shape: (4, 1))\n",
            "\n",
            "Row vector: [[1 2 3 4]] (shape: (1, 4))\n",
            "\n",
            "Matrix:\n",
            "[[1 2]\n",
            " [3 4]]\n",
            "Flattened: [1 2 3 4] (shape: (4,))\n"
          ]
        }
      ],
      "source": [
        "# 1D array naar column vector\n",
        "v = np.array([1, 2, 3, 4])\n",
        "print(f\"Original 1D array: {v} (shape: {v.shape})\")\n",
        "\n",
        "# Verschillende manieren om een column vector te maken\n",
        "col_vector1 = v.reshape(-1, 1)\n",
        "col_vector2 = v[:, np.newaxis]\n",
        "col_vector3 = np.expand_dims(v, axis=1)\n",
        "\n",
        "print(f\"\\nColumn vector (reshape): \\n{col_vector1} (shape: {col_vector1.shape})\")\n",
        "print(f\"\\nColumn vector (newaxis): \\n{col_vector2} (shape: {col_vector2.shape})\")\n",
        "print(f\"\\nColumn vector (expand_dims): \\n{col_vector3} (shape: {col_vector3.shape})\")\n",
        "\n",
        "# Row vector\n",
        "row_vector = v.reshape(1, -1)\n",
        "print(f\"\\nRow vector: {row_vector} (shape: {row_vector.shape})\")\n",
        "\n",
        "# Flatten een matrix terug naar 1D\n",
        "matrix = np.array([[1, 2], [3, 4]])\n",
        "flattened = matrix.flatten()\n",
        "print(f\"\\nMatrix:\\n{matrix}\")\n",
        "print(f\"Flattened: {flattened} (shape: {flattened.shape})\")"
      ]
    }
  ],
  "metadata": {
    "colab": {
      "name": "colab-tutorial.ipynb",
      "provenance": []
    },
    "kernelspec": {
      "display_name": "ml-courses",
      "language": "python",
      "name": "python3"
    },
    "language_info": {
      "codemirror_mode": {
        "name": "ipython",
        "version": 3
      },
      "file_extension": ".py",
      "mimetype": "text/x-python",
      "name": "python",
      "nbconvert_exporter": "python",
      "pygments_lexer": "ipython3",
      "version": "3.10.18"
    }
  },
  "nbformat": 4,
  "nbformat_minor": 0
}
