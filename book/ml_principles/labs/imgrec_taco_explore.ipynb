{
 "cells": [
  {
   "cell_type": "markdown",
   "metadata": {},
   "source": [
    "# TACO dataset: Exploratie\n",
    "\n",
    "## Probleemstelling\n",
    "\n",
    "Bron: [http://tacodataset.org/](http://tacodataset.org/)  \n",
    "  \n",
    "\n",
    "> Humans have been trashing planet Earth from the bottom of Mariana trench to Mount Everest. Every minute, at least 15 tonnes of plastic waste leak into the ocean, that is equivalent to the capacity of one garbage truck. We have all seen the impact of this behaviour to wildlife on images of turtles choking on plastic bags and birds filled with bottle caps. Recent studies have also found microplastics in human stools. These should be kept in the recycling chain not in our food chain. It is time for a revolution.  \n",
    ">   \n",
    "> We believe AI has an important role to play. Think of drones surveying trash, robots picking up litter, anti-littering video surveillance and AR to educate and help humans to separate trash. That is our vision. All of this is now possible with the recent advances of deep learning. ...\n",
    "\n"
   ]
  },
  {
   "cell_type": "code",
   "execution_count": null,
   "metadata": {
    "colab": {
     "base_uri": "https://localhost:8080/"
    },
    "execution": {
     "iopub.execute_input": "2025-04-11T15:36:34.508841Z",
     "iopub.status.busy": "2025-04-11T15:36:34.508595Z",
     "iopub.status.idle": "2025-04-11T15:36:34.513155Z",
     "shell.execute_reply": "2025-04-11T15:36:34.512188Z",
     "shell.execute_reply.started": "2025-04-11T15:36:34.508822Z"
    },
    "outputId": "223e7bea-4d7d-4e85-afa7-046c6338a595",
    "trusted": true
   },
   "outputs": [],
   "source": [
    "import os\n",
    "from pprint import pprint\n",
    "\n",
    "import kagglehub\n",
    "import yaml"
   ]
  },
  {
   "cell_type": "markdown",
   "metadata": {},
   "source": [
    "# Dataset"
   ]
  },
  {
   "cell_type": "code",
   "execution_count": null,
   "metadata": {
    "colab": {
     "base_uri": "https://localhost:8080/"
    },
    "outputId": "a1a66a69-77da-4846-8626-26f41015f417"
   },
   "outputs": [],
   "source": [
    "# Download the dataset\n",
    "path = kagglehub.dataset_download(\"vencerlanz09/taco-dataset-yolo-format\")\n",
    "\n",
    "print(path)"
   ]
  },
  {
   "cell_type": "markdown",
   "metadata": {},
   "source": [
    "# Data exploratie\n",
    "## README's"
   ]
  },
  {
   "cell_type": "code",
   "execution_count": null,
   "metadata": {
    "colab": {
     "base_uri": "https://localhost:8080/"
    },
    "outputId": "8083bd8e-a3d2-466e-9ffc-ff8e62e4ac74"
   },
   "outputs": [],
   "source": [
    "with open(path + \"/README.dataset.txt\") as f:\n",
    "    print(f.read())"
   ]
  },
  {
   "cell_type": "code",
   "execution_count": null,
   "metadata": {
    "colab": {
     "base_uri": "https://localhost:8080/"
    },
    "outputId": "4c003979-4eb5-40ed-fe70-8be442a3981a"
   },
   "outputs": [],
   "source": [
    "with open(path + \"/README.roboflow.txt\") as f:\n",
    "    print(f.read())"
   ]
  },
  {
   "cell_type": "markdown",
   "metadata": {},
   "source": [
    "## Annotatie format\n",
    "The annotations are in YOLOv8 format. The documentation is available from the roboflow website: [https://roboflow.com/formats/yolov8-pytorch-txt](https://roboflow.com/formats/yolov8-pytorch-txt).\n",
    "\n",
    "## Meta data"
   ]
  },
  {
   "cell_type": "code",
   "execution_count": null,
   "metadata": {
    "colab": {
     "base_uri": "https://localhost:8080/"
    },
    "outputId": "5501086b-1432-4a05-d2b3-f590403ac773"
   },
   "outputs": [],
   "source": [
    "with open(path + \"/data.yaml\") as f:\n",
    "    meta = yaml.safe_load(f)\n",
    "\n",
    "# yaml is loaded as a dictionary; using p(retty)print for a nicer output\n",
    "pprint(meta)"
   ]
  },
  {
   "cell_type": "code",
   "execution_count": null,
   "metadata": {
    "colab": {
     "base_uri": "https://localhost:8080/"
    },
    "outputId": "1f362339-1f66-4f3b-8705-6a2fe4eda4d3"
   },
   "outputs": [],
   "source": [
    "# the path to the images needs to be updated\n",
    "# os.listdir(meta[\"train\"]) # this generates a FileNotFoundError\n",
    "\n",
    "meta[\"train\"] = path + \"/train/images\"\n",
    "meta[\"val\"] = path + \"/valid/images\"\n",
    "meta[\"test\"] = path + \"/test/images\"\n",
    "\n",
    "# show the first five image files\n",
    "os.listdir(meta[\"train\"])[:5]"
   ]
  },
  {
   "cell_type": "markdown",
   "metadata": {},
   "source": [
    "## Pandas DataFrame\n",
    "We create a DataFrame to explore the training, validation and test data.  \n",
    "Each image has a `images/*.jpg` and `labels/*.txt` counterpart.  \n",
    "\n",
    "The end result should be a DataFrame with the following columns:\n",
    "- `img_path`: image file path\n",
    "- `subset`: train|valid|test\n",
    "- `class_id`: first element of a line in the corresponding labels file\n",
    "- `center_x`: second element of a line in the corresponding labels file\n",
    "- `center_y`: third element of a line in the corresponding labels file\n",
    "- `width`: fourth element of a line in the corresponding labels file\n",
    "- `height`: fifth element of a line in the corresponding labels file\n"
   ]
  },
  {
   "cell_type": "code",
   "execution_count": null,
   "metadata": {
    "colab": {
     "base_uri": "https://localhost:8080/"
    },
    "outputId": "df925ef0-6bcd-4d54-ccd1-f0772548f750"
   },
   "outputs": [],
   "source": []
  },
  {
   "cell_type": "code",
   "execution_count": null,
   "metadata": {
    "colab": {
     "base_uri": "https://localhost:8080/"
    },
    "outputId": "70182c86-9708-4cfc-e55f-508fd0ab058c"
   },
   "outputs": [],
   "source": [
    "# check the data types"
   ]
  },
  {
   "cell_type": "code",
   "execution_count": null,
   "metadata": {
    "colab": {
     "base_uri": "https://localhost:8080/"
    },
    "outputId": "480788ba-498f-417e-acad-d48d0426913f"
   },
   "outputs": [],
   "source": [
    "# adjust the dtypes"
   ]
  },
  {
   "cell_type": "markdown",
   "metadata": {},
   "source": [
    "## Distributions\n",
    "### Train-validation-test"
   ]
  },
  {
   "cell_type": "code",
   "execution_count": null,
   "metadata": {},
   "outputs": [],
   "source": []
  },
  {
   "cell_type": "markdown",
   "metadata": {},
   "source": [
    "### Labels"
   ]
  },
  {
   "cell_type": "code",
   "execution_count": null,
   "metadata": {},
   "outputs": [],
   "source": []
  },
  {
   "cell_type": "markdown",
   "metadata": {},
   "source": [
    "## Example visualization"
   ]
  },
  {
   "cell_type": "code",
   "execution_count": null,
   "metadata": {
    "colab": {
     "base_uri": "https://localhost:8080/",
     "height": 363
    },
    "outputId": "8f651716-6de4-4f85-d53a-507e1c793d48"
   },
   "outputs": [],
   "source": []
  }
 ],
 "metadata": {
  "colab": {
   "provenance": []
  },
  "kaggle": {
   "accelerator": "gpu",
   "dataSources": [
    {
     "datasetId": 3315500,
     "sourceId": 5768957,
     "sourceType": "datasetVersion"
    }
   ],
   "dockerImageVersionId": 30918,
   "isGpuEnabled": true,
   "isInternetEnabled": false,
   "language": "python",
   "sourceType": "notebook"
  },
  "kernelspec": {
   "display_name": "ml-courses",
   "language": "python",
   "name": "python3"
  },
  "language_info": {
   "codemirror_mode": {
    "name": "ipython",
    "version": 3
   },
   "file_extension": ".py",
   "mimetype": "text/x-python",
   "name": "python",
   "nbconvert_exporter": "python",
   "pygments_lexer": "ipython3",
   "version": "3.10.19"
  }
 },
 "nbformat": 4,
 "nbformat_minor": 0
}
