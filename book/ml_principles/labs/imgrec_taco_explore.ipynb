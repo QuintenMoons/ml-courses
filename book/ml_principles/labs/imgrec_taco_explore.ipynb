{
  "cells": [
    {
      "cell_type": "markdown",
      "metadata": {},
      "source": [
        "# TACO dataset: Exploratie\n",
        "\n",
        "## Probleemstelling\n",
        "\n",
        "Bron: [http://tacodataset.org/](http://tacodataset.org/)  \n",
        "  \n",
        "\n",
        "> Humans have been trashing planet Earth from the bottom of Mariana trench to Mount Everest. Every minute, at least 15 tonnes of plastic waste leak into the ocean, that is equivalent to the capacity of one garbage truck. We have all seen the impact of this behaviour to wildlife on images of turtles choking on plastic bags and birds filled with bottle caps. Recent studies have also found microplastics in human stools. These should be kept in the recycling chain not in our food chain. It is time for a revolution.  \n",
        ">   \n",
        "> We believe AI has an important role to play. Think of drones surveying trash, robots picking up litter, anti-littering video surveillance and AR to educate and help humans to separate trash. That is our vision. All of this is now possible with the recent advances of deep learning. ..."
      ]
    },
    {
      "cell_type": "code",
      "execution_count": null,
      "metadata": {
        "colab": {
          "base_uri": "https://localhost:8080/"
        },
        "execution": {
          "iopub.execute_input": "2025-04-11T15:36:34.508841Z",
          "iopub.status.busy": "2025-04-11T15:36:34.508595Z",
          "iopub.status.idle": "2025-04-11T15:36:34.513155Z",
          "shell.execute_reply": "2025-04-11T15:36:34.512188Z",
          "shell.execute_reply.started": "2025-04-11T15:36:34.508822Z"
        },
        "id": "FB215svG5XFg",
        "outputId": "223e7bea-4d7d-4e85-afa7-046c6338a595",
        "trusted": true
      },
      "outputs": [],
      "source": [
        "import kagglehub"
      ]
    },
    {
      "cell_type": "markdown",
      "metadata": {
        "id": "1ZPe85lj5XFk"
      },
      "source": [
        "# Dataset"
      ]
    },
    {
      "cell_type": "code",
      "execution_count": null,
      "metadata": {
        "colab": {
          "base_uri": "https://localhost:8080/"
        },
        "id": "8qzVWhYv5XFl",
        "outputId": "a1a66a69-77da-4846-8626-26f41015f417"
      },
      "outputs": [],
      "source": [
        "# Download the dataset\n",
        "path = kagglehub.dataset_download(\"vencerlanz09/taco-dataset-yolo-format\")\n",
        "\n",
        "print(path)"
      ]
    },
    {
      "cell_type": "markdown",
      "metadata": {
        "id": "nwboWDXZ8eLT"
      },
      "source": [
        "# Data exploratie"
      ]
    }
  ],
  "metadata": {
    "colab": {
      "provenance": []
    },
    "kaggle": {
      "accelerator": "gpu",
      "dataSources": [
        {
          "datasetId": 3315500,
          "sourceId": 5768957,
          "sourceType": "datasetVersion"
        }
      ],
      "dockerImageVersionId": 30918,
      "isGpuEnabled": true,
      "isInternetEnabled": false,
      "language": "python",
      "sourceType": "notebook"
    },
    "kernelspec": {
      "display_name": "ml-courses",
      "language": "python",
      "name": "python3"
    },
    "language_info": {
      "codemirror_mode": {
        "name": "ipython",
        "version": 3
      },
      "file_extension": ".py",
      "mimetype": "text/x-python",
      "name": "python",
      "nbconvert_exporter": "python",
      "pygments_lexer": "ipython3",
      "version": "3.10.19"
    }
  },
  "nbformat": 4,
  "nbformat_minor": 0
}
