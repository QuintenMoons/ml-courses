{
  "cells": [
    {
      "cell_type": "markdown",
      "metadata": {
        "id": "_oEzBLzSP5Mw"
      },
      "source": [
        "[![](https://img.shields.io/static/v1?message=Open%20in%20Colab&logo=googlecolab&labelColor=grey&color=yellow&logoColor=white&label=%20&style=flat-square)](https://colab.research.google.com/github/ap-mdi-it/ml-courses/blob/main/book/ml_principles/labs/imgrec_taco_train.ipynb)"
      ]
    },
    {
      "cell_type": "markdown",
      "metadata": {
        "id": "NHrqTKgjP5M1"
      },
      "source": [
        "Navigeer naar deze notebook op GitHub: [https://github.com/ap-mdi-it/ml-courses/blob/main/book/ml_principles/labs/imgrec_taco_train](https://github.com/ap-mdi-it/ml-courses/blob/main/book/ml_principles/labs/imgrec_taco_train)  \n",
        "  \n",
        "Via bovenstaande link kan je deze notebook openen in Google Colaboratory. In die omgeving kunnen we gebruik maken van gratis quota voor GPUs (en TPUs). GPU acceleratie is hier sterk aanbevolen voor zowel model training als model inference."
      ]
    },
    {
      "cell_type": "markdown",
      "metadata": {
        "id": "TRYkiFPtP5M3"
      },
      "source": [
        "# Colab setup\n",
        "- Als je de notebook voor het eerst opent op Colab, kies je in het menu rechts bovenaan `Connect > Change runtime type`: `Python 3` en `T4 GPU`.\n",
        "- Pas nadat de GPU Runtime is opgestart ga je verder met onderstaande installatie van het [ultralitics](https://github.com/ultralytics/ultralytics) package.\n",
        "- ⚠️ Bij deze waarschuwing `Warning: This notebook was not authored by Google` selecteer je `Run anyway`."
      ]
    },
    {
      "cell_type": "code",
      "execution_count": null,
      "metadata": {
        "collapsed": true,
        "id": "W3RZhIYPP5M5"
      },
      "outputs": [],
      "source": [
        "!pip install ultralytics"
      ]
    },
    {
      "cell_type": "code",
      "execution_count": null,
      "metadata": {
        "execution": {
          "iopub.execute_input": "2025-04-11T15:36:34.508841Z",
          "iopub.status.busy": "2025-04-11T15:36:34.508595Z",
          "iopub.status.idle": "2025-04-11T15:36:34.513155Z",
          "shell.execute_reply": "2025-04-11T15:36:34.512188Z",
          "shell.execute_reply.started": "2025-04-11T15:36:34.508822Z"
        },
        "id": "tUPPpMVVP5M9",
        "trusted": true
      },
      "outputs": [],
      "source": [
        "import os\n",
        "import shutil\n",
        "from pprint import pprint\n",
        "\n",
        "import kagglehub\n",
        "import yaml\n",
        "from ultralytics import YOLO\n"
      ]
    },
    {
      "cell_type": "code",
      "execution_count": null,
      "metadata": {
        "id": "XFcgXe8gWlHS"
      },
      "outputs": [],
      "source": [
        "# Enable TensorBoard logging\n",
        "!yolo settings datasets_dir=/content/taco\n",
        "!yolo settings tensorboard=True"
      ]
    },
    {
      "cell_type": "markdown",
      "metadata": {
        "id": "Y199tGT3icCn"
      },
      "source": [
        "⚠️ Om bovenstaande aanpassingen in werking te stellen moet je nu de notebook runtime herstarten"
      ]
    },
    {
      "cell_type": "markdown",
      "metadata": {
        "id": "qgzoP3-oP5NB"
      },
      "source": [
        "# Dataset"
      ]
    },
    {
      "cell_type": "code",
      "execution_count": null,
      "metadata": {
        "id": "nPxIWXcdP5ND"
      },
      "outputs": [],
      "source": [
        "# Download the dataset\n",
        "path = kagglehub.dataset_download(\"vencerlanz09/taco-dataset-yolo-format\")\n",
        "\n",
        "print(path)"
      ]
    },
    {
      "cell_type": "code",
      "execution_count": null,
      "metadata": {
        "id": "gmxO5wsgP5NF"
      },
      "outputs": [],
      "source": [
        "# Copy the contents of the directory instead of moving it to avoid root permission issues\n",
        "destination = \"./taco\"\n",
        "if not os.path.exists(destination):\n",
        "    shutil.copytree(path, destination)\n",
        "path = destination\n",
        "print(path)"
      ]
    },
    {
      "cell_type": "code",
      "execution_count": null,
      "metadata": {
        "id": "yNUSRCerP5NI"
      },
      "outputs": [],
      "source": [
        "# Update the meta data (see taco#1.ipynb)\n",
        "with open(path + \"/data.yaml\") as f:\n",
        "    meta = yaml.safe_load(f)\n",
        "\n",
        "# Update image paths\n",
        "meta[\"train\"] = \"./train/images\"\n",
        "meta[\"val\"] = \"./valid/images\"\n",
        "meta[\"test\"] = \"./test/images\"\n",
        "\n",
        "# Swap Bottle cap and Bottle labels (see)\n",
        "bottle_cap_idx = meta[\"names\"].index(\"Bottle cap\")\n",
        "bottle_idx = meta[\"names\"].index(\"Bottle\")\n",
        "meta[\"names\"][bottle_cap_idx], meta[\"names\"][bottle_idx] = (\n",
        "    meta[\"names\"][bottle_idx],\n",
        "    meta[\"names\"][bottle_cap_idx],\n",
        ")\n",
        "\n",
        "# write back to file\n",
        "with open(path + \"/data.yaml\", \"w\") as f:\n",
        "    yaml.dump(meta, f)\n",
        "\n",
        "pprint(meta)"
      ]
    },
    {
      "cell_type": "markdown",
      "metadata": {
        "id": "W5sz5f38P5NJ"
      },
      "source": [
        "# Training (hyper) Parameters"
      ]
    },
    {
      "cell_type": "code",
      "execution_count": null,
      "metadata": {
        "execution": {
          "iopub.execute_input": "2025-04-11T15:37:40.353951Z",
          "iopub.status.busy": "2025-04-11T15:37:40.353719Z",
          "iopub.status.idle": "2025-04-11T15:37:40.357679Z",
          "shell.execute_reply": "2025-04-11T15:37:40.356849Z",
          "shell.execute_reply.started": "2025-04-11T15:37:40.353932Z"
        },
        "id": "XcynQ0wTP5NL",
        "trusted": true
      },
      "outputs": [],
      "source": [
        "# Define training parameters\n",
        "epochs = 30\n",
        "batch_size = 32\n",
        "imgsz = 640  # Image size\n",
        "optimizer_type = \"AdamW\"  # AdamW optimizer (recommended for better regularization)\n",
        "lr = 1e-4\n",
        "weight_decay = 1e-4"
      ]
    },
    {
      "cell_type": "markdown",
      "metadata": {
        "id": "6MoGAfPIP5NL"
      },
      "source": [
        "# Model Training"
      ]
    },
    {
      "cell_type": "code",
      "execution_count": null,
      "metadata": {
        "id": "KCeLDS8DS5rO"
      },
      "outputs": [],
      "source": [
        "# Initialize YOLOv11 model (pre-trained weights)\n",
        "model = YOLO(\"yolov8s.pt\")\n",
        "\n",
        "# check the architecture\n",
        "# print(model)"
      ]
    },
    {
      "cell_type": "code",
      "execution_count": null,
      "metadata": {
        "id": "J8BTuiDmabLd"
      },
      "outputs": [],
      "source": [
        "# Initialize YOLOv11 model (pre-trained weights)\n",
        "model = YOLO(\"yolov8s.pt\")"
      ]
    },
    {
      "cell_type": "markdown",
      "metadata": {
        "id": "1uYq_4rmamJW"
      },
      "source": [
        "Start Tensorboard voor live monitoring."
      ]
    },
    {
      "cell_type": "code",
      "execution_count": null,
      "metadata": {
        "id": "2QxU2dLOak95"
      },
      "outputs": [],
      "source": [
        "%load_ext tensorboard\n",
        "%tensorboard --logdir /content/runs"
      ]
    },
    {
      "cell_type": "code",
      "execution_count": null,
      "metadata": {
        "execution": {
          "iopub.execute_input": "2025-04-11T15:37:40.358856Z",
          "iopub.status.busy": "2025-04-11T15:37:40.358529Z"
        },
        "id": "3k5VbQI5P5NN",
        "trusted": true
      },
      "outputs": [],
      "source": [
        "# Train model with Cosine Annealing learning rate scheduler\n",
        "model.train(\n",
        "    data=path + \"/data.yaml\",\n",
        "    epochs=epochs,\n",
        "    batch=batch_size,\n",
        "    imgsz=imgsz,\n",
        "    optimizer=optimizer_type,\n",
        "    lr0=lr,  # Initial learning rate\n",
        "    weight_decay=weight_decay,\n",
        "    save=True,  # Save the best model\n",
        "    save_period=1,  # Save model every 10 epochs\n",
        "    # val=True,  # Evaluate on validation set\n",
        ")"
      ]
    }
  ],
  "metadata": {
    "accelerator": "GPU",
    "colab": {
      "gpuType": "T4",
      "provenance": []
    },
    "kaggle": {
      "accelerator": "gpu",
      "dataSources": [
        {
          "datasetId": 3315500,
          "sourceId": 5768957,
          "sourceType": "datasetVersion"
        }
      ],
      "dockerImageVersionId": 30918,
      "isGpuEnabled": true,
      "isInternetEnabled": false,
      "language": "python",
      "sourceType": "notebook"
    },
    "kernelspec": {
      "display_name": "Python 3",
      "name": "python3"
    },
    "language_info": {
      "codemirror_mode": {
        "name": "ipython",
        "version": 3
      },
      "file_extension": ".py",
      "mimetype": "text/x-python",
      "name": "python",
      "nbconvert_exporter": "python",
      "pygments_lexer": "ipython3",
      "version": "3.10.19"
    }
  },
  "nbformat": 4,
  "nbformat_minor": 0
}
