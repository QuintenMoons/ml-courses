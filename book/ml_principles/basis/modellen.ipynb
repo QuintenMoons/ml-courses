{
    "cells": [
        {
            "cell_type": "markdown",
            "id": "8f45a80f",
            "metadata": {},
            "source": [
                "# Modellen\n",
                "\n",
                "Om patronen in data te herkennen met machine learning gaan we steeds vertrekken vanuit een _idee over\n",
                "de manier waarop data en variaties in data in een specifiek geval tot stand komen_. Dat idee wordt wiskundig geformaliseerd in een (data) model.\n",
                "\n",
                ":::{note} 🌍\n",
                ":icon: false\n",
                ":class: simple \n",
                "In het voorbeeld van de airco installatie zouden we kunnen vertrekken van een naïef idee waarbij voor iedere gebruiker één *zelfde*\n",
                "ideale drempel temperatuur geldt. We zouden er dan vanuit gaan dat hoewel de verzamelde data variaties vertoont, die variatie gewoon als ruis te beschouwen is.  \n",
                "Dit kunnen we als volgt formeel beschrijven:\n",
                "$$\n",
                "\\begin{aligned}\n",
                "d_i &= b + e_i \\\\\n",
                "E(e_i) &= 0\n",
                "\\end{aligned}\n",
                "$$\n",
                "De tweede vergelijking geeft aan dat $e_i$ een ruis factor is, met als verwachte waarde $0$.  \n",
                "Het patroon in de data waar we naar op zoek zijn is simpelweg gegeven door de *parameter* $b$.\n",
                ":::\n",
                "\n",
                "(target-model)=\n",
                "**Een model is de formele wiskundige beschrijving van de manier waarop data en data-variaties in een specifiek geval tot stand komen**. Wanneer we een dergelijke beschrijving in handen hebben, kunnen we voorspellen welke data _in de toekomst_ tot stand zal komen en dat is het ultieme doel van machine learning.   \n",
                "\n",
                "::: {important}\n",
                "Een model is altijd een sterk **vereenvoudigde beschrijving van de data** omdat\n",
                "1. we nooit over alle informatie beschikken om perfect te weten hoe de data tot stand zijn gekomen, \n",
                "2. we nooit over alle data kunnen beschikken om het perfecte model te trainen en \n",
                "3. het praktische nut, qua schaalbaarheid en transparantie, des te groter wordt naarmate we over een zo eenvoudig mogelijk, maar performant model beschikken.   \n",
                "  \n",
                "(target-modelkeuze)=\n",
                "Zoals we zullen zien, nemen modellen heel diverse vormen aan, naargelang het specifieke domein/probleem waarvoor ze geschikt zijn. Het is ook zo dat voor een gegeven taak, er vaak verschillende types modellen gebruikt kunnen worden - elk met zijn eigen voor- en nadelen. Hoewel in veel domeinen een bepaald type model dominant is, blijft **modelkeuze** vaak een belangrijke stap in de ontwikkeling van machine learning systemen. Die keuze hangt sterk samen met de keuze van het **leeralgoritme**. Het **leeralgoritme verwijst naar de specifieke techniek die gebruikt wordt om door middel van het model patronen te leren herkennen** (of zoals we binnenkort zullen zien: \"_de model parameters te schatten_\").\n",
                ":::"
            ]
        }
    ],
    "metadata": {
        "kernelspec": {
            "display_name": "ml-principles",
            "language": "python",
            "name": "python3"
        },
        "language_info": {
            "codemirror_mode": {
                "name": "ipython",
                "version": 3
            },
            "file_extension": ".py",
            "mimetype": "text/x-python",
            "name": "python",
            "nbconvert_exporter": "python",
            "pygments_lexer": "ipython3",
            "version": "3.10.18"
        }
    },
    "nbformat": 4,
    "nbformat_minor": 5
}
