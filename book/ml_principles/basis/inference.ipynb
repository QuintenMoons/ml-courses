{
    "cells": [
        {
            "cell_type": "markdown",
            "id": "27080f91",
            "metadata": {},
            "source": [
                "# _Inference_\n",
                "\n",
                "Eens een model succesvol getraind is, kan het ingezet worden om **nieuwe inputs te verwerken**. Op dat moment spreken we van **_model inference_** in plaats van training. De enige voorwaarde is dat nieuwe inputs in exact hetzelfde formaat van numerieke features als bij de trainingsfase aangeboden worden."
            ]
        }
    ],
    "metadata": {
        "kernelspec": {
            "display_name": "ml-courses",
            "language": "python",
            "name": "python3"
        },
        "language_info": {
            "codemirror_mode": {
                "name": "ipython",
                "version": 3
            },
            "file_extension": ".py",
            "mimetype": "text/x-python",
            "name": "python",
            "nbconvert_exporter": "python",
            "pygments_lexer": "ipython3",
            "version": "3.10.19"
        }
    },
    "nbformat": 4,
    "nbformat_minor": 5
}
